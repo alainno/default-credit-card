{
 "cells": [
  {
   "cell_type": "markdown",
   "metadata": {
    "colab_type": "text",
    "id": "tMu7Nd6BD3CS"
   },
   "source": [
    "# Trabajo de Grupo\n"
   ]
  },
  {
   "cell_type": "markdown",
   "metadata": {
    "colab_type": "text",
    "id": "0MTzLPzUKpkJ"
   },
   "source": []
  },
  {
   "cell_type": "code",
   "execution_count": 1,
   "metadata": {
    "colab": {},
    "colab_type": "code",
    "id": "sh_pvZyMZiJo"
   },
   "outputs": [],
   "source": [
    "%matplotlib inline\n",
    "\n",
    "import matplotlib.pyplot as plt\n",
    "import seaborn as sns\n",
    "import numpy as np\n",
    "import pandas as pd"
   ]
  },
  {
   "cell_type": "code",
   "execution_count": 2,
   "metadata": {
    "colab": {
     "base_uri": "https://localhost:8080/",
     "height": 469
    },
    "colab_type": "code",
    "id": "S3e_MqdYD3CU",
    "outputId": "58b575e7-326e-47fb-eb03-c078bd92592e"
   },
   "outputs": [
    {
     "name": "stdout",
     "output_type": "stream",
     "text": [
      "Unnamed: 0                            ID\n",
      "X1                             LIMIT_BAL\n",
      "X2                                   SEX\n",
      "X3                             EDUCATION\n",
      "X4                              MARRIAGE\n",
      "X5                                   AGE\n",
      "X6                                 PAY_0\n",
      "X7                                 PAY_2\n",
      "X8                                 PAY_3\n",
      "X9                                 PAY_4\n",
      "X10                                PAY_5\n",
      "X11                                PAY_6\n",
      "X12                            BILL_AMT1\n",
      "X13                            BILL_AMT2\n",
      "X14                            BILL_AMT3\n",
      "X15                            BILL_AMT4\n",
      "X16                            BILL_AMT5\n",
      "X17                            BILL_AMT6\n",
      "X18                             PAY_AMT1\n",
      "X19                             PAY_AMT2\n",
      "X20                             PAY_AMT3\n",
      "X21                             PAY_AMT4\n",
      "X22                             PAY_AMT5\n",
      "X23                             PAY_AMT6\n",
      "Y             default payment next month\n",
      "Name: 0, dtype: object\n"
     ]
    }
   ],
   "source": [
    "#load dataset.\n",
    "#df = pd.read_csv('dataset.txt')\n",
    "df = pd.read_csv('dataset.csv')\n",
    "#df.head()\n",
    "\n",
    "names = df.iloc[0]\n",
    "print(names)\n",
    "# Votar la segunda fila de nombres porque ya existe una cabecera X1, X2, ...\n",
    "df = df.drop(0)"
   ]
  },
  {
   "cell_type": "code",
   "execution_count": 3,
   "metadata": {
    "colab": {
     "base_uri": "https://localhost:8080/",
     "height": 244
    },
    "colab_type": "code",
    "id": "EZyUkN_sMFmM",
    "outputId": "7b64ff99-d26e-459e-8563-74a83ec55272"
   },
   "outputs": [
    {
     "data": {
      "text/html": [
       "<div>\n",
       "<style scoped>\n",
       "    .dataframe tbody tr th:only-of-type {\n",
       "        vertical-align: middle;\n",
       "    }\n",
       "\n",
       "    .dataframe tbody tr th {\n",
       "        vertical-align: top;\n",
       "    }\n",
       "\n",
       "    .dataframe thead th {\n",
       "        text-align: right;\n",
       "    }\n",
       "</style>\n",
       "<table border=\"1\" class=\"dataframe\">\n",
       "  <thead>\n",
       "    <tr style=\"text-align: right;\">\n",
       "      <th></th>\n",
       "      <th>Unnamed: 0</th>\n",
       "      <th>X1</th>\n",
       "      <th>X2</th>\n",
       "      <th>X3</th>\n",
       "      <th>X4</th>\n",
       "      <th>X5</th>\n",
       "      <th>X6</th>\n",
       "      <th>X7</th>\n",
       "      <th>X8</th>\n",
       "      <th>X9</th>\n",
       "      <th>...</th>\n",
       "      <th>X15</th>\n",
       "      <th>X16</th>\n",
       "      <th>X17</th>\n",
       "      <th>X18</th>\n",
       "      <th>X19</th>\n",
       "      <th>X20</th>\n",
       "      <th>X21</th>\n",
       "      <th>X22</th>\n",
       "      <th>X23</th>\n",
       "      <th>Y</th>\n",
       "    </tr>\n",
       "  </thead>\n",
       "  <tbody>\n",
       "    <tr>\n",
       "      <th>1</th>\n",
       "      <td>1</td>\n",
       "      <td>20000</td>\n",
       "      <td>2</td>\n",
       "      <td>2</td>\n",
       "      <td>1</td>\n",
       "      <td>24</td>\n",
       "      <td>2</td>\n",
       "      <td>2</td>\n",
       "      <td>-1</td>\n",
       "      <td>-1</td>\n",
       "      <td>...</td>\n",
       "      <td>0</td>\n",
       "      <td>0</td>\n",
       "      <td>0</td>\n",
       "      <td>0</td>\n",
       "      <td>689</td>\n",
       "      <td>0</td>\n",
       "      <td>0</td>\n",
       "      <td>0</td>\n",
       "      <td>0</td>\n",
       "      <td>1</td>\n",
       "    </tr>\n",
       "    <tr>\n",
       "      <th>2</th>\n",
       "      <td>2</td>\n",
       "      <td>120000</td>\n",
       "      <td>2</td>\n",
       "      <td>2</td>\n",
       "      <td>2</td>\n",
       "      <td>26</td>\n",
       "      <td>-1</td>\n",
       "      <td>2</td>\n",
       "      <td>0</td>\n",
       "      <td>0</td>\n",
       "      <td>...</td>\n",
       "      <td>3272</td>\n",
       "      <td>3455</td>\n",
       "      <td>3261</td>\n",
       "      <td>0</td>\n",
       "      <td>1000</td>\n",
       "      <td>1000</td>\n",
       "      <td>1000</td>\n",
       "      <td>0</td>\n",
       "      <td>2000</td>\n",
       "      <td>1</td>\n",
       "    </tr>\n",
       "    <tr>\n",
       "      <th>3</th>\n",
       "      <td>3</td>\n",
       "      <td>90000</td>\n",
       "      <td>2</td>\n",
       "      <td>2</td>\n",
       "      <td>2</td>\n",
       "      <td>34</td>\n",
       "      <td>0</td>\n",
       "      <td>0</td>\n",
       "      <td>0</td>\n",
       "      <td>0</td>\n",
       "      <td>...</td>\n",
       "      <td>14331</td>\n",
       "      <td>14948</td>\n",
       "      <td>15549</td>\n",
       "      <td>1518</td>\n",
       "      <td>1500</td>\n",
       "      <td>1000</td>\n",
       "      <td>1000</td>\n",
       "      <td>1000</td>\n",
       "      <td>5000</td>\n",
       "      <td>0</td>\n",
       "    </tr>\n",
       "    <tr>\n",
       "      <th>4</th>\n",
       "      <td>4</td>\n",
       "      <td>50000</td>\n",
       "      <td>2</td>\n",
       "      <td>2</td>\n",
       "      <td>1</td>\n",
       "      <td>37</td>\n",
       "      <td>0</td>\n",
       "      <td>0</td>\n",
       "      <td>0</td>\n",
       "      <td>0</td>\n",
       "      <td>...</td>\n",
       "      <td>28314</td>\n",
       "      <td>28959</td>\n",
       "      <td>29547</td>\n",
       "      <td>2000</td>\n",
       "      <td>2019</td>\n",
       "      <td>1200</td>\n",
       "      <td>1100</td>\n",
       "      <td>1069</td>\n",
       "      <td>1000</td>\n",
       "      <td>0</td>\n",
       "    </tr>\n",
       "    <tr>\n",
       "      <th>5</th>\n",
       "      <td>5</td>\n",
       "      <td>50000</td>\n",
       "      <td>1</td>\n",
       "      <td>2</td>\n",
       "      <td>1</td>\n",
       "      <td>57</td>\n",
       "      <td>-1</td>\n",
       "      <td>0</td>\n",
       "      <td>-1</td>\n",
       "      <td>0</td>\n",
       "      <td>...</td>\n",
       "      <td>20940</td>\n",
       "      <td>19146</td>\n",
       "      <td>19131</td>\n",
       "      <td>2000</td>\n",
       "      <td>36681</td>\n",
       "      <td>10000</td>\n",
       "      <td>9000</td>\n",
       "      <td>689</td>\n",
       "      <td>679</td>\n",
       "      <td>0</td>\n",
       "    </tr>\n",
       "  </tbody>\n",
       "</table>\n",
       "<p>5 rows × 25 columns</p>\n",
       "</div>"
      ],
      "text/plain": [
       "  Unnamed: 0      X1 X2 X3 X4  X5  X6 X7  X8  X9  ...    X15    X16    X17  \\\n",
       "1          1   20000  2  2  1  24   2  2  -1  -1  ...      0      0      0   \n",
       "2          2  120000  2  2  2  26  -1  2   0   0  ...   3272   3455   3261   \n",
       "3          3   90000  2  2  2  34   0  0   0   0  ...  14331  14948  15549   \n",
       "4          4   50000  2  2  1  37   0  0   0   0  ...  28314  28959  29547   \n",
       "5          5   50000  1  2  1  57  -1  0  -1   0  ...  20940  19146  19131   \n",
       "\n",
       "    X18    X19    X20   X21   X22   X23  Y  \n",
       "1     0    689      0     0     0     0  1  \n",
       "2     0   1000   1000  1000     0  2000  1  \n",
       "3  1518   1500   1000  1000  1000  5000  0  \n",
       "4  2000   2019   1200  1100  1069  1000  0  \n",
       "5  2000  36681  10000  9000   689   679  0  \n",
       "\n",
       "[5 rows x 25 columns]"
      ]
     },
     "execution_count": 3,
     "metadata": {},
     "output_type": "execute_result"
    }
   ],
   "source": [
    "# Mostrar los datos despues de votar los nombres.\n",
    "#df.set_index('ID', inplace=True)\n",
    "df.head()"
   ]
  },
  {
   "cell_type": "markdown",
   "metadata": {
    "colab_type": "text",
    "id": "lVj0cLntKsZB"
   },
   "source": [
    "## Convertir a numerico."
   ]
  },
  {
   "cell_type": "code",
   "execution_count": 4,
   "metadata": {
    "colab": {
     "base_uri": "https://localhost:8080/",
     "height": 320
    },
    "colab_type": "code",
    "id": "JVS5twdJRD0z",
    "outputId": "684833e4-0fd5-45ae-9c44-03f78cc75ee5"
   },
   "outputs": [
    {
     "data": {
      "text/html": [
       "<div>\n",
       "<style scoped>\n",
       "    .dataframe tbody tr th:only-of-type {\n",
       "        vertical-align: middle;\n",
       "    }\n",
       "\n",
       "    .dataframe tbody tr th {\n",
       "        vertical-align: top;\n",
       "    }\n",
       "\n",
       "    .dataframe thead th {\n",
       "        text-align: right;\n",
       "    }\n",
       "</style>\n",
       "<table border=\"1\" class=\"dataframe\">\n",
       "  <thead>\n",
       "    <tr style=\"text-align: right;\">\n",
       "      <th></th>\n",
       "      <th>Unnamed: 0</th>\n",
       "      <th>X1</th>\n",
       "      <th>X2</th>\n",
       "      <th>X3</th>\n",
       "      <th>X4</th>\n",
       "      <th>X5</th>\n",
       "      <th>X6</th>\n",
       "      <th>X7</th>\n",
       "      <th>X8</th>\n",
       "      <th>X9</th>\n",
       "      <th>...</th>\n",
       "      <th>X15</th>\n",
       "      <th>X16</th>\n",
       "      <th>X17</th>\n",
       "      <th>X18</th>\n",
       "      <th>X19</th>\n",
       "      <th>X20</th>\n",
       "      <th>X21</th>\n",
       "      <th>X22</th>\n",
       "      <th>X23</th>\n",
       "      <th>Y</th>\n",
       "    </tr>\n",
       "  </thead>\n",
       "  <tbody>\n",
       "    <tr>\n",
       "      <th>count</th>\n",
       "      <td>30000.000000</td>\n",
       "      <td>30000.000000</td>\n",
       "      <td>30000.000000</td>\n",
       "      <td>30000.000000</td>\n",
       "      <td>30000.000000</td>\n",
       "      <td>30000.000000</td>\n",
       "      <td>30000.000000</td>\n",
       "      <td>30000.000000</td>\n",
       "      <td>30000.000000</td>\n",
       "      <td>30000.000000</td>\n",
       "      <td>...</td>\n",
       "      <td>30000.000000</td>\n",
       "      <td>30000.000000</td>\n",
       "      <td>30000.000000</td>\n",
       "      <td>30000.000000</td>\n",
       "      <td>3.000000e+04</td>\n",
       "      <td>30000.00000</td>\n",
       "      <td>30000.000000</td>\n",
       "      <td>30000.000000</td>\n",
       "      <td>30000.000000</td>\n",
       "      <td>30000.000000</td>\n",
       "    </tr>\n",
       "    <tr>\n",
       "      <th>mean</th>\n",
       "      <td>15000.500000</td>\n",
       "      <td>167484.322667</td>\n",
       "      <td>1.603733</td>\n",
       "      <td>1.853133</td>\n",
       "      <td>1.551867</td>\n",
       "      <td>35.485500</td>\n",
       "      <td>-0.016700</td>\n",
       "      <td>-0.133767</td>\n",
       "      <td>-0.166200</td>\n",
       "      <td>-0.220667</td>\n",
       "      <td>...</td>\n",
       "      <td>43262.948967</td>\n",
       "      <td>40311.400967</td>\n",
       "      <td>38871.760400</td>\n",
       "      <td>5663.580500</td>\n",
       "      <td>5.921163e+03</td>\n",
       "      <td>5225.68150</td>\n",
       "      <td>4826.076867</td>\n",
       "      <td>4799.387633</td>\n",
       "      <td>5215.502567</td>\n",
       "      <td>0.221200</td>\n",
       "    </tr>\n",
       "    <tr>\n",
       "      <th>std</th>\n",
       "      <td>8660.398374</td>\n",
       "      <td>129747.661567</td>\n",
       "      <td>0.489129</td>\n",
       "      <td>0.790349</td>\n",
       "      <td>0.521970</td>\n",
       "      <td>9.217904</td>\n",
       "      <td>1.123802</td>\n",
       "      <td>1.197186</td>\n",
       "      <td>1.196868</td>\n",
       "      <td>1.169139</td>\n",
       "      <td>...</td>\n",
       "      <td>64332.856134</td>\n",
       "      <td>60797.155770</td>\n",
       "      <td>59554.107537</td>\n",
       "      <td>16563.280354</td>\n",
       "      <td>2.304087e+04</td>\n",
       "      <td>17606.96147</td>\n",
       "      <td>15666.159744</td>\n",
       "      <td>15278.305679</td>\n",
       "      <td>17777.465775</td>\n",
       "      <td>0.415062</td>\n",
       "    </tr>\n",
       "    <tr>\n",
       "      <th>min</th>\n",
       "      <td>1.000000</td>\n",
       "      <td>10000.000000</td>\n",
       "      <td>1.000000</td>\n",
       "      <td>0.000000</td>\n",
       "      <td>0.000000</td>\n",
       "      <td>21.000000</td>\n",
       "      <td>-2.000000</td>\n",
       "      <td>-2.000000</td>\n",
       "      <td>-2.000000</td>\n",
       "      <td>-2.000000</td>\n",
       "      <td>...</td>\n",
       "      <td>-170000.000000</td>\n",
       "      <td>-81334.000000</td>\n",
       "      <td>-339603.000000</td>\n",
       "      <td>0.000000</td>\n",
       "      <td>0.000000e+00</td>\n",
       "      <td>0.00000</td>\n",
       "      <td>0.000000</td>\n",
       "      <td>0.000000</td>\n",
       "      <td>0.000000</td>\n",
       "      <td>0.000000</td>\n",
       "    </tr>\n",
       "    <tr>\n",
       "      <th>25%</th>\n",
       "      <td>7500.750000</td>\n",
       "      <td>50000.000000</td>\n",
       "      <td>1.000000</td>\n",
       "      <td>1.000000</td>\n",
       "      <td>1.000000</td>\n",
       "      <td>28.000000</td>\n",
       "      <td>-1.000000</td>\n",
       "      <td>-1.000000</td>\n",
       "      <td>-1.000000</td>\n",
       "      <td>-1.000000</td>\n",
       "      <td>...</td>\n",
       "      <td>2326.750000</td>\n",
       "      <td>1763.000000</td>\n",
       "      <td>1256.000000</td>\n",
       "      <td>1000.000000</td>\n",
       "      <td>8.330000e+02</td>\n",
       "      <td>390.00000</td>\n",
       "      <td>296.000000</td>\n",
       "      <td>252.500000</td>\n",
       "      <td>117.750000</td>\n",
       "      <td>0.000000</td>\n",
       "    </tr>\n",
       "    <tr>\n",
       "      <th>50%</th>\n",
       "      <td>15000.500000</td>\n",
       "      <td>140000.000000</td>\n",
       "      <td>2.000000</td>\n",
       "      <td>2.000000</td>\n",
       "      <td>2.000000</td>\n",
       "      <td>34.000000</td>\n",
       "      <td>0.000000</td>\n",
       "      <td>0.000000</td>\n",
       "      <td>0.000000</td>\n",
       "      <td>0.000000</td>\n",
       "      <td>...</td>\n",
       "      <td>19052.000000</td>\n",
       "      <td>18104.500000</td>\n",
       "      <td>17071.000000</td>\n",
       "      <td>2100.000000</td>\n",
       "      <td>2.009000e+03</td>\n",
       "      <td>1800.00000</td>\n",
       "      <td>1500.000000</td>\n",
       "      <td>1500.000000</td>\n",
       "      <td>1500.000000</td>\n",
       "      <td>0.000000</td>\n",
       "    </tr>\n",
       "    <tr>\n",
       "      <th>75%</th>\n",
       "      <td>22500.250000</td>\n",
       "      <td>240000.000000</td>\n",
       "      <td>2.000000</td>\n",
       "      <td>2.000000</td>\n",
       "      <td>2.000000</td>\n",
       "      <td>41.000000</td>\n",
       "      <td>0.000000</td>\n",
       "      <td>0.000000</td>\n",
       "      <td>0.000000</td>\n",
       "      <td>0.000000</td>\n",
       "      <td>...</td>\n",
       "      <td>54506.000000</td>\n",
       "      <td>50190.500000</td>\n",
       "      <td>49198.250000</td>\n",
       "      <td>5006.000000</td>\n",
       "      <td>5.000000e+03</td>\n",
       "      <td>4505.00000</td>\n",
       "      <td>4013.250000</td>\n",
       "      <td>4031.500000</td>\n",
       "      <td>4000.000000</td>\n",
       "      <td>0.000000</td>\n",
       "    </tr>\n",
       "    <tr>\n",
       "      <th>max</th>\n",
       "      <td>30000.000000</td>\n",
       "      <td>1000000.000000</td>\n",
       "      <td>2.000000</td>\n",
       "      <td>6.000000</td>\n",
       "      <td>3.000000</td>\n",
       "      <td>79.000000</td>\n",
       "      <td>8.000000</td>\n",
       "      <td>8.000000</td>\n",
       "      <td>8.000000</td>\n",
       "      <td>8.000000</td>\n",
       "      <td>...</td>\n",
       "      <td>891586.000000</td>\n",
       "      <td>927171.000000</td>\n",
       "      <td>961664.000000</td>\n",
       "      <td>873552.000000</td>\n",
       "      <td>1.684259e+06</td>\n",
       "      <td>896040.00000</td>\n",
       "      <td>621000.000000</td>\n",
       "      <td>426529.000000</td>\n",
       "      <td>528666.000000</td>\n",
       "      <td>1.000000</td>\n",
       "    </tr>\n",
       "  </tbody>\n",
       "</table>\n",
       "<p>8 rows × 25 columns</p>\n",
       "</div>"
      ],
      "text/plain": [
       "         Unnamed: 0              X1            X2            X3            X4  \\\n",
       "count  30000.000000    30000.000000  30000.000000  30000.000000  30000.000000   \n",
       "mean   15000.500000   167484.322667      1.603733      1.853133      1.551867   \n",
       "std     8660.398374   129747.661567      0.489129      0.790349      0.521970   \n",
       "min        1.000000    10000.000000      1.000000      0.000000      0.000000   \n",
       "25%     7500.750000    50000.000000      1.000000      1.000000      1.000000   \n",
       "50%    15000.500000   140000.000000      2.000000      2.000000      2.000000   \n",
       "75%    22500.250000   240000.000000      2.000000      2.000000      2.000000   \n",
       "max    30000.000000  1000000.000000      2.000000      6.000000      3.000000   \n",
       "\n",
       "                 X5            X6            X7            X8            X9  \\\n",
       "count  30000.000000  30000.000000  30000.000000  30000.000000  30000.000000   \n",
       "mean      35.485500     -0.016700     -0.133767     -0.166200     -0.220667   \n",
       "std        9.217904      1.123802      1.197186      1.196868      1.169139   \n",
       "min       21.000000     -2.000000     -2.000000     -2.000000     -2.000000   \n",
       "25%       28.000000     -1.000000     -1.000000     -1.000000     -1.000000   \n",
       "50%       34.000000      0.000000      0.000000      0.000000      0.000000   \n",
       "75%       41.000000      0.000000      0.000000      0.000000      0.000000   \n",
       "max       79.000000      8.000000      8.000000      8.000000      8.000000   \n",
       "\n",
       "       ...            X15            X16            X17            X18  \\\n",
       "count  ...   30000.000000   30000.000000   30000.000000   30000.000000   \n",
       "mean   ...   43262.948967   40311.400967   38871.760400    5663.580500   \n",
       "std    ...   64332.856134   60797.155770   59554.107537   16563.280354   \n",
       "min    ... -170000.000000  -81334.000000 -339603.000000       0.000000   \n",
       "25%    ...    2326.750000    1763.000000    1256.000000    1000.000000   \n",
       "50%    ...   19052.000000   18104.500000   17071.000000    2100.000000   \n",
       "75%    ...   54506.000000   50190.500000   49198.250000    5006.000000   \n",
       "max    ...  891586.000000  927171.000000  961664.000000  873552.000000   \n",
       "\n",
       "                X19           X20            X21            X22  \\\n",
       "count  3.000000e+04   30000.00000   30000.000000   30000.000000   \n",
       "mean   5.921163e+03    5225.68150    4826.076867    4799.387633   \n",
       "std    2.304087e+04   17606.96147   15666.159744   15278.305679   \n",
       "min    0.000000e+00       0.00000       0.000000       0.000000   \n",
       "25%    8.330000e+02     390.00000     296.000000     252.500000   \n",
       "50%    2.009000e+03    1800.00000    1500.000000    1500.000000   \n",
       "75%    5.000000e+03    4505.00000    4013.250000    4031.500000   \n",
       "max    1.684259e+06  896040.00000  621000.000000  426529.000000   \n",
       "\n",
       "                 X23             Y  \n",
       "count   30000.000000  30000.000000  \n",
       "mean     5215.502567      0.221200  \n",
       "std     17777.465775      0.415062  \n",
       "min         0.000000      0.000000  \n",
       "25%       117.750000      0.000000  \n",
       "50%      1500.000000      0.000000  \n",
       "75%      4000.000000      0.000000  \n",
       "max    528666.000000      1.000000  \n",
       "\n",
       "[8 rows x 25 columns]"
      ]
     },
     "execution_count": 4,
     "metadata": {},
     "output_type": "execute_result"
    }
   ],
   "source": [
    "#df.describe()\n",
    "for c in df:\n",
    "    df[c] = df[c].astype('int64')\n",
    "df.describe()"
   ]
  },
  {
   "cell_type": "markdown",
   "metadata": {
    "colab_type": "text",
    "id": "HztbIvI8ZPvY"
   },
   "source": [
    "## Agregando nuevas variables"
   ]
  },
  {
   "cell_type": "code",
   "execution_count": 5,
   "metadata": {
    "colab": {
     "base_uri": "https://localhost:8080/",
     "height": 244
    },
    "colab_type": "code",
    "id": "WAnynvhQZLto",
    "outputId": "abfe7ec6-2b22-46ea-b3cd-b7f9a71254d1"
   },
   "outputs": [
    {
     "data": {
      "text/html": [
       "<div>\n",
       "<style scoped>\n",
       "    .dataframe tbody tr th:only-of-type {\n",
       "        vertical-align: middle;\n",
       "    }\n",
       "\n",
       "    .dataframe tbody tr th {\n",
       "        vertical-align: top;\n",
       "    }\n",
       "\n",
       "    .dataframe thead th {\n",
       "        text-align: right;\n",
       "    }\n",
       "</style>\n",
       "<table border=\"1\" class=\"dataframe\">\n",
       "  <thead>\n",
       "    <tr style=\"text-align: right;\">\n",
       "      <th></th>\n",
       "      <th>Unnamed: 0</th>\n",
       "      <th>X1</th>\n",
       "      <th>X2</th>\n",
       "      <th>X3</th>\n",
       "      <th>X4</th>\n",
       "      <th>X5</th>\n",
       "      <th>X6</th>\n",
       "      <th>X7</th>\n",
       "      <th>X8</th>\n",
       "      <th>X9</th>\n",
       "      <th>...</th>\n",
       "      <th>X31</th>\n",
       "      <th>X32</th>\n",
       "      <th>X33</th>\n",
       "      <th>X34</th>\n",
       "      <th>X35</th>\n",
       "      <th>X36</th>\n",
       "      <th>X37</th>\n",
       "      <th>X38</th>\n",
       "      <th>X39</th>\n",
       "      <th>X40</th>\n",
       "    </tr>\n",
       "  </thead>\n",
       "  <tbody>\n",
       "    <tr>\n",
       "      <th>1</th>\n",
       "      <td>1</td>\n",
       "      <td>20000</td>\n",
       "      <td>2</td>\n",
       "      <td>2</td>\n",
       "      <td>1</td>\n",
       "      <td>24</td>\n",
       "      <td>2</td>\n",
       "      <td>2</td>\n",
       "      <td>-1</td>\n",
       "      <td>-1</td>\n",
       "      <td>...</td>\n",
       "      <td>0.034450</td>\n",
       "      <td>0.000000</td>\n",
       "      <td>0.000000</td>\n",
       "      <td>0.000000</td>\n",
       "      <td>0.000000</td>\n",
       "      <td>0.222115</td>\n",
       "      <td>0.000000</td>\n",
       "      <td>0.000000</td>\n",
       "      <td>0.000000</td>\n",
       "      <td>0.000000</td>\n",
       "    </tr>\n",
       "    <tr>\n",
       "      <th>2</th>\n",
       "      <td>2</td>\n",
       "      <td>120000</td>\n",
       "      <td>2</td>\n",
       "      <td>2</td>\n",
       "      <td>2</td>\n",
       "      <td>26</td>\n",
       "      <td>-1</td>\n",
       "      <td>2</td>\n",
       "      <td>0</td>\n",
       "      <td>0</td>\n",
       "      <td>...</td>\n",
       "      <td>0.022350</td>\n",
       "      <td>0.027267</td>\n",
       "      <td>0.028792</td>\n",
       "      <td>0.027175</td>\n",
       "      <td>0.000000</td>\n",
       "      <td>0.579710</td>\n",
       "      <td>0.372856</td>\n",
       "      <td>0.305623</td>\n",
       "      <td>0.000000</td>\n",
       "      <td>0.613309</td>\n",
       "    </tr>\n",
       "    <tr>\n",
       "      <th>3</th>\n",
       "      <td>3</td>\n",
       "      <td>90000</td>\n",
       "      <td>2</td>\n",
       "      <td>2</td>\n",
       "      <td>2</td>\n",
       "      <td>34</td>\n",
       "      <td>0</td>\n",
       "      <td>0</td>\n",
       "      <td>0</td>\n",
       "      <td>0</td>\n",
       "      <td>...</td>\n",
       "      <td>0.150656</td>\n",
       "      <td>0.159233</td>\n",
       "      <td>0.166089</td>\n",
       "      <td>0.172767</td>\n",
       "      <td>0.051917</td>\n",
       "      <td>0.106937</td>\n",
       "      <td>0.073752</td>\n",
       "      <td>0.069779</td>\n",
       "      <td>0.066899</td>\n",
       "      <td>0.321564</td>\n",
       "    </tr>\n",
       "    <tr>\n",
       "      <th>4</th>\n",
       "      <td>4</td>\n",
       "      <td>50000</td>\n",
       "      <td>2</td>\n",
       "      <td>2</td>\n",
       "      <td>1</td>\n",
       "      <td>37</td>\n",
       "      <td>0</td>\n",
       "      <td>0</td>\n",
       "      <td>0</td>\n",
       "      <td>0</td>\n",
       "      <td>...</td>\n",
       "      <td>0.985820</td>\n",
       "      <td>0.566280</td>\n",
       "      <td>0.579180</td>\n",
       "      <td>0.590940</td>\n",
       "      <td>0.042562</td>\n",
       "      <td>0.041859</td>\n",
       "      <td>0.024345</td>\n",
       "      <td>0.038850</td>\n",
       "      <td>0.036914</td>\n",
       "      <td>0.033844</td>\n",
       "    </tr>\n",
       "    <tr>\n",
       "      <th>5</th>\n",
       "      <td>5</td>\n",
       "      <td>50000</td>\n",
       "      <td>1</td>\n",
       "      <td>2</td>\n",
       "      <td>1</td>\n",
       "      <td>57</td>\n",
       "      <td>-1</td>\n",
       "      <td>0</td>\n",
       "      <td>-1</td>\n",
       "      <td>0</td>\n",
       "      <td>...</td>\n",
       "      <td>0.716700</td>\n",
       "      <td>0.418800</td>\n",
       "      <td>0.382920</td>\n",
       "      <td>0.382620</td>\n",
       "      <td>0.232099</td>\n",
       "      <td>6.469312</td>\n",
       "      <td>0.279057</td>\n",
       "      <td>0.429799</td>\n",
       "      <td>0.035987</td>\n",
       "      <td>0.035492</td>\n",
       "    </tr>\n",
       "  </tbody>\n",
       "</table>\n",
       "<p>5 rows × 42 columns</p>\n",
       "</div>"
      ],
      "text/plain": [
       "   Unnamed: 0      X1  X2  X3  X4  X5  X6  X7  X8  X9  ...       X31  \\\n",
       "1           1   20000   2   2   1  24   2   2  -1  -1  ...  0.034450   \n",
       "2           2  120000   2   2   2  26  -1   2   0   0  ...  0.022350   \n",
       "3           3   90000   2   2   2  34   0   0   0   0  ...  0.150656   \n",
       "4           4   50000   2   2   1  37   0   0   0   0  ...  0.985820   \n",
       "5           5   50000   1   2   1  57  -1   0  -1   0  ...  0.716700   \n",
       "\n",
       "        X32       X33       X34       X35       X36       X37       X38  \\\n",
       "1  0.000000  0.000000  0.000000  0.000000  0.222115  0.000000  0.000000   \n",
       "2  0.027267  0.028792  0.027175  0.000000  0.579710  0.372856  0.305623   \n",
       "3  0.159233  0.166089  0.172767  0.051917  0.106937  0.073752  0.069779   \n",
       "4  0.566280  0.579180  0.590940  0.042562  0.041859  0.024345  0.038850   \n",
       "5  0.418800  0.382920  0.382620  0.232099  6.469312  0.279057  0.429799   \n",
       "\n",
       "        X39       X40  \n",
       "1  0.000000  0.000000  \n",
       "2  0.000000  0.613309  \n",
       "3  0.066899  0.321564  \n",
       "4  0.036914  0.033844  \n",
       "5  0.035987  0.035492  \n",
       "\n",
       "[5 rows x 42 columns]"
      ]
     },
     "execution_count": 5,
     "metadata": {},
     "output_type": "execute_result"
    }
   ],
   "source": [
    "#variables para Variación mensual de la deuda, para identificar endeudamiento previo a caer en incumplimienito\n",
    "df['X24']=df['X13']-df['X12']\n",
    "df['X25']=df['X14']-df['X13']\n",
    "df['X26']=df['X15']-df['X14']\n",
    "df['X27']=df['X16']-df['X15']\n",
    "df['X28']=df['X17']-df['X16']\n",
    "\n",
    "#Porcentaje mensual de crédito utilizado\n",
    "df['X29']=df['X12']/df['X1']\n",
    "df['X30']=df['X13']/df['X1']\n",
    "df['X31']=df['X14']/df['X1']\n",
    "df['X32']=df['X15']/df['X1']\n",
    "df['X33']=df['X16']/df['X1']\n",
    "df['X34']=df['X17']/df['X1']\n",
    "\n",
    "#Porcentaje mensual de pago respecto a la deuda\n",
    "df['X35']=(df.X18/df.X12).where((df.X12 > 0)&(df.X18 > 0), 0)\n",
    "df['X36']=(df.X19/df.X13).where((df.X13 > 0)&(df.X19 > 0), 0)\n",
    "df['X37']=(df.X20/df.X14).where((df.X14 > 0)&(df.X20 > 0), 0)\n",
    "df['X38']=(df.X21/df.X15).where((df.X15 > 0)&(df.X21 > 0), 0)\n",
    "df['X39']=(df.X22/df.X16).where((df.X16 > 0)&(df.X22 > 0), 0)\n",
    "df['X40']=(df.X23/df.X17).where((df.X17 > 0)&(df.X23 > 0), 0)\n",
    "\n",
    "df.head()"
   ]
  },
  {
   "cell_type": "markdown",
   "metadata": {
    "colab_type": "text",
    "id": "EXLBnXaJUYBC"
   },
   "source": [
    "## Dividir entre entrenamiento(24,000), validacion(3,000), test (3,000)"
   ]
  },
  {
   "cell_type": "code",
   "execution_count": 6,
   "metadata": {
    "colab": {
     "base_uri": "https://localhost:8080/",
     "height": 34
    },
    "colab_type": "code",
    "id": "YhOQNuVET9gt",
    "outputId": "7a6b3be2-edd3-4b72-ce25-fd85eaaf9166"
   },
   "outputs": [],
   "source": [
    "# Dividir el conjunto en tres: Entrenamiento(24,000), Validacion(3,000), Test (3,000)\n",
    "# 3,000 es suficiente par dar precision de 0.033% en validacion y test\n",
    "# Usamos para todos para que comparamos manzanas con manzanas.\n",
    "\n",
    "X = df.drop('Y', axis=1)\n",
    "y = df['Y']\n",
    "\n",
    "from sklearn.model_selection import train_test_split\n",
    "# Siempre queremos lo mismo conjunto de trainval y test\n",
    "# Entonces random_state = 77\n",
    "X_entrenval, X_test, y_entrenval, y_test = train_test_split(X, y, test_size=3000, random_state=77)"
   ]
  },
  {
   "cell_type": "code",
   "execution_count": 7,
   "metadata": {
    "colab": {
     "base_uri": "https://localhost:8080/",
     "height": 244
    },
    "colab_type": "code",
    "id": "4grfHXWdW_LG",
    "outputId": "6663ff55-485e-40db-c6c7-476eb013004a"
   },
   "outputs": [],
   "source": [
    "# Mejor que permitimos que cambia los conjuntos de train y val\n",
    "# Entonces por casualidad entre entren y val\n",
    "X_entren, X_val, y_entren, y_val = train_test_split(X_entrenval, y_entrenval, test_size=3000)\n",
    "X_entrenval.shape, X_entren.shape, X_val.shape, X_test.shape, y_entrenval.shape, y_entren.shape, y_val.shape, y_test.shape\n",
    "# Reconstruir pandas dataframe solo de los datos de entrenval.\n",
    "dftv = pd.concat([X_entrenval, y_entrenval], axis=1)\n"
   ]
  },
  {
   "cell_type": "markdown",
   "metadata": {
    "colab_type": "text",
    "id": "IHJWOy_6OB0e"
   },
   "source": [
    "## Explorando los Datos"
   ]
  },
  {
   "cell_type": "code",
   "execution_count": 8,
   "metadata": {
    "colab": {
     "base_uri": "https://localhost:8080/",
     "height": 1448
    },
    "colab_type": "code",
    "id": "XRAIOZDAOKeL",
    "outputId": "8267b441-8e40-4464-d6e0-add6d699a231"
   },
   "outputs": [
    {
     "data": {
      "image/png": "[encoded data removed]",
      "text/plain": [
       "<Figure size 432x288 with 1 Axes>"
      ]
     },
     "metadata": {
      "needs_background": "light"
     },
     "output_type": "display_data"
    },
    {
     "data": {
      "image/png": "[encoded data removed]",
      "text/plain": [
       "<Figure size 432x288 with 1 Axes>"
      ]
     },
     "metadata": {
      "needs_background": "light"
     },
     "output_type": "display_data"
    },
    {
     "name": "stdout",
     "output_type": "stream",
     "text": [
      "Monthly Bill Statement Amount\n",
      "count    1.620000e+05\n",
      "mean     4.488606e+04\n",
      "std      6.667883e+04\n",
      "min     -2.090510e+05\n",
      "25%      2.400000e+03\n",
      "50%      1.931500e+04\n",
      "75%      5.715450e+04\n",
      "max      1.664089e+06\n",
      "dtype: float64\n"
     ]
    },
    {
     "data": {
      "image/png": "[encoded data removed]",
      "text/plain": [
       "<Figure size 432x288 with 1 Axes>"
      ]
     },
     "metadata": {
      "needs_background": "light"
     },
     "output_type": "display_data"
    },
    {
     "name": "stdout",
     "output_type": "stream",
     "text": [
      "Monthly Amount of Previous Payment\n",
      "count    1.620000e+05\n",
      "mean     5.272188e+03\n",
      "std      1.788870e+04\n",
      "min      0.000000e+00\n",
      "25%      3.900000e+02\n",
      "50%      1.900000e+03\n",
      "75%      4.524000e+03\n",
      "max      1.684259e+06\n",
      "dtype: float64\n"
     ]
    },
    {
     "data": {
      "image/png": "[encoded data removed]",
      "text/plain": [
       "<Figure size 432x288 with 1 Axes>"
      ]
     },
     "metadata": {
      "needs_background": "light"
     },
     "output_type": "display_data"
    }
   ],
   "source": [
    "import matplotlib.pyplot as plt\n",
    "import numpy as np\n",
    "%matplotlib inline\n",
    "import seaborn\n",
    "\n",
    "dftv.X1.hist()\n",
    "plt.title(\"Limit Balance\")\n",
    "plt.show()\n",
    "\n",
    "X6_11 = dftv.X6.append([dftv.X7, dftv.X8, dftv.X9, dftv.X10, dftv.X11])\n",
    "X6_11.hist()\n",
    "plt.title(\"Coded Payment History\")\n",
    "plt.show()\n",
    "\n",
    "# Histograms de variables mensuales.\n",
    "X12_17 = dftv.X12.append([dftv.X13, dftv.X14, dftv.X15, dftv.X16, dftv.X17])\n",
    "print(\"Monthly Bill Statement Amount\")\n",
    "print(X12_17.describe())\n",
    "plt.axis([-37500, 537500, 0, 70000])\n",
    "binBoundaries = np.linspace(-37500, 537500, 24)\n",
    "binBoundaries[-1] = 2000000\n",
    "X12_17.hist(bins=binBoundaries)\n",
    "plt.title(\"Monthly Bill Statement Amount - All Months\")\n",
    "plt.xlabel(\"Bill Amount\")\n",
    "plt.ylabel(\"Number clients\")\n",
    "plt.show()\n",
    "\n",
    "\n",
    "X18_23 = dftv.X18.append([dftv.X19, dftv.X20, dftv.X21, dftv.X22, dftv.X23])\n",
    "print(\"Monthly Amount of Previous Payment\")\n",
    "print(X18_23.describe())\n",
    "plt.axis([-1000, 43000, 0, 60000])\n",
    "binBoundaries = np.linspace(-1000, 43000, 23)\n",
    "binBoundaries[-1] = 2000000\n",
    "X18_23.hist(bins=binBoundaries)\n",
    "plt.title(\"Monthly Amount of Previous Payment - All Months\")\n",
    "plt.xlabel(\"Payment Amount\")\n",
    "plt.ylabel(\"Number clients\")\n",
    "plt.show()"
   ]
  },
  {
   "cell_type": "code",
   "execution_count": null,
   "metadata": {},
   "outputs": [],
   "source": [
    "# Compensar por oblicuidad de la distribucion del dinero.\n",
    "# Función para aplicar a cualquier X (entran, val, test, entran_os)\n",
    "cols_monto = ['X12', 'X13', 'X14', 'X15', 'X16', 'X17', \n",
    "               'X18', 'X19', 'X20', 'X21', 'X22', 'X23']\n",
    "def sqrt_monto(X):\n",
    "    for x in cols_monto:\n",
    "        #print(x)\n",
    "        X.loc[X[x]>0, x] = np.sqrt(X.loc[X[x]>0, x])\n",
    "        X.loc[X[x]<0, x] = -np.sqrt(np.absolute((X.loc[X[x]<0,x])))\n",
    "\n",
    "X_entren_os_tr = X_entren_os.copy()\n",
    "#print(X_entren_os_tr.describe())\n",
    "sqrt_monto(X_entren_os_tr)\n",
    "#print(X_entren_os_tr.describe())\n",
    "X_val_tr = X_val.copy()\n",
    "sqrt_monto(X_val_tr)\n",
    "\n",
    "# Preparar X_test_tr tambien.\n",
    "X_test_tr = X_test.copy()\n",
    "sqrt_monto(X_test_tr)"
   ]
  },
  {
   "cell_type": "markdown",
   "metadata": {
    "colab_type": "text",
    "id": "eYjhi01YMeLi"
   },
   "source": [
    "## Función de costo adaptado  "
   ]
  },
  {
   "cell_type": "code",
   "execution_count": 9,
   "metadata": {
    "colab": {},
    "colab_type": "code",
    "id": "vpm4Mde0MXKD"
   },
   "outputs": [],
   "source": [
    "# Función de costo y exatitud.\n",
    "import collections\n",
    "from sklearn import metrics\n",
    "\n",
    "\n",
    "def custom_cost(modelo, X, y, printout=True):\n",
    "    predicciones = modelo.predict(X)\n",
    "    return _custom_cost(y, predicciones, printout)\n",
    "    \n",
    "def _custom_cost(y, predicciones, printout=True):\n",
    "\n",
    "    accuracy = metrics.accuracy_score(y, predicciones)\n",
    "    precision = metrics.precision_score(y, predicciones)\n",
    "    recall = metrics.recall_score(y, predicciones)\n",
    "\n",
    "    matriz_confusion = metrics.confusion_matrix(y, predicciones)\n",
    "    # Mapping from http://scikit-learn.org/stable/modules/generated/sklearn.metrics.confusion_matrix.html\n",
    "    # 0 is the negative category.\n",
    "    # rows are the actual values.\n",
    "    # columns are the predicted values.\n",
    "    # So it is just the opposite orientation of +/-.\n",
    "    TN = matriz_confusion[0,0]\n",
    "    FN = matriz_confusion[1,0]\n",
    "    FP = matriz_confusion[0,1]\n",
    "    TP = matriz_confusion[1,1]\n",
    "    # From this we can calculate the other measures.\n",
    "    # If cost for each state, we can calculate overall cost.\n",
    "    # Coefficients de costo.\n",
    "    cTP = -1; cFN = 5; cFP = 1; cTN = 0\n",
    "    todo_costo = cFN*FN + cFP*FP + cTN*TN + cTP*TP\n",
    "    cost = todo_costo/len(y)\n",
    "    \n",
    "    if printout:\n",
    "        print('Exactitud:    ',  accuracy)\n",
    "        print('Precisión:    ', precision)\n",
    "        print('Exhaustividad:', recall)\n",
    "        print('Costo por cliente:', cost)\n",
    "            \n",
    "    quality = collections.namedtuple('Quality', 'accuracy, precision, recall, cost')\n",
    "    return quality(accuracy, precision, recall, cost)\n"
   ]
  },
  {
   "cell_type": "markdown",
   "metadata": {
    "colab_type": "text",
    "id": "fUvFvJdad5Az"
   },
   "source": [
    "## Mostrar probabilidades - empirical (por metodo de Yeh) vs prediccion  "
   ]
  },
  {
   "cell_type": "code",
   "execution_count": 10,
   "metadata": {
    "colab": {},
    "colab_type": "code",
    "id": "HvYIyrYmeRPE"
   },
   "outputs": [],
   "source": [
    "# define the function to estimate empirical probabilities.\n",
    "# returns predicted probability (trimmed by n on both sides)\n",
    "# and empirical probability calculated by Yeh's SMM method.\n",
    "import numpy as np\n",
    "def getPQprobs(y, y_prob, n=50):\n",
    "    frame = { 'y': y, 'y_prob': y_prob } \n",
    "    df = pd.DataFrame(frame)\n",
    "    df = df.sort_values(['y_prob'])\n",
    "    y = df.y\n",
    "    y_prob = df.y_prob\n",
    "    prob_smm = []\n",
    "    denom = 2*n + 1\n",
    "    for i in range(n, len(y)-n):\n",
    "        p = y[i-n:i+n+1].sum()/denom\n",
    "        prob_smm.append(p)\n",
    "    prob_pred = np.array(y_prob[n:len(y)-n])\n",
    "    prob_smm = np.array(prob_smm)\n",
    "    return (prob_pred, prob_smm)\n",
    "\n",
    "# plot actual versus predicted probabilities sorted ascending on predicted.\n",
    "import matplotlib.pyplot as plt\n",
    "%matplotlib inline\n",
    "def plotPQ(prob_emp, prob_pred):\n",
    "    plt.rcParams.update({'font.size': 9})\n",
    "    plt.plot(prob_pred, prob_emp, label= (\"Empirical x Prediccion\") )\n",
    "    plt.xlabel(\"Prob Predicción\")\n",
    "    plt.ylabel(\"Prob Empirical\")\n",
    "    from scipy.stats import entropy\n",
    "    kld = entropy(pk=prob_emp, qk=prob_pred)\n",
    "    from scipy.spatial import distance\n",
    "    jsd = distance.jensenshannon(prob_emp, prob_pred)\n",
    "    plt.title((\"Curva Probabilidades (KL div = %.4f, JS div = %.4f)\" % (kld, jsd)))\n",
    "\n",
    "# Combine the procedures\n",
    "def mostrarPQ(y, y_prob):\n",
    "    prob_pred, prob_smm = getPQprobs(y, y_prob)\n",
    "    plotPQ(prob_smm, prob_pred)\n",
    "\n"
   ]
  },
  {
   "cell_type": "markdown",
   "metadata": {
    "colab_type": "text",
    "id": "yi7KN8z4KK5Z"
   },
   "source": [
    "# Random Forest"
   ]
  },
  {
   "cell_type": "markdown",
   "metadata": {
    "colab_type": "text",
    "id": "6a894vrrKuMy"
   },
   "source": [
    "## Busqueda del Optimo en RandomForest"
   ]
  },
  {
   "cell_type": "code",
   "execution_count": 13,
   "metadata": {
    "colab": {},
    "colab_type": "code",
    "id": "IZ0fwjH7DY9q"
   },
   "outputs": [],
   "source": [
    "# Función para buscar el mejor costo de validacion.\n",
    "import sys\n",
    "from sklearn.ensemble import RandomForestClassifier\n",
    "\n",
    "def imprimirCalidad(calidad):\n",
    "    print('Exactitud:    ',  calidad.accuracy)\n",
    "    print('Precisión:    ', calidad.precision)\n",
    "    print('Exhaustividad:', calidad.recall)\n",
    "    print('Costo por cliente:', calidad.cost)\n",
    "\n",
    "\n",
    "def buscarForest(X_entren, y_entren, X_val, y_val,\n",
    "                 n_est_list=[20], min_imp_dec_list=[0], max_depth_list=[None], printdetail=False):\n",
    "    \n",
    "    _cost = sys.float_info.max\n",
    "    \n",
    "    for n_est in n_est_list:\n",
    "        for min_imp in min_imp_dec_list:\n",
    "            for max_depth in max_depth_list:\n",
    "                bosque = RandomForestClassifier(\n",
    "                    n_estimators=n_est, min_impurity_decrease=min_imp, max_depth=max_depth)\n",
    "                bosque.fit(X_entren, y_entren)\n",
    "\n",
    "                if printdetail:\n",
    "                    print('\\n* Parametros *')\n",
    "                    print('num_estimators =', n_est)\n",
    "                    print('min_impurity_decrease =', min_imp)\n",
    "                    print('max_depth =', max_depth)\n",
    "                    print('\\nEntrenamiento')\n",
    "                    entren_cost = custom_cost(bosque, X_entren, y_entren, True)\n",
    "                    print('\\nValidacion')\n",
    "                    val_cost = custom_cost(bosque, X_val, y_val, True)\n",
    "                else:\n",
    "                    entren_cost = custom_cost(bosque, X_entren, y_entren, False)\n",
    "                    val_cost = custom_cost(bosque, X_val, y_val, False)\n",
    "                    \n",
    "                if _cost > val_cost.cost:\n",
    "                    _cost = val_cost.cost\n",
    "                    _n_est = n_est\n",
    "                    _min_imp = min_imp\n",
    "                    _max_depth = max_depth\n",
    "                    _entren_cost = entren_cost\n",
    "                    _val_cost = val_cost\n",
    "                    _bosque = bosque\n",
    "               \n",
    "    print('\\n*** Summilla - Mejor Resultados ***')\n",
    "    print('\\nParametros:')\n",
    "    print('num_estimators =', _n_est)\n",
    "    print('min_impurity_decrease =', _min_imp)\n",
    "    print('max_depth =', _max_depth)\n",
    "    print('\\nEntrenamiento')\n",
    "    imprimirCalidad(_entren_cost)\n",
    "    print('\\nValidacion')\n",
    "    imprimirCalidad(_val_cost)\n",
    "\n",
    "    print('\\nProbabilidad de no pagar')\n",
    "    y_val_prob = _bosque.predict_proba(X_val)[:,1] # Using probability of category +1\n",
    "    mostrarPQ(y_val, y_val_prob)\n"
   ]
  },
  {
   "cell_type": "code",
   "execution_count": 14,
   "metadata": {
    "colab": {
     "base_uri": "https://localhost:8080/",
     "height": 648
    },
    "colab_type": "code",
    "id": "GaI6C4kBK1ay",
    "outputId": "9fa496ce-1622-4865-cbc6-6795935fd996"
   },
   "outputs": [
    {
     "name": "stdout",
     "output_type": "stream",
     "text": [
      "\n",
      "*** Summilla - Mejor Resultados ***\n",
      "\n",
      "Parametros:\n",
      "num_estimators = 100\n",
      "min_impurity_decrease = 0\n",
      "max_depth = 15\n",
      "\n",
      "Entrenamiento\n",
      "Exactitud:     0.9122083333333333\n",
      "Precisión:     0.9902824172487094\n",
      "Exhaustividad: 0.6111319340329835\n",
      "Costo por cliente: 0.29775\n",
      "\n",
      "Validacion\n",
      "Exactitud:     0.827\n",
      "Precisión:     0.7122905027932961\n",
      "Exhaustividad: 0.38002980625931443\n",
      "Costo por cliente: 0.6426666666666667\n",
      "\n",
      "Probabilidad de no pagar\n"
     ]
    },
    {
     "data": {
      "image/png": "[encoded data removed]",
      "text/plain": [
       "<Figure size 432x288 with 1 Axes>"
      ]
     },
     "metadata": {
      "needs_background": "light"
     },
     "output_type": "display_data"
    }
   ],
   "source": [
    "buscarForest(X_entren, y_entren, X_val, y_val, \n",
    "             n_est_list=[10, 50, 100], \n",
    "             min_imp_dec_list=[0, 0.00003333, 0.0001, 0.0003333], \n",
    "             max_depth_list=[7, 11, 15], printdetail=False)"
   ]
  },
  {
   "cell_type": "markdown",
   "metadata": {
    "colab_type": "text",
    "id": "ooLAwJSC1KW3"
   },
   "source": [
    "# Neural Network using Keras"
   ]
  },
  {
   "cell_type": "code",
   "execution_count": 16,
   "metadata": {
    "colab": {
     "base_uri": "https://localhost:8080/",
     "height": 34
    },
    "colab_type": "code",
    "id": "5eF_cMK61Ubm",
    "outputId": "50298faf-9a27-4126-9ef1-e27e61869ed5"
   },
   "outputs": [
    {
     "name": "stderr",
     "output_type": "stream",
     "text": [
      "Using TensorFlow backend.\n"
     ]
    },
    {
     "name": "stdout",
     "output_type": "stream",
     "text": [
      "Default Ratio : 0.22233333333333333\n"
     ]
    },
    {
     "name": "stderr",
     "output_type": "stream",
     "text": [
      "/home/alain/anaconda3/lib/python3.7/site-packages/sklearn/preprocessing/data.py:645: DataConversionWarning: Data with input dtype int64, float64 were all converted to float64 by StandardScaler.\n",
      "  return self.partial_fit(X, y)\n",
      "/home/alain/anaconda3/lib/python3.7/site-packages/ipykernel_launcher.py:6: DataConversionWarning: Data with input dtype int64, float64 were all converted to float64 by StandardScaler.\n",
      "  \n",
      "/home/alain/anaconda3/lib/python3.7/site-packages/ipykernel_launcher.py:7: DataConversionWarning: Data with input dtype int64, float64 were all converted to float64 by StandardScaler.\n",
      "  import sys\n"
     ]
    }
   ],
   "source": [
    "from sklearn.preprocessing import StandardScaler\n",
    "from keras.utils import to_categorical\n",
    "\n",
    "scaler = StandardScaler()\n",
    "scaler.fit(X_entren)\n",
    "_X_entren = scaler.transform(X_entren)\n",
    "_X_val = scaler.transform(X_val)\n",
    "\n",
    "default = y_entren.sum()\n",
    "ratio = float(default/len(y_entren))\n",
    "print('Default Ratio :',ratio)\n",
    "\n"
   ]
  },
  {
   "cell_type": "code",
   "execution_count": 17,
   "metadata": {
    "colab": {
     "base_uri": "https://localhost:8080/",
     "height": 1411
    },
    "colab_type": "code",
    "id": "5gso9fE21x8Y",
    "outputId": "5e9c45be-e02f-4822-da3d-4af58129b571"
   },
   "outputs": [
    {
     "name": "stdout",
     "output_type": "stream",
     "text": [
      "WARNING:tensorflow:From /home/alain/anaconda3/lib/python3.7/site-packages/tensorflow/python/framework/op_def_library.py:263: colocate_with (from tensorflow.python.framework.ops) is deprecated and will be removed in a future version.\n",
      "Instructions for updating:\n",
      "Colocations handled automatically by placer.\n",
      "WARNING:tensorflow:From /home/alain/anaconda3/lib/python3.7/site-packages/tensorflow/python/ops/math_ops.py:3066: to_int32 (from tensorflow.python.ops.math_ops) is deprecated and will be removed in a future version.\n",
      "Instructions for updating:\n",
      "Use tf.cast instead.\n",
      "Train on 24000 samples, validate on 3000 samples\n",
      "Epoch 1/40\n",
      "24000/24000 [==============================] - 1s 37us/step - loss: 0.4894 - acc: 0.7941 - val_loss: 0.4451 - val_acc: 0.8203\n",
      "Epoch 2/40\n",
      "24000/24000 [==============================] - 1s 27us/step - loss: 0.4498 - acc: 0.8133 - val_loss: 0.4326 - val_acc: 0.8183\n",
      "Epoch 3/40\n",
      "24000/24000 [==============================] - 1s 31us/step - loss: 0.4396 - acc: 0.8168 - val_loss: 0.4281 - val_acc: 0.8210\n",
      "Epoch 4/40\n",
      "24000/24000 [==============================] - 1s 29us/step - loss: 0.4354 - acc: 0.8176 - val_loss: 0.4241 - val_acc: 0.8223\n",
      "Epoch 5/40\n",
      "24000/24000 [==============================] - 1s 29us/step - loss: 0.4307 - acc: 0.8182 - val_loss: 0.4237 - val_acc: 0.8240\n",
      "Epoch 6/40\n",
      "24000/24000 [==============================] - 1s 29us/step - loss: 0.4277 - acc: 0.8196 - val_loss: 0.4222 - val_acc: 0.8240\n",
      "Epoch 7/40\n",
      "24000/24000 [==============================] - 1s 30us/step - loss: 0.4260 - acc: 0.8215 - val_loss: 0.4240 - val_acc: 0.8200\n",
      "Epoch 8/40\n",
      "24000/24000 [==============================] - 1s 29us/step - loss: 0.4248 - acc: 0.8204 - val_loss: 0.4253 - val_acc: 0.8230\n",
      "Epoch 9/40\n",
      "24000/24000 [==============================] - 1s 29us/step - loss: 0.4229 - acc: 0.8211 - val_loss: 0.4220 - val_acc: 0.8267\n",
      "Epoch 10/40\n",
      "24000/24000 [==============================] - 1s 29us/step - loss: 0.4215 - acc: 0.8237 - val_loss: 0.4292 - val_acc: 0.8217\n",
      "Epoch 11/40\n",
      "24000/24000 [==============================] - 1s 30us/step - loss: 0.4204 - acc: 0.8236 - val_loss: 0.4247 - val_acc: 0.8217\n",
      "Epoch 12/40\n",
      "24000/24000 [==============================] - 1s 30us/step - loss: 0.4191 - acc: 0.8239 - val_loss: 0.4242 - val_acc: 0.8243\n",
      "Epoch 13/40\n",
      "24000/24000 [==============================] - 1s 30us/step - loss: 0.4180 - acc: 0.8241 - val_loss: 0.4255 - val_acc: 0.8257\n",
      "Epoch 14/40\n",
      "24000/24000 [==============================] - 1s 29us/step - loss: 0.4174 - acc: 0.8247 - val_loss: 0.4239 - val_acc: 0.8213\n",
      "Epoch 15/40\n",
      "24000/24000 [==============================] - 1s 28us/step - loss: 0.4162 - acc: 0.8245 - val_loss: 0.4274 - val_acc: 0.8227\n",
      "Epoch 16/40\n",
      "24000/24000 [==============================] - 1s 27us/step - loss: 0.4149 - acc: 0.8251 - val_loss: 0.4274 - val_acc: 0.8217\n",
      "Epoch 17/40\n",
      "24000/24000 [==============================] - 1s 29us/step - loss: 0.4146 - acc: 0.8246 - val_loss: 0.4292 - val_acc: 0.8230\n",
      "Epoch 18/40\n",
      "24000/24000 [==============================] - 1s 28us/step - loss: 0.4138 - acc: 0.8259 - val_loss: 0.4245 - val_acc: 0.8247\n",
      "Epoch 19/40\n",
      "24000/24000 [==============================] - 1s 28us/step - loss: 0.4127 - acc: 0.8264 - val_loss: 0.4251 - val_acc: 0.8227\n",
      "Epoch 20/40\n",
      "24000/24000 [==============================] - 1s 28us/step - loss: 0.4117 - acc: 0.8258 - val_loss: 0.4308 - val_acc: 0.8213\n",
      "Epoch 21/40\n",
      "24000/24000 [==============================] - 1s 29us/step - loss: 0.4111 - acc: 0.8274 - val_loss: 0.4265 - val_acc: 0.8190\n",
      "Epoch 22/40\n",
      "24000/24000 [==============================] - 1s 29us/step - loss: 0.4100 - acc: 0.8263 - val_loss: 0.4291 - val_acc: 0.8207\n",
      "Epoch 23/40\n",
      "24000/24000 [==============================] - 1s 29us/step - loss: 0.4092 - acc: 0.8278 - val_loss: 0.4294 - val_acc: 0.8180\n",
      "Epoch 24/40\n",
      "24000/24000 [==============================] - 1s 29us/step - loss: 0.4081 - acc: 0.8271 - val_loss: 0.4328 - val_acc: 0.8203\n",
      "Epoch 25/40\n",
      "24000/24000 [==============================] - 1s 28us/step - loss: 0.4087 - acc: 0.8267 - val_loss: 0.4316 - val_acc: 0.8200\n",
      "Epoch 26/40\n",
      "24000/24000 [==============================] - 1s 29us/step - loss: 0.4071 - acc: 0.8281 - val_loss: 0.4277 - val_acc: 0.8197\n",
      "Epoch 27/40\n",
      "24000/24000 [==============================] - 1s 29us/step - loss: 0.4068 - acc: 0.8278 - val_loss: 0.4311 - val_acc: 0.8213\n",
      "Epoch 28/40\n",
      "24000/24000 [==============================] - 1s 30us/step - loss: 0.4055 - acc: 0.8287 - val_loss: 0.4340 - val_acc: 0.8213\n",
      "Epoch 29/40\n",
      "24000/24000 [==============================] - 1s 30us/step - loss: 0.4060 - acc: 0.8287 - val_loss: 0.4310 - val_acc: 0.8183\n",
      "Epoch 30/40\n",
      "24000/24000 [==============================] - 1s 29us/step - loss: 0.4043 - acc: 0.8293 - val_loss: 0.4332 - val_acc: 0.8133\n",
      "Epoch 31/40\n",
      "24000/24000 [==============================] - 1s 29us/step - loss: 0.4043 - acc: 0.8295 - val_loss: 0.4336 - val_acc: 0.8197\n",
      "Epoch 32/40\n",
      "24000/24000 [==============================] - 1s 29us/step - loss: 0.4033 - acc: 0.8299 - val_loss: 0.4323 - val_acc: 0.8197\n",
      "Epoch 33/40\n",
      "24000/24000 [==============================] - 1s 28us/step - loss: 0.4030 - acc: 0.8297 - val_loss: 0.4340 - val_acc: 0.8207\n",
      "Epoch 34/40\n",
      "24000/24000 [==============================] - 1s 28us/step - loss: 0.4025 - acc: 0.8307 - val_loss: 0.4420 - val_acc: 0.8133\n",
      "Epoch 35/40\n",
      "24000/24000 [==============================] - 1s 28us/step - loss: 0.4019 - acc: 0.8312 - val_loss: 0.4349 - val_acc: 0.8180\n",
      "Epoch 36/40\n",
      "24000/24000 [==============================] - 1s 29us/step - loss: 0.4007 - acc: 0.8310 - val_loss: 0.4336 - val_acc: 0.8177\n",
      "Epoch 37/40\n",
      "24000/24000 [==============================] - 1s 28us/step - loss: 0.4002 - acc: 0.8307 - val_loss: 0.4363 - val_acc: 0.8180\n",
      "Epoch 38/40\n",
      "24000/24000 [==============================] - 1s 28us/step - loss: 0.4004 - acc: 0.8308 - val_loss: 0.4388 - val_acc: 0.8153\n",
      "Epoch 39/40\n",
      "24000/24000 [==============================] - 1s 25us/step - loss: 0.3996 - acc: 0.8305 - val_loss: 0.4388 - val_acc: 0.8160\n",
      "Epoch 40/40\n",
      "24000/24000 [==============================] - 1s 28us/step - loss: 0.3991 - acc: 0.8314 - val_loss: 0.4381 - val_acc: 0.8167\n"
     ]
    },
    {
     "data": {
      "text/plain": [
       "<keras.callbacks.History at 0x7fd05c26ba58>"
      ]
     },
     "execution_count": 17,
     "metadata": {},
     "output_type": "execute_result"
    }
   ],
   "source": [
    "# Deep Learning Libraries\n",
    "from keras.layers import Dense\n",
    "from keras.models import Sequential\n",
    "\n",
    "n_cols = _X_entren.shape[1]\n",
    "\n",
    "model = Sequential()\n",
    "model.add(Dense(32, activation='relu', input_shape = (n_cols,)))\n",
    "model.add(Dense(16, activation='relu'))\n",
    "model.add(Dense(8, activation='relu'))\n",
    "model.add(Dense(1, activation='sigmoid'))\n",
    "\n",
    "model.compile(optimizer='adam',loss='binary_crossentropy', metrics=['acc'])\n",
    "model.fit(_X_entren, y_entren, epochs=40, validation_data=(_X_val, y_val))\n",
    "\n"
   ]
  },
  {
   "cell_type": "code",
   "execution_count": 18,
   "metadata": {
    "colab": {
     "base_uri": "https://localhost:8080/",
     "height": 393
    },
    "colab_type": "code",
    "id": "-qXxRdwl2Ipo",
    "outputId": "5ffbda77-ff23-49ab-eced-272d31e1b2b2"
   },
   "outputs": [
    {
     "name": "stdout",
     "output_type": "stream",
     "text": [
      "** Validación **\n",
      "Exactitud:     0.8166666666666667\n",
      "Precisión:     0.6587926509186351\n",
      "Exhaustividad: 0.3740685543964232\n",
      "Costo por cliente: 0.6596666666666666\n",
      "(3000,) (3000,)\n"
     ]
    },
    {
     "data": {
      "image/png": "[encoded data removed]",
      "text/plain": [
       "<Figure size 432x288 with 1 Axes>"
      ]
     },
     "metadata": {
      "needs_background": "light"
     },
     "output_type": "display_data"
    }
   ],
   "source": [
    "# Check cost measure.\n",
    "# Predict makes 2-D array of (n,1), squeeze it back to vector (n,).\n",
    "print('** Validación **')\n",
    "y_val_prob = np.squeeze(model.predict(_X_val))\n",
    "y_pred = (y_val_prob > 0.5)\n",
    "_custom_cost(y_val, y_pred)\n",
    "\n",
    "#Plot probabilities.\n",
    "print(y_val.shape, y_val_prob.shape)\n",
    "mostrarPQ(y_val, y_val_prob)"
   ]
  },
  {
   "cell_type": "markdown",
   "metadata": {
    "colab": {},
    "colab_type": "code",
    "id": "fgc6BivQ2bhT"
   },
   "source": [
    "# SVM"
   ]
  },
  {
   "cell_type": "code",
   "execution_count": null,
   "metadata": {},
   "outputs": [],
   "source": [
    "from sklearn.svm import SVC\n",
    "\n",
    "svcModel = SVC(kernel='rbf', C=1)\n",
    "svcModel.fit(X_entren, y_entren)"
   ]
  },
  {
   "cell_type": "code",
   "execution_count": null,
   "metadata": {},
   "outputs": [],
   "source": [
    "print('\\nEntrenamiento')\n",
    "custom_cost(svcModel, X_entren, y_entren)"
   ]
  }
 ],
 "metadata": {
  "colab": {
   "name": "CreditDefault.ipynb",
   "provenance": [],
   "version": "0.3.2"
  },
  "kernelspec": {
   "display_name": "Python 3",
   "language": "python",
   "name": "python3"
  },
  "language_info": {
   "codemirror_mode": {
    "name": "ipython",
    "version": 3
   },
   "file_extension": ".py",
   "mimetype": "text/x-python",
   "name": "python",
   "nbconvert_exporter": "python",
   "pygments_lexer": "ipython3",
   "version": "3.7.3"
  }
 },
 "nbformat": 4,
 "nbformat_minor": 2
}
