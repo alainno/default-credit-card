{
 "cells": [
  {
   "cell_type": "code",
   "execution_count": 2,
   "metadata": {},
   "outputs": [],
   "source": [
    "# Función de costo y exatitud.\n",
    "import collections\n",
    "from sklearn import metrics\n",
    "from sklearn.metrics import roc_auc_score\n",
    "\n",
    "\n",
    "def custom_cost(modelo, X, y, printout=True):\n",
    "    predicciones = modelo.predict(X)\n",
    "    return _custom_cost(y, predicciones, printout)\n",
    "    \n",
    "def _custom_cost(y, predicciones, printout=True):\n",
    "\n",
    "    accuracy = metrics.accuracy_score(y, predicciones)\n",
    "    precision = metrics.precision_score(y, predicciones)\n",
    "    recall = metrics.recall_score(y, predicciones)\n",
    "\n",
    "    matriz_confusion = metrics.confusion_matrix(y, predicciones)\n",
    "    # Mapping from http://scikit-learn.org/stable/modules/generated/sklearn.metrics.confusion_matrix.html\n",
    "    # 0 is the negative category.\n",
    "    # rows are the actual values.\n",
    "    # columns are the predicted values.\n",
    "    # So it is just the opposite orientation of +/-.\n",
    "    TN = matriz_confusion[0,0]\n",
    "    FN = matriz_confusion[1,0]\n",
    "    FP = matriz_confusion[0,1]\n",
    "    TP = matriz_confusion[1,1]\n",
    "    \n",
    "    AUC = roc_auc_score(y, predicciones)\n",
    "\n",
    "    # From this we can calculate the other measures.\n",
    "    # If cost for each state, we can calculate overall cost.\n",
    "    # Coefficients de costo.\n",
    "    cTP = -1; cFN = 5; cFP = 1; cTN = 0\n",
    "    todo_costo = cFN*FN + cFP*FP + cTN*TN + cTP*TP\n",
    "    cost = todo_costo/len(y)\n",
    "    \n",
    "    if printout:\n",
    "        print('Exactitud:    ',  accuracy)\n",
    "        print('Precisión:    ', precision)\n",
    "        print('Exhaustividad:', recall)\n",
    "        print('AUC:          ', AUC)\n",
    "        print('Costo por cliente:', cost)\n",
    "            \n",
    "    quality = collections.namedtuple('Quality', 'accuracy, precision, recall, AUC, cost')\n",
    "    return quality(accuracy, precision, recall, AUC, cost)\n"
   ]
  },
  {
   "cell_type": "code",
   "execution_count": null,
   "metadata": {},
   "outputs": [],
   "source": []
  }
 ],
 "metadata": {
  "kernelspec": {
   "display_name": "Python 3",
   "language": "python",
   "name": "python3"
  },
  "language_info": {
   "codemirror_mode": {
    "name": "ipython",
    "version": 3
   },
   "file_extension": ".py",
   "mimetype": "text/x-python",
   "name": "python",
   "nbconvert_exporter": "python",
   "pygments_lexer": "ipython3",
   "version": "3.7.3"
  }
 },
 "nbformat": 4,
 "nbformat_minor": 2
}
