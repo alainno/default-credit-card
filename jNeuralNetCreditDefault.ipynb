{
 "cells": [
  {
   "cell_type": "markdown",
   "metadata": {
    "colab_type": "text",
    "id": "tMu7Nd6BD3CS"
   },
   "source": [
    "# Trabajo de Grupo\n"
   ]
  },
  {
   "cell_type": "markdown",
   "metadata": {
    "colab_type": "text",
    "id": "0MTzLPzUKpkJ"
   },
   "source": []
  },
  {
   "cell_type": "code",
   "execution_count": 92,
   "metadata": {
    "colab": {},
    "colab_type": "code",
    "id": "sh_pvZyMZiJo"
   },
   "outputs": [],
   "source": [
    "%matplotlib inline\n",
    "\n",
    "import matplotlib.pyplot as plt\n",
    "import seaborn as sns\n",
    "import numpy as np\n",
    "import pandas as pd"
   ]
  },
  {
   "cell_type": "code",
   "execution_count": 93,
   "metadata": {
    "colab": {
     "base_uri": "https://localhost:8080/",
     "height": 459
    },
    "colab_type": "code",
    "id": "S3e_MqdYD3CU",
    "outputId": "6366e8ea-1834-471e-9b43-f022a745f37e"
   },
   "outputs": [
    {
     "name": "stdout",
     "output_type": "stream",
     "text": [
      "ID                             ID\n",
      "X1                      LIMIT_BAL\n",
      "X2                            SEX\n",
      "X3                      EDUCATION\n",
      "X4                       MARRIAGE\n",
      "X5                            AGE\n",
      "X6                          PAY_1\n",
      "X7                          PAY_2\n",
      "X8                          PAY_3\n",
      "X9                          PAY_4\n",
      "X10                         PAY_5\n",
      "X11                         PAY_6\n",
      "X12                     BILL_AMT1\n",
      "X13                     BILL_AMT2\n",
      "X14                     BILL_AMT3\n",
      "X15                     BILL_AMT4\n",
      "X16                     BILL_AMT5\n",
      "X17                     BILL_AMT6\n",
      "X18                      PAY_AMT1\n",
      "X19                      PAY_AMT2\n",
      "X20                      PAY_AMT3\n",
      "X21                      PAY_AMT4\n",
      "X22                      PAY_AMT5\n",
      "X23                      PAY_AMT6\n",
      "Y      default payment next month\n",
      "Name: 0, dtype: object\n"
     ]
    }
   ],
   "source": [
    "#load dataset.\n",
    "#df = pd.read_csv('dataset.txt')\n",
    "df = pd.read_csv('dataset.csv')\n",
    "#df.head()\n",
    "\n",
    "names = df.iloc[0]\n",
    "print(names)\n",
    "# Votar la segunda fila de nombres porque ya existe una cabecera X1, X2, ...\n",
    "df = df.drop(0)"
   ]
  },
  {
   "cell_type": "code",
   "execution_count": 94,
   "metadata": {
    "colab": {
     "base_uri": "https://localhost:8080/",
     "height": 244
    },
    "colab_type": "code",
    "id": "EZyUkN_sMFmM",
    "outputId": "28ecb86b-7ca4-43b8-870e-8bb241dd08a8"
   },
   "outputs": [
    {
     "data": {
      "text/html": [
       "<div>\n",
       "<style scoped>\n",
       "    .dataframe tbody tr th:only-of-type {\n",
       "        vertical-align: middle;\n",
       "    }\n",
       "\n",
       "    .dataframe tbody tr th {\n",
       "        vertical-align: top;\n",
       "    }\n",
       "\n",
       "    .dataframe thead th {\n",
       "        text-align: right;\n",
       "    }\n",
       "</style>\n",
       "<table border=\"1\" class=\"dataframe\">\n",
       "  <thead>\n",
       "    <tr style=\"text-align: right;\">\n",
       "      <th></th>\n",
       "      <th>X1</th>\n",
       "      <th>X2</th>\n",
       "      <th>X3</th>\n",
       "      <th>X4</th>\n",
       "      <th>X5</th>\n",
       "      <th>X6</th>\n",
       "      <th>X7</th>\n",
       "      <th>X8</th>\n",
       "      <th>X9</th>\n",
       "      <th>X10</th>\n",
       "      <th>...</th>\n",
       "      <th>X15</th>\n",
       "      <th>X16</th>\n",
       "      <th>X17</th>\n",
       "      <th>X18</th>\n",
       "      <th>X19</th>\n",
       "      <th>X20</th>\n",
       "      <th>X21</th>\n",
       "      <th>X22</th>\n",
       "      <th>X23</th>\n",
       "      <th>Y</th>\n",
       "    </tr>\n",
       "    <tr>\n",
       "      <th>ID</th>\n",
       "      <th></th>\n",
       "      <th></th>\n",
       "      <th></th>\n",
       "      <th></th>\n",
       "      <th></th>\n",
       "      <th></th>\n",
       "      <th></th>\n",
       "      <th></th>\n",
       "      <th></th>\n",
       "      <th></th>\n",
       "      <th></th>\n",
       "      <th></th>\n",
       "      <th></th>\n",
       "      <th></th>\n",
       "      <th></th>\n",
       "      <th></th>\n",
       "      <th></th>\n",
       "      <th></th>\n",
       "      <th></th>\n",
       "      <th></th>\n",
       "      <th></th>\n",
       "    </tr>\n",
       "  </thead>\n",
       "  <tbody>\n",
       "    <tr>\n",
       "      <th>1</th>\n",
       "      <td>20000</td>\n",
       "      <td>2</td>\n",
       "      <td>2</td>\n",
       "      <td>1</td>\n",
       "      <td>24</td>\n",
       "      <td>2</td>\n",
       "      <td>2</td>\n",
       "      <td>-1</td>\n",
       "      <td>-1</td>\n",
       "      <td>-2</td>\n",
       "      <td>...</td>\n",
       "      <td>0</td>\n",
       "      <td>0</td>\n",
       "      <td>0</td>\n",
       "      <td>0</td>\n",
       "      <td>689</td>\n",
       "      <td>0</td>\n",
       "      <td>0</td>\n",
       "      <td>0</td>\n",
       "      <td>0</td>\n",
       "      <td>1</td>\n",
       "    </tr>\n",
       "    <tr>\n",
       "      <th>2</th>\n",
       "      <td>120000</td>\n",
       "      <td>2</td>\n",
       "      <td>2</td>\n",
       "      <td>2</td>\n",
       "      <td>26</td>\n",
       "      <td>-1</td>\n",
       "      <td>2</td>\n",
       "      <td>0</td>\n",
       "      <td>0</td>\n",
       "      <td>0</td>\n",
       "      <td>...</td>\n",
       "      <td>3272</td>\n",
       "      <td>3455</td>\n",
       "      <td>3261</td>\n",
       "      <td>0</td>\n",
       "      <td>1000</td>\n",
       "      <td>1000</td>\n",
       "      <td>1000</td>\n",
       "      <td>0</td>\n",
       "      <td>2000</td>\n",
       "      <td>1</td>\n",
       "    </tr>\n",
       "    <tr>\n",
       "      <th>3</th>\n",
       "      <td>90000</td>\n",
       "      <td>2</td>\n",
       "      <td>2</td>\n",
       "      <td>2</td>\n",
       "      <td>34</td>\n",
       "      <td>0</td>\n",
       "      <td>0</td>\n",
       "      <td>0</td>\n",
       "      <td>0</td>\n",
       "      <td>0</td>\n",
       "      <td>...</td>\n",
       "      <td>14331</td>\n",
       "      <td>14948</td>\n",
       "      <td>15549</td>\n",
       "      <td>1518</td>\n",
       "      <td>1500</td>\n",
       "      <td>1000</td>\n",
       "      <td>1000</td>\n",
       "      <td>1000</td>\n",
       "      <td>5000</td>\n",
       "      <td>0</td>\n",
       "    </tr>\n",
       "    <tr>\n",
       "      <th>4</th>\n",
       "      <td>50000</td>\n",
       "      <td>2</td>\n",
       "      <td>2</td>\n",
       "      <td>1</td>\n",
       "      <td>37</td>\n",
       "      <td>0</td>\n",
       "      <td>0</td>\n",
       "      <td>0</td>\n",
       "      <td>0</td>\n",
       "      <td>0</td>\n",
       "      <td>...</td>\n",
       "      <td>28314</td>\n",
       "      <td>28959</td>\n",
       "      <td>29547</td>\n",
       "      <td>2000</td>\n",
       "      <td>2019</td>\n",
       "      <td>1200</td>\n",
       "      <td>1100</td>\n",
       "      <td>1069</td>\n",
       "      <td>1000</td>\n",
       "      <td>0</td>\n",
       "    </tr>\n",
       "    <tr>\n",
       "      <th>5</th>\n",
       "      <td>50000</td>\n",
       "      <td>1</td>\n",
       "      <td>2</td>\n",
       "      <td>1</td>\n",
       "      <td>57</td>\n",
       "      <td>-1</td>\n",
       "      <td>0</td>\n",
       "      <td>-1</td>\n",
       "      <td>0</td>\n",
       "      <td>0</td>\n",
       "      <td>...</td>\n",
       "      <td>20940</td>\n",
       "      <td>19146</td>\n",
       "      <td>19131</td>\n",
       "      <td>2000</td>\n",
       "      <td>36681</td>\n",
       "      <td>10000</td>\n",
       "      <td>9000</td>\n",
       "      <td>689</td>\n",
       "      <td>679</td>\n",
       "      <td>0</td>\n",
       "    </tr>\n",
       "  </tbody>\n",
       "</table>\n",
       "<p>5 rows × 24 columns</p>\n",
       "</div>"
      ],
      "text/plain": [
       "        X1 X2 X3 X4  X5  X6 X7  X8  X9 X10  ...    X15    X16    X17   X18  \\\n",
       "ID                                          ...                              \n",
       "1    20000  2  2  1  24   2  2  -1  -1  -2  ...      0      0      0     0   \n",
       "2   120000  2  2  2  26  -1  2   0   0   0  ...   3272   3455   3261     0   \n",
       "3    90000  2  2  2  34   0  0   0   0   0  ...  14331  14948  15549  1518   \n",
       "4    50000  2  2  1  37   0  0   0   0   0  ...  28314  28959  29547  2000   \n",
       "5    50000  1  2  1  57  -1  0  -1   0   0  ...  20940  19146  19131  2000   \n",
       "\n",
       "      X19    X20   X21   X22   X23  Y  \n",
       "ID                                     \n",
       "1     689      0     0     0     0  1  \n",
       "2    1000   1000  1000     0  2000  1  \n",
       "3    1500   1000  1000  1000  5000  0  \n",
       "4    2019   1200  1100  1069  1000  0  \n",
       "5   36681  10000  9000   689   679  0  \n",
       "\n",
       "[5 rows x 24 columns]"
      ]
     },
     "execution_count": 94,
     "metadata": {},
     "output_type": "execute_result"
    }
   ],
   "source": [
    "# Mostrar los datos despues de votar los nombres.\n",
    "df.set_index('ID', inplace=True)\n",
    "df.head()"
   ]
  },
  {
   "cell_type": "markdown",
   "metadata": {
    "colab_type": "text",
    "id": "lVj0cLntKsZB"
   },
   "source": [
    "## Convertir a numerico."
   ]
  },
  {
   "cell_type": "code",
   "execution_count": 95,
   "metadata": {
    "colab": {
     "base_uri": "https://localhost:8080/",
     "height": 337
    },
    "colab_type": "code",
    "id": "JVS5twdJRD0z",
    "outputId": "460d6432-c90e-429b-8031-4eac4452a763"
   },
   "outputs": [
    {
     "data": {
      "text/html": [
       "<div>\n",
       "<style scoped>\n",
       "    .dataframe tbody tr th:only-of-type {\n",
       "        vertical-align: middle;\n",
       "    }\n",
       "\n",
       "    .dataframe tbody tr th {\n",
       "        vertical-align: top;\n",
       "    }\n",
       "\n",
       "    .dataframe thead th {\n",
       "        text-align: right;\n",
       "    }\n",
       "</style>\n",
       "<table border=\"1\" class=\"dataframe\">\n",
       "  <thead>\n",
       "    <tr style=\"text-align: right;\">\n",
       "      <th></th>\n",
       "      <th>X1</th>\n",
       "      <th>X2</th>\n",
       "      <th>X3</th>\n",
       "      <th>X4</th>\n",
       "      <th>X5</th>\n",
       "      <th>X6</th>\n",
       "      <th>X7</th>\n",
       "      <th>X8</th>\n",
       "      <th>X9</th>\n",
       "      <th>X10</th>\n",
       "      <th>...</th>\n",
       "      <th>X15</th>\n",
       "      <th>X16</th>\n",
       "      <th>X17</th>\n",
       "      <th>X18</th>\n",
       "      <th>X19</th>\n",
       "      <th>X20</th>\n",
       "      <th>X21</th>\n",
       "      <th>X22</th>\n",
       "      <th>X23</th>\n",
       "      <th>Y</th>\n",
       "    </tr>\n",
       "  </thead>\n",
       "  <tbody>\n",
       "    <tr>\n",
       "      <th>count</th>\n",
       "      <td>30000.000000</td>\n",
       "      <td>30000.000000</td>\n",
       "      <td>30000.000000</td>\n",
       "      <td>30000.000000</td>\n",
       "      <td>30000.000000</td>\n",
       "      <td>30000.000000</td>\n",
       "      <td>30000.000000</td>\n",
       "      <td>30000.000000</td>\n",
       "      <td>30000.000000</td>\n",
       "      <td>30000.000000</td>\n",
       "      <td>...</td>\n",
       "      <td>30000.000000</td>\n",
       "      <td>30000.000000</td>\n",
       "      <td>30000.000000</td>\n",
       "      <td>30000.000000</td>\n",
       "      <td>3.000000e+04</td>\n",
       "      <td>30000.00000</td>\n",
       "      <td>30000.000000</td>\n",
       "      <td>30000.000000</td>\n",
       "      <td>30000.000000</td>\n",
       "      <td>30000.000000</td>\n",
       "    </tr>\n",
       "    <tr>\n",
       "      <th>mean</th>\n",
       "      <td>167484.322667</td>\n",
       "      <td>1.603733</td>\n",
       "      <td>1.853133</td>\n",
       "      <td>1.551867</td>\n",
       "      <td>35.485500</td>\n",
       "      <td>-0.016700</td>\n",
       "      <td>-0.133767</td>\n",
       "      <td>-0.166200</td>\n",
       "      <td>-0.220667</td>\n",
       "      <td>-0.266200</td>\n",
       "      <td>...</td>\n",
       "      <td>43262.948967</td>\n",
       "      <td>40311.400967</td>\n",
       "      <td>38871.760400</td>\n",
       "      <td>5663.580500</td>\n",
       "      <td>5.921163e+03</td>\n",
       "      <td>5225.68150</td>\n",
       "      <td>4826.076867</td>\n",
       "      <td>4799.387633</td>\n",
       "      <td>5215.502567</td>\n",
       "      <td>0.221200</td>\n",
       "    </tr>\n",
       "    <tr>\n",
       "      <th>std</th>\n",
       "      <td>129747.661567</td>\n",
       "      <td>0.489129</td>\n",
       "      <td>0.790349</td>\n",
       "      <td>0.521970</td>\n",
       "      <td>9.217904</td>\n",
       "      <td>1.123802</td>\n",
       "      <td>1.197186</td>\n",
       "      <td>1.196868</td>\n",
       "      <td>1.169139</td>\n",
       "      <td>1.133187</td>\n",
       "      <td>...</td>\n",
       "      <td>64332.856134</td>\n",
       "      <td>60797.155770</td>\n",
       "      <td>59554.107537</td>\n",
       "      <td>16563.280354</td>\n",
       "      <td>2.304087e+04</td>\n",
       "      <td>17606.96147</td>\n",
       "      <td>15666.159744</td>\n",
       "      <td>15278.305679</td>\n",
       "      <td>17777.465775</td>\n",
       "      <td>0.415062</td>\n",
       "    </tr>\n",
       "    <tr>\n",
       "      <th>min</th>\n",
       "      <td>10000.000000</td>\n",
       "      <td>1.000000</td>\n",
       "      <td>0.000000</td>\n",
       "      <td>0.000000</td>\n",
       "      <td>21.000000</td>\n",
       "      <td>-2.000000</td>\n",
       "      <td>-2.000000</td>\n",
       "      <td>-2.000000</td>\n",
       "      <td>-2.000000</td>\n",
       "      <td>-2.000000</td>\n",
       "      <td>...</td>\n",
       "      <td>-170000.000000</td>\n",
       "      <td>-81334.000000</td>\n",
       "      <td>-339603.000000</td>\n",
       "      <td>0.000000</td>\n",
       "      <td>0.000000e+00</td>\n",
       "      <td>0.00000</td>\n",
       "      <td>0.000000</td>\n",
       "      <td>0.000000</td>\n",
       "      <td>0.000000</td>\n",
       "      <td>0.000000</td>\n",
       "    </tr>\n",
       "    <tr>\n",
       "      <th>25%</th>\n",
       "      <td>50000.000000</td>\n",
       "      <td>1.000000</td>\n",
       "      <td>1.000000</td>\n",
       "      <td>1.000000</td>\n",
       "      <td>28.000000</td>\n",
       "      <td>-1.000000</td>\n",
       "      <td>-1.000000</td>\n",
       "      <td>-1.000000</td>\n",
       "      <td>-1.000000</td>\n",
       "      <td>-1.000000</td>\n",
       "      <td>...</td>\n",
       "      <td>2326.750000</td>\n",
       "      <td>1763.000000</td>\n",
       "      <td>1256.000000</td>\n",
       "      <td>1000.000000</td>\n",
       "      <td>8.330000e+02</td>\n",
       "      <td>390.00000</td>\n",
       "      <td>296.000000</td>\n",
       "      <td>252.500000</td>\n",
       "      <td>117.750000</td>\n",
       "      <td>0.000000</td>\n",
       "    </tr>\n",
       "    <tr>\n",
       "      <th>50%</th>\n",
       "      <td>140000.000000</td>\n",
       "      <td>2.000000</td>\n",
       "      <td>2.000000</td>\n",
       "      <td>2.000000</td>\n",
       "      <td>34.000000</td>\n",
       "      <td>0.000000</td>\n",
       "      <td>0.000000</td>\n",
       "      <td>0.000000</td>\n",
       "      <td>0.000000</td>\n",
       "      <td>0.000000</td>\n",
       "      <td>...</td>\n",
       "      <td>19052.000000</td>\n",
       "      <td>18104.500000</td>\n",
       "      <td>17071.000000</td>\n",
       "      <td>2100.000000</td>\n",
       "      <td>2.009000e+03</td>\n",
       "      <td>1800.00000</td>\n",
       "      <td>1500.000000</td>\n",
       "      <td>1500.000000</td>\n",
       "      <td>1500.000000</td>\n",
       "      <td>0.000000</td>\n",
       "    </tr>\n",
       "    <tr>\n",
       "      <th>75%</th>\n",
       "      <td>240000.000000</td>\n",
       "      <td>2.000000</td>\n",
       "      <td>2.000000</td>\n",
       "      <td>2.000000</td>\n",
       "      <td>41.000000</td>\n",
       "      <td>0.000000</td>\n",
       "      <td>0.000000</td>\n",
       "      <td>0.000000</td>\n",
       "      <td>0.000000</td>\n",
       "      <td>0.000000</td>\n",
       "      <td>...</td>\n",
       "      <td>54506.000000</td>\n",
       "      <td>50190.500000</td>\n",
       "      <td>49198.250000</td>\n",
       "      <td>5006.000000</td>\n",
       "      <td>5.000000e+03</td>\n",
       "      <td>4505.00000</td>\n",
       "      <td>4013.250000</td>\n",
       "      <td>4031.500000</td>\n",
       "      <td>4000.000000</td>\n",
       "      <td>0.000000</td>\n",
       "    </tr>\n",
       "    <tr>\n",
       "      <th>max</th>\n",
       "      <td>1000000.000000</td>\n",
       "      <td>2.000000</td>\n",
       "      <td>6.000000</td>\n",
       "      <td>3.000000</td>\n",
       "      <td>79.000000</td>\n",
       "      <td>8.000000</td>\n",
       "      <td>8.000000</td>\n",
       "      <td>8.000000</td>\n",
       "      <td>8.000000</td>\n",
       "      <td>8.000000</td>\n",
       "      <td>...</td>\n",
       "      <td>891586.000000</td>\n",
       "      <td>927171.000000</td>\n",
       "      <td>961664.000000</td>\n",
       "      <td>873552.000000</td>\n",
       "      <td>1.684259e+06</td>\n",
       "      <td>896040.00000</td>\n",
       "      <td>621000.000000</td>\n",
       "      <td>426529.000000</td>\n",
       "      <td>528666.000000</td>\n",
       "      <td>1.000000</td>\n",
       "    </tr>\n",
       "  </tbody>\n",
       "</table>\n",
       "<p>8 rows × 24 columns</p>\n",
       "</div>"
      ],
      "text/plain": [
       "                   X1            X2            X3            X4            X5  \\\n",
       "count    30000.000000  30000.000000  30000.000000  30000.000000  30000.000000   \n",
       "mean    167484.322667      1.603733      1.853133      1.551867     35.485500   \n",
       "std     129747.661567      0.489129      0.790349      0.521970      9.217904   \n",
       "min      10000.000000      1.000000      0.000000      0.000000     21.000000   \n",
       "25%      50000.000000      1.000000      1.000000      1.000000     28.000000   \n",
       "50%     140000.000000      2.000000      2.000000      2.000000     34.000000   \n",
       "75%     240000.000000      2.000000      2.000000      2.000000     41.000000   \n",
       "max    1000000.000000      2.000000      6.000000      3.000000     79.000000   \n",
       "\n",
       "                 X6            X7            X8            X9           X10  \\\n",
       "count  30000.000000  30000.000000  30000.000000  30000.000000  30000.000000   \n",
       "mean      -0.016700     -0.133767     -0.166200     -0.220667     -0.266200   \n",
       "std        1.123802      1.197186      1.196868      1.169139      1.133187   \n",
       "min       -2.000000     -2.000000     -2.000000     -2.000000     -2.000000   \n",
       "25%       -1.000000     -1.000000     -1.000000     -1.000000     -1.000000   \n",
       "50%        0.000000      0.000000      0.000000      0.000000      0.000000   \n",
       "75%        0.000000      0.000000      0.000000      0.000000      0.000000   \n",
       "max        8.000000      8.000000      8.000000      8.000000      8.000000   \n",
       "\n",
       "       ...            X15            X16            X17            X18  \\\n",
       "count  ...   30000.000000   30000.000000   30000.000000   30000.000000   \n",
       "mean   ...   43262.948967   40311.400967   38871.760400    5663.580500   \n",
       "std    ...   64332.856134   60797.155770   59554.107537   16563.280354   \n",
       "min    ... -170000.000000  -81334.000000 -339603.000000       0.000000   \n",
       "25%    ...    2326.750000    1763.000000    1256.000000    1000.000000   \n",
       "50%    ...   19052.000000   18104.500000   17071.000000    2100.000000   \n",
       "75%    ...   54506.000000   50190.500000   49198.250000    5006.000000   \n",
       "max    ...  891586.000000  927171.000000  961664.000000  873552.000000   \n",
       "\n",
       "                X19           X20            X21            X22  \\\n",
       "count  3.000000e+04   30000.00000   30000.000000   30000.000000   \n",
       "mean   5.921163e+03    5225.68150    4826.076867    4799.387633   \n",
       "std    2.304087e+04   17606.96147   15666.159744   15278.305679   \n",
       "min    0.000000e+00       0.00000       0.000000       0.000000   \n",
       "25%    8.330000e+02     390.00000     296.000000     252.500000   \n",
       "50%    2.009000e+03    1800.00000    1500.000000    1500.000000   \n",
       "75%    5.000000e+03    4505.00000    4013.250000    4031.500000   \n",
       "max    1.684259e+06  896040.00000  621000.000000  426529.000000   \n",
       "\n",
       "                 X23             Y  \n",
       "count   30000.000000  30000.000000  \n",
       "mean     5215.502567      0.221200  \n",
       "std     17777.465775      0.415062  \n",
       "min         0.000000      0.000000  \n",
       "25%       117.750000      0.000000  \n",
       "50%      1500.000000      0.000000  \n",
       "75%      4000.000000      0.000000  \n",
       "max    528666.000000      1.000000  \n",
       "\n",
       "[8 rows x 24 columns]"
      ]
     },
     "execution_count": 95,
     "metadata": {},
     "output_type": "execute_result"
    }
   ],
   "source": [
    "#df.describe()\n",
    "for c in df:\n",
    "    df[c] = df[c].astype('int64')\n",
    "df.describe()"
   ]
  },
  {
   "cell_type": "markdown",
   "metadata": {
    "colab_type": "text",
    "id": "HztbIvI8ZPvY"
   },
   "source": [
    "## Agregando nuevas variables"
   ]
  },
  {
   "cell_type": "code",
   "execution_count": 96,
   "metadata": {
    "colab": {
     "base_uri": "https://localhost:8080/",
     "height": 244
    },
    "colab_type": "code",
    "id": "WAnynvhQZLto",
    "outputId": "83e4ae00-2651-47ed-ba48-6db425665ef1"
   },
   "outputs": [
    {
     "data": {
      "text/html": [
       "<div>\n",
       "<style scoped>\n",
       "    .dataframe tbody tr th:only-of-type {\n",
       "        vertical-align: middle;\n",
       "    }\n",
       "\n",
       "    .dataframe tbody tr th {\n",
       "        vertical-align: top;\n",
       "    }\n",
       "\n",
       "    .dataframe thead th {\n",
       "        text-align: right;\n",
       "    }\n",
       "</style>\n",
       "<table border=\"1\" class=\"dataframe\">\n",
       "  <thead>\n",
       "    <tr style=\"text-align: right;\">\n",
       "      <th></th>\n",
       "      <th>X1</th>\n",
       "      <th>X2</th>\n",
       "      <th>X3</th>\n",
       "      <th>X4</th>\n",
       "      <th>X5</th>\n",
       "      <th>X6</th>\n",
       "      <th>X7</th>\n",
       "      <th>X8</th>\n",
       "      <th>X9</th>\n",
       "      <th>X10</th>\n",
       "      <th>...</th>\n",
       "      <th>X30</th>\n",
       "      <th>X31</th>\n",
       "      <th>X32</th>\n",
       "      <th>X33</th>\n",
       "      <th>X34</th>\n",
       "      <th>X35</th>\n",
       "      <th>X36</th>\n",
       "      <th>X37</th>\n",
       "      <th>X38</th>\n",
       "      <th>X39</th>\n",
       "    </tr>\n",
       "    <tr>\n",
       "      <th>ID</th>\n",
       "      <th></th>\n",
       "      <th></th>\n",
       "      <th></th>\n",
       "      <th></th>\n",
       "      <th></th>\n",
       "      <th></th>\n",
       "      <th></th>\n",
       "      <th></th>\n",
       "      <th></th>\n",
       "      <th></th>\n",
       "      <th></th>\n",
       "      <th></th>\n",
       "      <th></th>\n",
       "      <th></th>\n",
       "      <th></th>\n",
       "      <th></th>\n",
       "      <th></th>\n",
       "      <th></th>\n",
       "      <th></th>\n",
       "      <th></th>\n",
       "      <th></th>\n",
       "    </tr>\n",
       "  </thead>\n",
       "  <tbody>\n",
       "    <tr>\n",
       "      <th>1</th>\n",
       "      <td>20000</td>\n",
       "      <td>2</td>\n",
       "      <td>2</td>\n",
       "      <td>1</td>\n",
       "      <td>24</td>\n",
       "      <td>2</td>\n",
       "      <td>2</td>\n",
       "      <td>-1</td>\n",
       "      <td>-1</td>\n",
       "      <td>-2</td>\n",
       "      <td>...</td>\n",
       "      <td>0.155100</td>\n",
       "      <td>0.034450</td>\n",
       "      <td>0.000000</td>\n",
       "      <td>0.000000</td>\n",
       "      <td>0.000000</td>\n",
       "      <td>0.000000</td>\n",
       "      <td>1.000000</td>\n",
       "      <td>0.000000</td>\n",
       "      <td>0.000000</td>\n",
       "      <td>0.000000</td>\n",
       "    </tr>\n",
       "    <tr>\n",
       "      <th>2</th>\n",
       "      <td>120000</td>\n",
       "      <td>2</td>\n",
       "      <td>2</td>\n",
       "      <td>2</td>\n",
       "      <td>26</td>\n",
       "      <td>-1</td>\n",
       "      <td>2</td>\n",
       "      <td>0</td>\n",
       "      <td>0</td>\n",
       "      <td>0</td>\n",
       "      <td>...</td>\n",
       "      <td>0.014375</td>\n",
       "      <td>0.022350</td>\n",
       "      <td>0.027267</td>\n",
       "      <td>0.028792</td>\n",
       "      <td>0.027175</td>\n",
       "      <td>0.000000</td>\n",
       "      <td>0.372856</td>\n",
       "      <td>0.305623</td>\n",
       "      <td>0.289436</td>\n",
       "      <td>0.000000</td>\n",
       "    </tr>\n",
       "    <tr>\n",
       "      <th>3</th>\n",
       "      <td>90000</td>\n",
       "      <td>2</td>\n",
       "      <td>2</td>\n",
       "      <td>2</td>\n",
       "      <td>34</td>\n",
       "      <td>0</td>\n",
       "      <td>0</td>\n",
       "      <td>0</td>\n",
       "      <td>0</td>\n",
       "      <td>0</td>\n",
       "      <td>...</td>\n",
       "      <td>0.155856</td>\n",
       "      <td>0.150656</td>\n",
       "      <td>0.159233</td>\n",
       "      <td>0.166089</td>\n",
       "      <td>0.172767</td>\n",
       "      <td>0.108220</td>\n",
       "      <td>0.110628</td>\n",
       "      <td>0.069779</td>\n",
       "      <td>0.066899</td>\n",
       "      <td>0.064313</td>\n",
       "    </tr>\n",
       "    <tr>\n",
       "      <th>4</th>\n",
       "      <td>50000</td>\n",
       "      <td>2</td>\n",
       "      <td>2</td>\n",
       "      <td>1</td>\n",
       "      <td>37</td>\n",
       "      <td>0</td>\n",
       "      <td>0</td>\n",
       "      <td>0</td>\n",
       "      <td>0</td>\n",
       "      <td>0</td>\n",
       "      <td>...</td>\n",
       "      <td>0.964660</td>\n",
       "      <td>0.985820</td>\n",
       "      <td>0.566280</td>\n",
       "      <td>0.579180</td>\n",
       "      <td>0.590940</td>\n",
       "      <td>0.041465</td>\n",
       "      <td>0.040961</td>\n",
       "      <td>0.042382</td>\n",
       "      <td>0.037985</td>\n",
       "      <td>0.036180</td>\n",
       "    </tr>\n",
       "    <tr>\n",
       "      <th>5</th>\n",
       "      <td>50000</td>\n",
       "      <td>1</td>\n",
       "      <td>2</td>\n",
       "      <td>1</td>\n",
       "      <td>57</td>\n",
       "      <td>-1</td>\n",
       "      <td>0</td>\n",
       "      <td>-1</td>\n",
       "      <td>0</td>\n",
       "      <td>0</td>\n",
       "      <td>...</td>\n",
       "      <td>0.113400</td>\n",
       "      <td>0.716700</td>\n",
       "      <td>0.418800</td>\n",
       "      <td>0.382920</td>\n",
       "      <td>0.382620</td>\n",
       "      <td>0.352734</td>\n",
       "      <td>1.023608</td>\n",
       "      <td>0.477555</td>\n",
       "      <td>0.470072</td>\n",
       "      <td>0.036015</td>\n",
       "    </tr>\n",
       "  </tbody>\n",
       "</table>\n",
       "<p>5 rows × 40 columns</p>\n",
       "</div>"
      ],
      "text/plain": [
       "        X1  X2  X3  X4  X5  X6  X7  X8  X9  X10  ...       X30       X31  \\\n",
       "ID                                               ...                       \n",
       "1    20000   2   2   1  24   2   2  -1  -1   -2  ...  0.155100  0.034450   \n",
       "2   120000   2   2   2  26  -1   2   0   0    0  ...  0.014375  0.022350   \n",
       "3    90000   2   2   2  34   0   0   0   0    0  ...  0.155856  0.150656   \n",
       "4    50000   2   2   1  37   0   0   0   0    0  ...  0.964660  0.985820   \n",
       "5    50000   1   2   1  57  -1   0  -1   0    0  ...  0.113400  0.716700   \n",
       "\n",
       "         X32       X33       X34       X35       X36       X37       X38  \\\n",
       "ID                                                                         \n",
       "1   0.000000  0.000000  0.000000  0.000000  1.000000  0.000000  0.000000   \n",
       "2   0.027267  0.028792  0.027175  0.000000  0.372856  0.305623  0.289436   \n",
       "3   0.159233  0.166089  0.172767  0.108220  0.110628  0.069779  0.066899   \n",
       "4   0.566280  0.579180  0.590940  0.041465  0.040961  0.042382  0.037985   \n",
       "5   0.418800  0.382920  0.382620  0.352734  1.023608  0.477555  0.470072   \n",
       "\n",
       "         X39  \n",
       "ID            \n",
       "1   0.000000  \n",
       "2   0.000000  \n",
       "3   0.064313  \n",
       "4   0.036180  \n",
       "5   0.036015  \n",
       "\n",
       "[5 rows x 40 columns]"
      ]
     },
     "execution_count": 96,
     "metadata": {},
     "output_type": "execute_result"
    }
   ],
   "source": [
    "#variables para Variación mensual de la deuda, para identificar endeudamiento previo a caer en incumplimienito\n",
    "df['X24']=df['X13']-df['X12']\n",
    "df['X25']=df['X14']-df['X13']\n",
    "df['X26']=df['X15']-df['X14']\n",
    "df['X27']=df['X16']-df['X15']\n",
    "df['X28']=df['X17']-df['X16']\n",
    "\n",
    "#Porcentaje mensual de crédito utilizado\n",
    "df['X29']=df['X12']/df['X1']\n",
    "df['X30']=df['X13']/df['X1']\n",
    "df['X31']=df['X14']/df['X1']\n",
    "df['X32']=df['X15']/df['X1']\n",
    "df['X33']=df['X16']/df['X1']\n",
    "df['X34']=df['X17']/df['X1']\n",
    "\n",
    "#Porcentaje mensual de pago respecto a la deuda\n",
    "#Pagando deuda de mes anterior\n",
    "df['X35']=(df.X18/df.X13).where((df.X13 > 0)&(df.X18 > 0), 0)\n",
    "df['X36']=(df.X19/df.X14).where((df.X14 > 0)&(df.X19 > 0), 0)\n",
    "df['X37']=(df.X20/df.X15).where((df.X15 > 0)&(df.X20 > 0), 0)\n",
    "df['X38']=(df.X21/df.X16).where((df.X16 > 0)&(df.X21 > 0), 0)\n",
    "df['X39']=(df.X22/df.X17).where((df.X17 > 0)&(df.X22 > 0), 0)\n",
    "#df['X40']=(df.X23/df.X17).where((df.X17 > 0)&(df.X23 > 0), 0)\n",
    "\n",
    "df.head()"
   ]
  },
  {
   "cell_type": "markdown",
   "metadata": {
    "colab_type": "text",
    "id": "EXLBnXaJUYBC"
   },
   "source": [
    "## Dividir entre entrenamiento(24,000), validacion(3,000), test (3,000)"
   ]
  },
  {
   "cell_type": "code",
   "execution_count": 97,
   "metadata": {
    "colab": {},
    "colab_type": "code",
    "id": "YhOQNuVET9gt"
   },
   "outputs": [],
   "source": [
    "# Dividir el conjunto en tres: Entrenamiento(24,000), Validacion(3,000), Test (3,000)\n",
    "# 3,000 es suficiente par dar precision de 0.033% en validacion y test\n",
    "# Usamos para todos para que comparamos manzanas con manzanas.\n",
    "\n",
    "X = df.drop('Y', axis=1)\n",
    "y = df['Y']\n",
    "\n",
    "from sklearn.model_selection import train_test_split\n",
    "# Siempre queremos lo mismo conjunto de trainval y test\n",
    "# Entonces random_state = 77\n",
    "X_entrenval, X_test, y_entrenval, y_test = train_test_split(X, y, test_size=3000, random_state=77)"
   ]
  },
  {
   "cell_type": "code",
   "execution_count": 98,
   "metadata": {
    "colab": {},
    "colab_type": "code",
    "id": "4grfHXWdW_LG"
   },
   "outputs": [],
   "source": [
    "# Mejor que permitimos que cambia los conjuntos de train y val\n",
    "# Entonces por casualidad entre entren y val\n",
    "X_entren, X_val, y_entren, y_val = train_test_split(X_entrenval, y_entrenval, test_size=3000)\n",
    "X_entrenval.shape, X_entren.shape, X_val.shape, X_test.shape, y_entrenval.shape, y_entren.shape, y_val.shape, y_test.shape\n",
    "# Reconstruir pandas dataframe solo de los datos de entrenval.\n",
    "dftv = pd.concat([X_entrenval, y_entrenval], axis=1)\n"
   ]
  },
  {
   "cell_type": "markdown",
   "metadata": {
    "colab_type": "text",
    "id": "JOkNfxU8JJux"
   },
   "source": [
    "## Corregir por desbalancia  \n",
    "Nuevos dataframes con nombres X_entren_os, y_entren_os  "
   ]
  },
  {
   "cell_type": "code",
   "execution_count": 99,
   "metadata": {
    "colab": {
     "base_uri": "https://localhost:8080/",
     "height": 170
    },
    "colab_type": "code",
    "id": "2DjbMYBxJC6E",
    "outputId": "37f3dc8a-5a0b-4d39-d882-ed98c4e5148e"
   },
   "outputs": [
    {
     "name": "stdout",
     "output_type": "stream",
     "text": [
      "balance=\n",
      " 0    18647\n",
      "1     5353\n",
      "Name: Y, dtype: int64 \n",
      "num muestras= 13294\n",
      "neuvo balance=\n",
      " 1    18647\n",
      "0    18647\n",
      "Name: Y, dtype: int64\n"
     ]
    }
   ],
   "source": [
    "# Corregir desbalancia.\n",
    "# Crear nuevo entren dataframe\n",
    "balance = y_entren.value_counts()\n",
    "num_muestras = balance[0]-balance[1]\n",
    "print('balance=\\n', balance,'\\nnum muestras=',num_muestras)\n",
    "Xy_entren = pd.concat([X_entren, y_entren], axis=1)\n",
    "deudores = Xy_entren[Xy_entren['Y']==1]\n",
    "mas_deudores = deudores.sample(n=num_muestras, replace=True, random_state=0)\n",
    "Xy_entren_os = pd.concat([Xy_entren, mas_deudores])\n",
    "X_entren_os = Xy_entren_os.drop('Y', axis=1)\n",
    "y_entren_os = Xy_entren_os['Y']\n",
    "print('neuvo balance=\\n', y_entren_os.value_counts())\n"
   ]
  },
  {
   "cell_type": "markdown",
   "metadata": {
    "colab_type": "text",
    "id": "IHJWOy_6OB0e"
   },
   "source": [
    "## Explorando los Datos - con entren y val datos originales  "
   ]
  },
  {
   "cell_type": "code",
   "execution_count": 100,
   "metadata": {
    "colab": {
     "base_uri": "https://localhost:8080/",
     "height": 1441
    },
    "colab_type": "code",
    "id": "XRAIOZDAOKeL",
    "outputId": "4db3f413-181c-4154-f454-2aefc5922908"
   },
   "outputs": [
    {
     "data": {
      "image/png": "[encoded data removed]",
      "text/plain": [
       "<Figure size 432x288 with 1 Axes>"
      ]
     },
     "metadata": {
      "needs_background": "light"
     },
     "output_type": "display_data"
    },
    {
     "data": {
      "image/png": "[encoded data removed]",
      "text/plain": [
       "<Figure size 432x288 with 1 Axes>"
      ]
     },
     "metadata": {
      "needs_background": "light"
     },
     "output_type": "display_data"
    },
    {
     "name": "stdout",
     "output_type": "stream",
     "text": [
      "Monthly Bill Statement Amount\n",
      "count    1.620000e+05\n",
      "mean     4.488606e+04\n",
      "std      6.667883e+04\n",
      "min     -2.090510e+05\n",
      "25%      2.400000e+03\n",
      "50%      1.931500e+04\n",
      "75%      5.715450e+04\n",
      "max      1.664089e+06\n",
      "dtype: float64\n"
     ]
    },
    {
     "data": {
      "image/png": "[encoded data removed]",
      "text/plain": [
       "<Figure size 432x288 with 1 Axes>"
      ]
     },
     "metadata": {
      "needs_background": "light"
     },
     "output_type": "display_data"
    },
    {
     "name": "stdout",
     "output_type": "stream",
     "text": [
      "Monthly Amount of Previous Payment\n",
      "count    1.620000e+05\n",
      "mean     5.272188e+03\n",
      "std      1.788870e+04\n",
      "min      0.000000e+00\n",
      "25%      3.900000e+02\n",
      "50%      1.900000e+03\n",
      "75%      4.524000e+03\n",
      "max      1.684259e+06\n",
      "dtype: float64\n"
     ]
    },
    {
     "data": {
      "image/png": "[encoded data removed]",
      "text/plain": [
       "<Figure size 432x288 with 1 Axes>"
      ]
     },
     "metadata": {
      "needs_background": "light"
     },
     "output_type": "display_data"
    }
   ],
   "source": [
    "import matplotlib.pyplot as plt\n",
    "import numpy as np\n",
    "%matplotlib inline\n",
    "import seaborn\n",
    "\n",
    "dftv.X1.hist()\n",
    "plt.title(\"Limit Balance\")\n",
    "plt.show()\n",
    "\n",
    "X6_11 = dftv.X6.append([dftv.X7, dftv.X8, dftv.X9, dftv.X10, dftv.X11])\n",
    "X6_11.hist()\n",
    "plt.title(\"Coded Payment History\")\n",
    "plt.show()\n",
    "\n",
    "# Histogramas de variables mensuales.\n",
    "X12_17 = dftv.X12.append([dftv.X13, dftv.X14, dftv.X15, dftv.X16, dftv.X17])\n",
    "print(\"Monthly Bill Statement Amount\")\n",
    "print(X12_17.describe())\n",
    "plt.axis([-37500, 537500, 0, 70000])\n",
    "binBoundaries = np.linspace(-37500, 537500, 24)\n",
    "binBoundaries[-1] = 2000000\n",
    "X12_17.hist(bins=binBoundaries)\n",
    "plt.title(\"Monthly Bill Statement Amount - All Months\")\n",
    "plt.xlabel(\"Bill Amount\")\n",
    "plt.ylabel(\"Number clients\")\n",
    "plt.show()\n",
    "\n",
    "\n",
    "X18_23 = dftv.X18.append([dftv.X19, dftv.X20, dftv.X21, dftv.X22, dftv.X23])\n",
    "print(\"Monthly Amount of Previous Payment\")\n",
    "print(X18_23.describe())\n",
    "plt.axis([-1000, 43000, 0, 60000])\n",
    "binBoundaries = np.linspace(-1000, 43000, 23)\n",
    "binBoundaries[-1] = 2000000\n",
    "X18_23.hist(bins=binBoundaries)\n",
    "plt.title(\"Monthly Amount of Previous Payment - All Months\")\n",
    "plt.xlabel(\"Payment Amount\")\n",
    "plt.ylabel(\"Number clients\")\n",
    "plt.show()"
   ]
  },
  {
   "cell_type": "markdown",
   "metadata": {
    "colab_type": "text",
    "id": "wiUyb3yVKNNP"
   },
   "source": [
    "## Función para tomar sqrt de montos  \n",
    "Montos de dinero tienen mucho obliquidad en sus distribuciones. Entonces, hay que corregir este para mejor oportunidad en entrenamiento.  \n",
    "\n",
    "El dataframe X_entren_os_tr tiene los mismos datos como X_entren_os pero con montos transformados.\n",
    "\n",
    "Tambien, el datafram X_val_tr tiene los mismos datos como X_val pero con montos transformados.  "
   ]
  },
  {
   "cell_type": "code",
   "execution_count": 101,
   "metadata": {
    "colab": {},
    "colab_type": "code",
    "id": "a_nJ0MCHKqMu"
   },
   "outputs": [],
   "source": [
    "# Compensar por oblicuidad de la distribucion del dinero.\n",
    "# Función para aplicar a cualquier X (entran, val, test, entran_os)\n",
    "cols_monto = ['X12', 'X13', 'X14', 'X15', 'X16', 'X17', \n",
    "               'X18', 'X19', 'X20', 'X21', 'X22', 'X23']\n",
    "def sqrt_monto(X):\n",
    "    for x in cols_monto:\n",
    "        #print(x)\n",
    "        X.loc[X[x]>0, x] = np.sqrt(X.loc[X[x]>0, x])\n",
    "        X.loc[X[x]<0, x] = -np.sqrt(np.absolute((X.loc[X[x]<0,x])))\n",
    "\n",
    "X_entren_os_tr = X_entren_os.copy()\n",
    "#print(X_entren_os_tr.describe())\n",
    "sqrt_monto(X_entren_os_tr)\n",
    "#print(X_entren_os_tr.describe())\n",
    "X_val_tr = X_val.copy()\n",
    "sqrt_monto(X_val_tr)\n",
    "\n",
    "# Preparar X_test_tr tambien.\n",
    "X_test_tr = X_test.copy()\n",
    "sqrt_monto(X_test_tr)"
   ]
  },
  {
   "cell_type": "code",
   "execution_count": 102,
   "metadata": {
    "colab": {
     "base_uri": "https://localhost:8080/",
     "height": 337
    },
    "colab_type": "code",
    "id": "pYJuv7bMEmt7",
    "outputId": "80327b32-26e8-43d2-c98e-30fd346fa300"
   },
   "outputs": [
    {
     "data": {
      "text/html": [
       "<div>\n",
       "<style scoped>\n",
       "    .dataframe tbody tr th:only-of-type {\n",
       "        vertical-align: middle;\n",
       "    }\n",
       "\n",
       "    .dataframe tbody tr th {\n",
       "        vertical-align: top;\n",
       "    }\n",
       "\n",
       "    .dataframe thead th {\n",
       "        text-align: right;\n",
       "    }\n",
       "</style>\n",
       "<table border=\"1\" class=\"dataframe\">\n",
       "  <thead>\n",
       "    <tr style=\"text-align: right;\">\n",
       "      <th></th>\n",
       "      <th>X1</th>\n",
       "      <th>X2</th>\n",
       "      <th>X3</th>\n",
       "      <th>X4</th>\n",
       "      <th>X5</th>\n",
       "      <th>X6</th>\n",
       "      <th>X7</th>\n",
       "      <th>X8</th>\n",
       "      <th>X9</th>\n",
       "      <th>X10</th>\n",
       "      <th>...</th>\n",
       "      <th>X30</th>\n",
       "      <th>X31</th>\n",
       "      <th>X32</th>\n",
       "      <th>X33</th>\n",
       "      <th>X34</th>\n",
       "      <th>X35</th>\n",
       "      <th>X36</th>\n",
       "      <th>X37</th>\n",
       "      <th>X38</th>\n",
       "      <th>X39</th>\n",
       "    </tr>\n",
       "  </thead>\n",
       "  <tbody>\n",
       "    <tr>\n",
       "      <th>count</th>\n",
       "      <td>37294.000000</td>\n",
       "      <td>37294.000000</td>\n",
       "      <td>37294.000000</td>\n",
       "      <td>37294.000000</td>\n",
       "      <td>37294.000000</td>\n",
       "      <td>37294.000000</td>\n",
       "      <td>37294.000000</td>\n",
       "      <td>37294.000000</td>\n",
       "      <td>37294.000000</td>\n",
       "      <td>37294.000000</td>\n",
       "      <td>...</td>\n",
       "      <td>37294.000000</td>\n",
       "      <td>37294.000000</td>\n",
       "      <td>37294.000000</td>\n",
       "      <td>37294.000000</td>\n",
       "      <td>37294.000000</td>\n",
       "      <td>37294.000000</td>\n",
       "      <td>37294.000000</td>\n",
       "      <td>37294.000000</td>\n",
       "      <td>37294.000000</td>\n",
       "      <td>37294.000000</td>\n",
       "    </tr>\n",
       "    <tr>\n",
       "      <th>mean</th>\n",
       "      <td>153182.854078</td>\n",
       "      <td>1.593018</td>\n",
       "      <td>1.867003</td>\n",
       "      <td>1.542849</td>\n",
       "      <td>35.509251</td>\n",
       "      <td>0.228589</td>\n",
       "      <td>0.083123</td>\n",
       "      <td>0.029764</td>\n",
       "      <td>-0.037754</td>\n",
       "      <td>-0.101839</td>\n",
       "      <td>...</td>\n",
       "      <td>0.441364</td>\n",
       "      <td>0.422727</td>\n",
       "      <td>0.390297</td>\n",
       "      <td>0.362202</td>\n",
       "      <td>0.347791</td>\n",
       "      <td>0.414804</td>\n",
       "      <td>0.547048</td>\n",
       "      <td>0.397619</td>\n",
       "      <td>0.265211</td>\n",
       "      <td>0.382782</td>\n",
       "    </tr>\n",
       "    <tr>\n",
       "      <th>std</th>\n",
       "      <td>126052.747834</td>\n",
       "      <td>0.491278</td>\n",
       "      <td>0.772630</td>\n",
       "      <td>0.522546</td>\n",
       "      <td>9.441668</td>\n",
       "      <td>1.256248</td>\n",
       "      <td>1.339350</td>\n",
       "      <td>1.341916</td>\n",
       "      <td>1.337010</td>\n",
       "      <td>1.302309</td>\n",
       "      <td>...</td>\n",
       "      <td>0.409619</td>\n",
       "      <td>0.399521</td>\n",
       "      <td>0.379538</td>\n",
       "      <td>0.362822</td>\n",
       "      <td>0.358230</td>\n",
       "      <td>23.040327</td>\n",
       "      <td>34.658982</td>\n",
       "      <td>23.041932</td>\n",
       "      <td>1.054598</td>\n",
       "      <td>7.891696</td>\n",
       "    </tr>\n",
       "    <tr>\n",
       "      <th>min</th>\n",
       "      <td>10000.000000</td>\n",
       "      <td>1.000000</td>\n",
       "      <td>0.000000</td>\n",
       "      <td>0.000000</td>\n",
       "      <td>21.000000</td>\n",
       "      <td>-2.000000</td>\n",
       "      <td>-2.000000</td>\n",
       "      <td>-2.000000</td>\n",
       "      <td>-2.000000</td>\n",
       "      <td>-2.000000</td>\n",
       "      <td>...</td>\n",
       "      <td>-1.395540</td>\n",
       "      <td>-1.025100</td>\n",
       "      <td>-1.374500</td>\n",
       "      <td>-0.876743</td>\n",
       "      <td>-1.509530</td>\n",
       "      <td>0.000000</td>\n",
       "      <td>0.000000</td>\n",
       "      <td>0.000000</td>\n",
       "      <td>0.000000</td>\n",
       "      <td>0.000000</td>\n",
       "    </tr>\n",
       "    <tr>\n",
       "      <th>25%</th>\n",
       "      <td>50000.000000</td>\n",
       "      <td>1.000000</td>\n",
       "      <td>1.000000</td>\n",
       "      <td>1.000000</td>\n",
       "      <td>28.000000</td>\n",
       "      <td>0.000000</td>\n",
       "      <td>-1.000000</td>\n",
       "      <td>-1.000000</td>\n",
       "      <td>-1.000000</td>\n",
       "      <td>-1.000000</td>\n",
       "      <td>...</td>\n",
       "      <td>0.020520</td>\n",
       "      <td>0.018585</td>\n",
       "      <td>0.015800</td>\n",
       "      <td>0.011513</td>\n",
       "      <td>0.008573</td>\n",
       "      <td>0.034967</td>\n",
       "      <td>0.031692</td>\n",
       "      <td>0.018037</td>\n",
       "      <td>0.000000</td>\n",
       "      <td>0.000000</td>\n",
       "    </tr>\n",
       "    <tr>\n",
       "      <th>50%</th>\n",
       "      <td>120000.000000</td>\n",
       "      <td>2.000000</td>\n",
       "      <td>2.000000</td>\n",
       "      <td>2.000000</td>\n",
       "      <td>34.000000</td>\n",
       "      <td>0.000000</td>\n",
       "      <td>0.000000</td>\n",
       "      <td>0.000000</td>\n",
       "      <td>0.000000</td>\n",
       "      <td>0.000000</td>\n",
       "      <td>...</td>\n",
       "      <td>0.373550</td>\n",
       "      <td>0.343344</td>\n",
       "      <td>0.306668</td>\n",
       "      <td>0.270946</td>\n",
       "      <td>0.239990</td>\n",
       "      <td>0.056287</td>\n",
       "      <td>0.054648</td>\n",
       "      <td>0.044704</td>\n",
       "      <td>0.039835</td>\n",
       "      <td>0.041192</td>\n",
       "    </tr>\n",
       "    <tr>\n",
       "      <th>75%</th>\n",
       "      <td>220000.000000</td>\n",
       "      <td>2.000000</td>\n",
       "      <td>2.000000</td>\n",
       "      <td>2.000000</td>\n",
       "      <td>42.000000</td>\n",
       "      <td>1.000000</td>\n",
       "      <td>0.000000</td>\n",
       "      <td>0.000000</td>\n",
       "      <td>0.000000</td>\n",
       "      <td>0.000000</td>\n",
       "      <td>...</td>\n",
       "      <td>0.846496</td>\n",
       "      <td>0.815307</td>\n",
       "      <td>0.730105</td>\n",
       "      <td>0.661345</td>\n",
       "      <td>0.634428</td>\n",
       "      <td>0.275551</td>\n",
       "      <td>0.252766</td>\n",
       "      <td>0.174323</td>\n",
       "      <td>0.151804</td>\n",
       "      <td>0.185031</td>\n",
       "    </tr>\n",
       "    <tr>\n",
       "      <th>max</th>\n",
       "      <td>800000.000000</td>\n",
       "      <td>2.000000</td>\n",
       "      <td>6.000000</td>\n",
       "      <td>3.000000</td>\n",
       "      <td>79.000000</td>\n",
       "      <td>8.000000</td>\n",
       "      <td>7.000000</td>\n",
       "      <td>8.000000</td>\n",
       "      <td>8.000000</td>\n",
       "      <td>8.000000</td>\n",
       "      <td>...</td>\n",
       "      <td>5.456200</td>\n",
       "      <td>4.558050</td>\n",
       "      <td>4.645500</td>\n",
       "      <td>4.935500</td>\n",
       "      <td>2.694100</td>\n",
       "      <td>4444.333333</td>\n",
       "      <td>5001.000000</td>\n",
       "      <td>4444.333333</td>\n",
       "      <td>129.705128</td>\n",
       "      <td>690.655172</td>\n",
       "    </tr>\n",
       "  </tbody>\n",
       "</table>\n",
       "<p>8 rows × 39 columns</p>\n",
       "</div>"
      ],
      "text/plain": [
       "                  X1            X2            X3            X4            X5  \\\n",
       "count   37294.000000  37294.000000  37294.000000  37294.000000  37294.000000   \n",
       "mean   153182.854078      1.593018      1.867003      1.542849     35.509251   \n",
       "std    126052.747834      0.491278      0.772630      0.522546      9.441668   \n",
       "min     10000.000000      1.000000      0.000000      0.000000     21.000000   \n",
       "25%     50000.000000      1.000000      1.000000      1.000000     28.000000   \n",
       "50%    120000.000000      2.000000      2.000000      2.000000     34.000000   \n",
       "75%    220000.000000      2.000000      2.000000      2.000000     42.000000   \n",
       "max    800000.000000      2.000000      6.000000      3.000000     79.000000   \n",
       "\n",
       "                 X6            X7            X8            X9           X10  \\\n",
       "count  37294.000000  37294.000000  37294.000000  37294.000000  37294.000000   \n",
       "mean       0.228589      0.083123      0.029764     -0.037754     -0.101839   \n",
       "std        1.256248      1.339350      1.341916      1.337010      1.302309   \n",
       "min       -2.000000     -2.000000     -2.000000     -2.000000     -2.000000   \n",
       "25%        0.000000     -1.000000     -1.000000     -1.000000     -1.000000   \n",
       "50%        0.000000      0.000000      0.000000      0.000000      0.000000   \n",
       "75%        1.000000      0.000000      0.000000      0.000000      0.000000   \n",
       "max        8.000000      7.000000      8.000000      8.000000      8.000000   \n",
       "\n",
       "       ...           X30           X31           X32           X33  \\\n",
       "count  ...  37294.000000  37294.000000  37294.000000  37294.000000   \n",
       "mean   ...      0.441364      0.422727      0.390297      0.362202   \n",
       "std    ...      0.409619      0.399521      0.379538      0.362822   \n",
       "min    ...     -1.395540     -1.025100     -1.374500     -0.876743   \n",
       "25%    ...      0.020520      0.018585      0.015800      0.011513   \n",
       "50%    ...      0.373550      0.343344      0.306668      0.270946   \n",
       "75%    ...      0.846496      0.815307      0.730105      0.661345   \n",
       "max    ...      5.456200      4.558050      4.645500      4.935500   \n",
       "\n",
       "                X34           X35           X36           X37           X38  \\\n",
       "count  37294.000000  37294.000000  37294.000000  37294.000000  37294.000000   \n",
       "mean       0.347791      0.414804      0.547048      0.397619      0.265211   \n",
       "std        0.358230     23.040327     34.658982     23.041932      1.054598   \n",
       "min       -1.509530      0.000000      0.000000      0.000000      0.000000   \n",
       "25%        0.008573      0.034967      0.031692      0.018037      0.000000   \n",
       "50%        0.239990      0.056287      0.054648      0.044704      0.039835   \n",
       "75%        0.634428      0.275551      0.252766      0.174323      0.151804   \n",
       "max        2.694100   4444.333333   5001.000000   4444.333333    129.705128   \n",
       "\n",
       "                X39  \n",
       "count  37294.000000  \n",
       "mean       0.382782  \n",
       "std        7.891696  \n",
       "min        0.000000  \n",
       "25%        0.000000  \n",
       "50%        0.041192  \n",
       "75%        0.185031  \n",
       "max      690.655172  \n",
       "\n",
       "[8 rows x 39 columns]"
      ]
     },
     "execution_count": 102,
     "metadata": {},
     "output_type": "execute_result"
    }
   ],
   "source": [
    "# Ver los variables despues de transformacion.\n",
    "# X12 ... X23 están transformados.\n",
    "X_entren_os_tr.describe()"
   ]
  },
  {
   "cell_type": "markdown",
   "metadata": {
    "colab_type": "text",
    "id": "AboJGKIXGRhe"
   },
   "source": [
    "## Función para representar pagos como variables numericos y categoricales\n",
    "Es un poco problematico en que no todos los algoritmos queren los variables.  \n",
    "Tampoco, aun que algunos usarán los variables categoricales, no van a querer convertido a 'dummies'.  \n",
    "Entonces, pongamos en otro dataframe y dejar a los funcciones a convertir a dummies.  \n",
    "Los variables X6 ... X11 están 'dropped'.  \n",
    "\n",
    "X_entren_os_tr_pago, X_val_tr_pago, X_test_tr_pago  \n",
    "\n",
    "\n",
    "Para construir los dummies podemos usar:\n",
    "```\n",
    "X_entren_os_tr_pago = pd.get_dummies(X_entren_os_tr_pago, prefix = cols_pago, columns=cols_pago_cat)   \n",
    "X_val_tr_pago = pd.get_dummies(X_val_tr_pago, prefix = cols_pago, columns=cols_pago_cat)  \n",
    "X_test_tr_pago = pd.get_dummies(X_test_tr_pago, prefix = cols_pago, columns=cols_pago_cat)  \n",
    "```\n",
    "\n",
    "\n",
    "\n",
    "\n",
    "\n"
   ]
  },
  {
   "cell_type": "code",
   "execution_count": 103,
   "metadata": {
    "colab": {},
    "colab_type": "code",
    "id": "0srUGYijMep0"
   },
   "outputs": [],
   "source": [
    "# Construir varibles categorical y numerical por pagos.\n",
    "cols_pago = ['X6', 'X7', 'X8', 'X9', 'X10', 'X11']\n",
    "cols_pago_cat = ['X6cat', 'X7cat', 'X8cat', 'X9cat', 'X10cat', 'X11cat']\n",
    "def cat_num_pago(X):\n",
    "    for x in cols_pago:\n",
    "        xcat = x+'cat'\n",
    "        X[xcat] = X[x]\n",
    "        X.loc[X[xcat]>0, xcat] = 1\n",
    "        X[xcat] = X[xcat].astype('category')\n",
    "        xnum = x+'num'\n",
    "        X[xnum] = X[x]\n",
    "        X.loc[X[xnum]<0, xnum] = 0\n",
    "        \n",
    "    \n",
    "X_entren_os_tr_pago = X_entren_os_tr.copy()    \n",
    "cat_num_pago(X_entren_os_tr_pago)\n",
    "X_entren_os_tr_pago.drop(columns=cols_pago, inplace=True)\n",
    "\n",
    "X_val_tr_pago = X_val_tr.copy()\n",
    "cat_num_pago(X_val_tr_pago)\n",
    "X_val_tr_pago.drop(columns=cols_pago, inplace=True)\n",
    "\n",
    "# Preparar X_text_tr_pago tambien.\n",
    "X_test_tr_pago = X_test_tr.copy()\n",
    "cat_num_pago(X_test_tr_pago)\n",
    "X_test_tr_pago.drop(columns=cols_pago, inplace=True)\n",
    "\n",
    "#X_entren_os_tr_pago = pd.get_dummies(X_entren_os_tr_pago, prefix = cols_pago, columns=cols_pago_cat)\n",
    "#X_entrenval_os_tr_pago = pd.get_dummies(X_entrenval_os_tr_pago, prefix = cols_pago, columns=cols_pago_cat)\n",
    "#X_val_tr_pago = pd.get_dummies(X_val_tr_pago, prefix = cols_pago, columns=cols_pago_cat)\n",
    "#X_test_tr_pago = pd.get_dummies(X_test_tr_pago, prefix = cols_pago, columns=cols_pago_cat)"
   ]
  },
  {
   "cell_type": "code",
   "execution_count": 104,
   "metadata": {
    "colab": {
     "base_uri": "https://localhost:8080/",
     "height": 444
    },
    "colab_type": "code",
    "id": "-ezmNCPzIbcO",
    "outputId": "8e84f76e-0ed9-4999-ab1a-47331ead6647"
   },
   "outputs": [
    {
     "data": {
      "text/html": [
       "<div>\n",
       "<style scoped>\n",
       "    .dataframe tbody tr th:only-of-type {\n",
       "        vertical-align: middle;\n",
       "    }\n",
       "\n",
       "    .dataframe tbody tr th {\n",
       "        vertical-align: top;\n",
       "    }\n",
       "\n",
       "    .dataframe thead th {\n",
       "        text-align: right;\n",
       "    }\n",
       "</style>\n",
       "<table border=\"1\" class=\"dataframe\">\n",
       "  <thead>\n",
       "    <tr style=\"text-align: right;\">\n",
       "      <th></th>\n",
       "      <th>X1</th>\n",
       "      <th>X2</th>\n",
       "      <th>X3</th>\n",
       "      <th>X4</th>\n",
       "      <th>X5</th>\n",
       "      <th>X12</th>\n",
       "      <th>X13</th>\n",
       "      <th>X14</th>\n",
       "      <th>X15</th>\n",
       "      <th>X16</th>\n",
       "      <th>...</th>\n",
       "      <th>X7cat</th>\n",
       "      <th>X7num</th>\n",
       "      <th>X8cat</th>\n",
       "      <th>X8num</th>\n",
       "      <th>X9cat</th>\n",
       "      <th>X9num</th>\n",
       "      <th>X10cat</th>\n",
       "      <th>X10num</th>\n",
       "      <th>X11cat</th>\n",
       "      <th>X11num</th>\n",
       "    </tr>\n",
       "    <tr>\n",
       "      <th>ID</th>\n",
       "      <th></th>\n",
       "      <th></th>\n",
       "      <th></th>\n",
       "      <th></th>\n",
       "      <th></th>\n",
       "      <th></th>\n",
       "      <th></th>\n",
       "      <th></th>\n",
       "      <th></th>\n",
       "      <th></th>\n",
       "      <th></th>\n",
       "      <th></th>\n",
       "      <th></th>\n",
       "      <th></th>\n",
       "      <th></th>\n",
       "      <th></th>\n",
       "      <th></th>\n",
       "      <th></th>\n",
       "      <th></th>\n",
       "      <th></th>\n",
       "      <th></th>\n",
       "    </tr>\n",
       "  </thead>\n",
       "  <tbody>\n",
       "    <tr>\n",
       "      <th>20271</th>\n",
       "      <td>90000</td>\n",
       "      <td>2</td>\n",
       "      <td>3</td>\n",
       "      <td>1</td>\n",
       "      <td>52</td>\n",
       "      <td>221.619043</td>\n",
       "      <td>224.670870</td>\n",
       "      <td>226.715681</td>\n",
       "      <td>0.000000</td>\n",
       "      <td>0.000000</td>\n",
       "      <td>...</td>\n",
       "      <td>0</td>\n",
       "      <td>0</td>\n",
       "      <td>0</td>\n",
       "      <td>0</td>\n",
       "      <td>0</td>\n",
       "      <td>0</td>\n",
       "      <td>-2</td>\n",
       "      <td>0</td>\n",
       "      <td>-2</td>\n",
       "      <td>0</td>\n",
       "    </tr>\n",
       "    <tr>\n",
       "      <th>7754</th>\n",
       "      <td>310000</td>\n",
       "      <td>1</td>\n",
       "      <td>2</td>\n",
       "      <td>1</td>\n",
       "      <td>44</td>\n",
       "      <td>62.825154</td>\n",
       "      <td>77.375707</td>\n",
       "      <td>87.971586</td>\n",
       "      <td>94.037227</td>\n",
       "      <td>110.471716</td>\n",
       "      <td>...</td>\n",
       "      <td>0</td>\n",
       "      <td>0</td>\n",
       "      <td>0</td>\n",
       "      <td>0</td>\n",
       "      <td>0</td>\n",
       "      <td>0</td>\n",
       "      <td>0</td>\n",
       "      <td>0</td>\n",
       "      <td>0</td>\n",
       "      <td>0</td>\n",
       "    </tr>\n",
       "    <tr>\n",
       "      <th>26307</th>\n",
       "      <td>210000</td>\n",
       "      <td>2</td>\n",
       "      <td>1</td>\n",
       "      <td>2</td>\n",
       "      <td>29</td>\n",
       "      <td>29.512709</td>\n",
       "      <td>165.441833</td>\n",
       "      <td>29.512709</td>\n",
       "      <td>29.512709</td>\n",
       "      <td>45.188494</td>\n",
       "      <td>...</td>\n",
       "      <td>-1</td>\n",
       "      <td>0</td>\n",
       "      <td>-1</td>\n",
       "      <td>0</td>\n",
       "      <td>-1</td>\n",
       "      <td>0</td>\n",
       "      <td>-1</td>\n",
       "      <td>0</td>\n",
       "      <td>1</td>\n",
       "      <td>2</td>\n",
       "    </tr>\n",
       "    <tr>\n",
       "      <th>16592</th>\n",
       "      <td>80000</td>\n",
       "      <td>1</td>\n",
       "      <td>3</td>\n",
       "      <td>1</td>\n",
       "      <td>31</td>\n",
       "      <td>166.291912</td>\n",
       "      <td>163.410526</td>\n",
       "      <td>163.878003</td>\n",
       "      <td>166.865215</td>\n",
       "      <td>165.770926</td>\n",
       "      <td>...</td>\n",
       "      <td>1</td>\n",
       "      <td>2</td>\n",
       "      <td>0</td>\n",
       "      <td>0</td>\n",
       "      <td>0</td>\n",
       "      <td>0</td>\n",
       "      <td>0</td>\n",
       "      <td>0</td>\n",
       "      <td>0</td>\n",
       "      <td>0</td>\n",
       "    </tr>\n",
       "    <tr>\n",
       "      <th>3509</th>\n",
       "      <td>210000</td>\n",
       "      <td>2</td>\n",
       "      <td>1</td>\n",
       "      <td>2</td>\n",
       "      <td>33</td>\n",
       "      <td>31.144823</td>\n",
       "      <td>47.675990</td>\n",
       "      <td>36.097091</td>\n",
       "      <td>73.382559</td>\n",
       "      <td>42.591079</td>\n",
       "      <td>...</td>\n",
       "      <td>1</td>\n",
       "      <td>2</td>\n",
       "      <td>1</td>\n",
       "      <td>2</td>\n",
       "      <td>-1</td>\n",
       "      <td>0</td>\n",
       "      <td>-1</td>\n",
       "      <td>0</td>\n",
       "      <td>-1</td>\n",
       "      <td>0</td>\n",
       "    </tr>\n",
       "  </tbody>\n",
       "</table>\n",
       "<p>5 rows × 45 columns</p>\n",
       "</div>"
      ],
      "text/plain": [
       "           X1  X2  X3  X4  X5         X12         X13         X14         X15  \\\n",
       "ID                                                                              \n",
       "20271   90000   2   3   1  52  221.619043  224.670870  226.715681    0.000000   \n",
       "7754   310000   1   2   1  44   62.825154   77.375707   87.971586   94.037227   \n",
       "26307  210000   2   1   2  29   29.512709  165.441833   29.512709   29.512709   \n",
       "16592   80000   1   3   1  31  166.291912  163.410526  163.878003  166.865215   \n",
       "3509   210000   2   1   2  33   31.144823   47.675990   36.097091   73.382559   \n",
       "\n",
       "              X16  ...  X7cat  X7num  X8cat  X8num  X9cat  X9num  X10cat  \\\n",
       "ID                 ...                                                     \n",
       "20271    0.000000  ...      0      0      0      0      0      0      -2   \n",
       "7754   110.471716  ...      0      0      0      0      0      0       0   \n",
       "26307   45.188494  ...     -1      0     -1      0     -1      0      -1   \n",
       "16592  165.770926  ...      1      2      0      0      0      0       0   \n",
       "3509    42.591079  ...      1      2      1      2     -1      0      -1   \n",
       "\n",
       "       X10num  X11cat  X11num  \n",
       "ID                             \n",
       "20271       0      -2       0  \n",
       "7754        0       0       0  \n",
       "26307       0       1       2  \n",
       "16592       0       0       0  \n",
       "3509        0      -1       0  \n",
       "\n",
       "[5 rows x 45 columns]"
      ]
     },
     "execution_count": 104,
     "metadata": {},
     "output_type": "execute_result"
    }
   ],
   "source": [
    "X_entren_os_tr_pago.head()\n",
    "#X_val_tr_pago.head()\n",
    "#X_test_tr_pago.head()"
   ]
  },
  {
   "cell_type": "markdown",
   "metadata": {
    "colab_type": "text",
    "id": "eYjhi01YMeLi"
   },
   "source": [
    "## Función de costo adaptado\n",
    "\n",
    "> El costo adaptado es nuestra medida principal de la calidad.  \n",
    "Los medidas demas son solo para comparar con otros resultados.  \n",
    "\n",
    "Con porciento de 'default' de 22.12%, si decimos que todos va a pagar su deuda, vamos a tener un exactitud de 87.88%, pero vamos a tener un costo adaptado de 0.594 por cliente.  Este es nuestra linea base para comparar nuestros resultados.\n",
    "\n"
   ]
  },
  {
   "cell_type": "code",
   "execution_count": 105,
   "metadata": {
    "colab": {},
    "colab_type": "code",
    "id": "vpm4Mde0MXKD"
   },
   "outputs": [],
   "source": [
    "# Función de costo y exatitud.\n",
    "import collections\n",
    "from sklearn import metrics\n",
    "from sklearn.metrics import roc_auc_score\n",
    "\n",
    "\n",
    "def custom_cost(modelo, X, y, printout=True):\n",
    "    predicciones = modelo.predict(X)\n",
    "    return _custom_cost(y, predicciones, printout)\n",
    "    \n",
    "def _custom_cost(y, predicciones, printout=True):\n",
    "\n",
    "    accuracy = metrics.accuracy_score(y, predicciones)\n",
    "    precision = metrics.precision_score(y, predicciones)\n",
    "    recall = metrics.recall_score(y, predicciones)\n",
    "\n",
    "    matriz_confusion = metrics.confusion_matrix(y, predicciones)\n",
    "    # Mapping from http://scikit-learn.org/stable/modules/generated/sklearn.metrics.confusion_matrix.html\n",
    "    # 0 is the negative category.\n",
    "    # rows are the actual values.\n",
    "    # columns are the predicted values.\n",
    "    # So it is just the opposite orientation of +/-.\n",
    "    TN = matriz_confusion[0,0]\n",
    "    FN = matriz_confusion[1,0]\n",
    "    FP = matriz_confusion[0,1]\n",
    "    TP = matriz_confusion[1,1]\n",
    "    \n",
    "    AUC = roc_auc_score(y, predicciones)\n",
    "\n",
    "    # From this we can calculate the other measures.\n",
    "    # If cost for each state, we can calculate overall cost.\n",
    "    # Coefficients de costo.\n",
    "    cTP = -1; cFN = 5; cFP = 1; cTN = 0\n",
    "    todo_costo = cFN*FN + cFP*FP + cTN*TN + cTP*TP\n",
    "    cost = todo_costo/len(y)\n",
    "    \n",
    "    if printout:\n",
    "        print('Exactitud:    ',  accuracy)\n",
    "        print('Precisión:    ', precision)\n",
    "        print('Exhaustividad:', recall)\n",
    "        print('AUC:          ', AUC)\n",
    "        print('Costo por cliente:', cost)\n",
    "            \n",
    "    quality = collections.namedtuple('Quality', 'accuracy, precision, recall, AUC, cost')\n",
    "    return quality(accuracy, precision, recall, AUC, cost)\n"
   ]
  },
  {
   "cell_type": "markdown",
   "metadata": {
    "colab_type": "text",
    "id": "fUvFvJdad5Az"
   },
   "source": [
    "## Mostrar probabilidades - empirical (por metodo de Yeh) vs prediccion  "
   ]
  },
  {
   "cell_type": "code",
   "execution_count": 106,
   "metadata": {
    "colab": {},
    "colab_type": "code",
    "id": "HvYIyrYmeRPE"
   },
   "outputs": [],
   "source": [
    "# define the function to estimate empirical probabilities.\n",
    "# returns predicted probability (trimmed by n on both sides)\n",
    "# and empirical probability calculated by Yeh's SMM method.\n",
    "import numpy as np\n",
    "def getPQprobs(y, y_prob, n=50):\n",
    "    frame = { 'y': y, 'y_prob': y_prob } \n",
    "    df = pd.DataFrame(frame)\n",
    "    df = df.sort_values(['y_prob'])\n",
    "    y = df.y\n",
    "    y_prob = df.y_prob\n",
    "    prob_smm = []\n",
    "    denom = 2*n + 1\n",
    "    for i in range(n, len(y)-n):\n",
    "        p = y[i-n:i+n+1].sum()/denom\n",
    "        prob_smm.append(p)\n",
    "    prob_pred = np.array(y_prob[n:len(y)-n])\n",
    "    prob_smm = np.array(prob_smm)\n",
    "    return (prob_pred, prob_smm)\n",
    "\n",
    "# plot actual versus predicted probabilities sorted ascending on predicted.\n",
    "import matplotlib.pyplot as plt\n",
    "%matplotlib inline\n",
    "def plotPQ(prob_emp, prob_pred):\n",
    "    plt.rcParams.update({'font.size': 9})\n",
    "    plt.plot(prob_pred, prob_emp, label= (\"Empirical x Prediccion\") )\n",
    "    plt.xlabel(\"Prob Predicción\")\n",
    "    plt.ylabel(\"Prob Empirical\")\n",
    "    from scipy.stats import entropy\n",
    "    kld = entropy(pk=prob_emp, qk=prob_pred)\n",
    "    from scipy.spatial import distance\n",
    "    jsd = distance.jensenshannon(prob_emp, prob_pred)\n",
    "    plt.title((\"Curva Probabilidades (KL div = %.4f, JS div = %.4f)\" % (kld, jsd)))\n",
    "\n",
    "# Combine the procedures\n",
    "def mostrarPQ(y, y_prob):\n",
    "    prob_pred, prob_smm = getPQprobs(y, y_prob)\n",
    "    plotPQ(prob_smm, prob_pred)\n",
    "\n"
   ]
  },
  {
   "cell_type": "markdown",
   "metadata": {},
   "source": [
    "## Capacitar entren+val para usar para entren y test"
   ]
  },
  {
   "cell_type": "code",
   "execution_count": 107,
   "metadata": {},
   "outputs": [
    {
     "name": "stdout",
     "output_type": "stream",
     "text": [
      "entran+val: balance=\n",
      " 0    20993\n",
      "1     6007\n",
      "Name: Y, dtype: int64 \n",
      "num muestras= 14986\n",
      "entren+val: neuvo balance=\n",
      " 1    20993\n",
      "0    20993\n",
      "Name: Y, dtype: int64\n"
     ]
    }
   ],
   "source": [
    "## Hay que corregir por la desbalancia en entrenval tambien,\n",
    "## para cuando estamos listo para el 'test'.\n",
    "balance = y_entrenval.value_counts()\n",
    "num_muestras = balance[0]-balance[1]\n",
    "print('entran+val: balance=\\n', balance,'\\nnum muestras=',num_muestras)\n",
    "Xy_entrenval = pd.concat([X_entrenval, y_entrenval], axis=1)\n",
    "deudores = Xy_entrenval[Xy_entrenval['Y']==1]\n",
    "mas_deudores = deudores.sample(n=num_muestras, replace=True, random_state=0)\n",
    "Xy_entrenval_os = pd.concat([Xy_entrenval, mas_deudores])\n",
    "X_entrenval_os = Xy_entrenval_os.drop('Y', axis=1)\n",
    "y_entrenval_os = Xy_entrenval_os['Y']\n",
    "print('entren+val: neuvo balance=\\n', y_entrenval_os.value_counts())\n",
    "\n",
    "# Preparar X_entrenval_os_tr tambien\n",
    "# Pare cuando hacemos el test.\n",
    "X_entrenval_os_tr = X_entrenval_os.copy()\n",
    "sqrt_monto(X_entrenval_os_tr)\n",
    "\n",
    "# Preparar X_entrenval_os_tr_pago tambien.\n",
    "X_entrenval_os_tr_pago = X_entrenval_os_tr.copy()\n",
    "cat_num_pago(X_entrenval_os_tr_pago)\n",
    "X_entrenval_os_tr_pago.drop(columns=cols_pago, inplace=True)\n"
   ]
  },
  {
   "cell_type": "markdown",
   "metadata": {
    "colab_type": "text",
    "id": "yi7KN8z4KK5Z"
   },
   "source": [
    "## linea base de costo=0.594"
   ]
  },
  {
   "cell_type": "markdown",
   "metadata": {
    "colab_type": "text",
    "id": "ooLAwJSC1KW3"
   },
   "source": [
    "# Neural Network using Keras"
   ]
  },
  {
   "cell_type": "markdown",
   "metadata": {
    "colab_type": "text",
    "id": "GjPPcW3sP0vY"
   },
   "source": [
    "## Probar con datos originales. Sin 'oversampling' y sin transformar.  "
   ]
  },
  {
   "cell_type": "code",
   "execution_count": 69,
   "metadata": {
    "colab": {
     "base_uri": "https://localhost:8080/"
    },
    "colab_type": "code",
    "id": "5eF_cMK61Ubm",
    "outputId": "94a0a5e2-3f2f-4424-8184-f86a5189a765"
   },
   "outputs": [
    {
     "name": "stdout",
     "output_type": "stream",
     "text": [
      "Default Ratio : 0.22154166666666666\n"
     ]
    }
   ],
   "source": [
    "from sklearn.preprocessing import StandardScaler\n",
    "from keras.utils import to_categorical\n",
    "\n",
    "scaler = StandardScaler()\n",
    "scaler.fit(X_entren)\n",
    "_X_entren = scaler.transform(X_entren)\n",
    "_X_val = scaler.transform(X_val)\n",
    "\n",
    "default = y_entren.sum()\n",
    "ratio = float(default/len(y_entren))\n",
    "print('Default Ratio :',ratio)\n",
    "\n"
   ]
  },
  {
   "cell_type": "code",
   "execution_count": 70,
   "metadata": {
    "colab": {
     "base_uri": "https://localhost:8080/"
    },
    "colab_type": "code",
    "id": "5gso9fE21x8Y",
    "outputId": "9e136abb-c86f-4379-c695-de4da4761267"
   },
   "outputs": [
    {
     "name": "stdout",
     "output_type": "stream",
     "text": [
      "Train on 24000 samples, validate on 3000 samples\n",
      "Epoch 1/20\n",
      "24000/24000 [==============================] - 1s 49us/step - loss: 0.4730 - acc: 0.8059 - val_loss: 0.4666 - val_acc: 0.8043\n",
      "Epoch 2/20\n",
      "24000/24000 [==============================] - 1s 31us/step - loss: 0.4402 - acc: 0.8178 - val_loss: 0.4568 - val_acc: 0.8117\n",
      "Epoch 3/20\n",
      "24000/24000 [==============================] - 1s 31us/step - loss: 0.4322 - acc: 0.8197 - val_loss: 0.4513 - val_acc: 0.8100\n",
      "Epoch 4/20\n",
      "24000/24000 [==============================] - 1s 31us/step - loss: 0.4282 - acc: 0.8203 - val_loss: 0.4546 - val_acc: 0.8130\n",
      "Epoch 5/20\n",
      "24000/24000 [==============================] - 1s 31us/step - loss: 0.4245 - acc: 0.8221 - val_loss: 0.4521 - val_acc: 0.8163\n",
      "Epoch 6/20\n",
      "24000/24000 [==============================] - 1s 31us/step - loss: 0.4239 - acc: 0.8209 - val_loss: 0.4532 - val_acc: 0.8127\n",
      "Epoch 7/20\n",
      "24000/24000 [==============================] - 1s 31us/step - loss: 0.4217 - acc: 0.8224 - val_loss: 0.4569 - val_acc: 0.8133\n",
      "Epoch 8/20\n",
      "24000/24000 [==============================] - 1s 32us/step - loss: 0.4200 - acc: 0.8227 - val_loss: 0.4528 - val_acc: 0.8147\n",
      "Epoch 9/20\n",
      "24000/24000 [==============================] - 1s 32us/step - loss: 0.4187 - acc: 0.8230 - val_loss: 0.4583 - val_acc: 0.8140\n",
      "Epoch 10/20\n",
      "24000/24000 [==============================] - 1s 31us/step - loss: 0.4177 - acc: 0.8236 - val_loss: 0.4581 - val_acc: 0.8123\n",
      "Epoch 11/20\n",
      "24000/24000 [==============================] - 1s 31us/step - loss: 0.4164 - acc: 0.8239 - val_loss: 0.4582 - val_acc: 0.8083\n",
      "Epoch 12/20\n",
      "24000/24000 [==============================] - 1s 31us/step - loss: 0.4150 - acc: 0.8237 - val_loss: 0.4619 - val_acc: 0.8110\n",
      "Epoch 13/20\n",
      "24000/24000 [==============================] - 1s 32us/step - loss: 0.4140 - acc: 0.8240 - val_loss: 0.4636 - val_acc: 0.8137\n",
      "Epoch 14/20\n",
      "24000/24000 [==============================] - 1s 31us/step - loss: 0.4132 - acc: 0.8254 - val_loss: 0.4603 - val_acc: 0.8107\n",
      "Epoch 15/20\n",
      "24000/24000 [==============================] - 1s 32us/step - loss: 0.4113 - acc: 0.8251 - val_loss: 0.4626 - val_acc: 0.8083\n",
      "Epoch 16/20\n",
      "24000/24000 [==============================] - 1s 31us/step - loss: 0.4108 - acc: 0.8259 - val_loss: 0.4613 - val_acc: 0.8123\n",
      "Epoch 17/20\n",
      "24000/24000 [==============================] - 1s 31us/step - loss: 0.4108 - acc: 0.8269 - val_loss: 0.4592 - val_acc: 0.8097\n",
      "Epoch 18/20\n",
      "24000/24000 [==============================] - 1s 31us/step - loss: 0.4094 - acc: 0.8252 - val_loss: 0.4659 - val_acc: 0.8083\n",
      "Epoch 19/20\n",
      "24000/24000 [==============================] - 1s 31us/step - loss: 0.4088 - acc: 0.8256 - val_loss: 0.4679 - val_acc: 0.8057\n",
      "Epoch 20/20\n",
      "24000/24000 [==============================] - 1s 32us/step - loss: 0.4077 - acc: 0.8263 - val_loss: 0.4707 - val_acc: 0.8077\n"
     ]
    },
    {
     "data": {
      "text/plain": [
       "<keras.callbacks.History at 0x1a284d6dd8>"
      ]
     },
     "execution_count": 70,
     "metadata": {},
     "output_type": "execute_result"
    }
   ],
   "source": [
    "# Deep Learning Libraries\n",
    "from keras.layers import Dense\n",
    "from keras.models import Sequential\n",
    "\n",
    "n_cols = _X_entren.shape[1]\n",
    "\n",
    "model = Sequential()\n",
    "model.add(Dense(32, activation='relu', input_shape = (n_cols,)))\n",
    "model.add(Dense(16, activation='relu'))\n",
    "model.add(Dense(8, activation='relu'))\n",
    "model.add(Dense(1, activation='sigmoid'))\n",
    "\n",
    "model.compile(optimizer='adam',loss='binary_crossentropy', metrics=['acc'])\n",
    "model.fit(_X_entren, y_entren, epochs=20, validation_data=(_X_val, y_val))\n",
    "\n"
   ]
  },
  {
   "cell_type": "code",
   "execution_count": 71,
   "metadata": {
    "colab": {
     "base_uri": "https://localhost:8080/"
    },
    "colab_type": "code",
    "id": "-qXxRdwl2Ipo",
    "outputId": "7fa9367b-342a-4dba-ef7c-a9318b5a7f0c"
   },
   "outputs": [
    {
     "name": "stdout",
     "output_type": "stream",
     "text": [
      "** Validación **\n",
      "Exactitud:     0.8076666666666666\n",
      "Precisión:     0.6408977556109726\n",
      "Exhaustividad: 0.372463768115942\n",
      "AUC:           0.6550630528891398\n",
      "Costo por cliente: 0.684\n",
      "(3000,) (3000,)\n"
     ]
    },
    {
     "data": {
      "image/png": "[encoded data removed]",
      "text/plain": [
       "<Figure size 432x288 with 1 Axes>"
      ]
     },
     "metadata": {
      "needs_background": "light"
     },
     "output_type": "display_data"
    }
   ],
   "source": [
    "# Check cost measure.\n",
    "# Predict makes 2-D array of (n,1), squeeze it back to vector (n,).\n",
    "print('** Validación **')\n",
    "y_val_prob = np.squeeze(model.predict(_X_val))\n",
    "y_pred = (y_val_prob > 0.5)\n",
    "_custom_cost(y_val, y_pred)\n",
    "\n",
    "#Plot probabilities.\n",
    "print(y_val.shape, y_val_prob.shape)\n",
    "mostrarPQ(y_val, y_val_prob)"
   ]
  },
  {
   "cell_type": "markdown",
   "metadata": {
    "colab_type": "text",
    "id": "fwbBX_DCQHuP"
   },
   "source": [
    "## Probar con oversampling  \n",
    "### Mejoramiento dramatico!!  "
   ]
  },
  {
   "cell_type": "code",
   "execution_count": 72,
   "metadata": {
    "colab": {
     "base_uri": "https://localhost:8080/"
    },
    "colab_type": "code",
    "id": "fgc6BivQ2bhT",
    "outputId": "ce5010ec-1c42-4324-842f-7fccf4068918"
   },
   "outputs": [
    {
     "name": "stdout",
     "output_type": "stream",
     "text": [
      "Default Ratio : 0.5\n"
     ]
    }
   ],
   "source": [
    "from sklearn.preprocessing import StandardScaler\n",
    "from keras.utils import to_categorical\n",
    "\n",
    "scaler = StandardScaler()\n",
    "scaler.fit(X_entren_os)\n",
    "_X_entren = scaler.transform(X_entren_os)\n",
    "_X_val = scaler.transform(X_val)\n",
    "\n",
    "default = y_entren_os.sum()\n",
    "ratio = float(default/len(y_entren_os))\n",
    "print('Default Ratio :',ratio)\n",
    "\n"
   ]
  },
  {
   "cell_type": "code",
   "execution_count": 73,
   "metadata": {
    "colab": {
     "base_uri": "https://localhost:8080/"
    },
    "colab_type": "code",
    "id": "9thIgBLUQv0i",
    "outputId": "49e0cfce-f6a0-4a05-c51c-93cd56e79699"
   },
   "outputs": [
    {
     "name": "stdout",
     "output_type": "stream",
     "text": [
      "Train on 37366 samples, validate on 3000 samples\n",
      "Epoch 1/20\n",
      "37366/37366 [==============================] - 2s 43us/step - loss: 0.5925 - acc: 0.6828 - val_loss: 0.5706 - val_acc: 0.7610\n",
      "Epoch 2/20\n",
      "37366/37366 [==============================] - 1s 32us/step - loss: 0.5590 - acc: 0.7136 - val_loss: 0.5861 - val_acc: 0.7377\n",
      "Epoch 3/20\n",
      "37366/37366 [==============================] - 1s 32us/step - loss: 0.5492 - acc: 0.7191 - val_loss: 0.5702 - val_acc: 0.7457\n",
      "Epoch 4/20\n",
      "37366/37366 [==============================] - 1s 32us/step - loss: 0.5421 - acc: 0.7242 - val_loss: 0.5828 - val_acc: 0.7353\n",
      "Epoch 5/20\n",
      "37366/37366 [==============================] - 1s 32us/step - loss: 0.5378 - acc: 0.7261 - val_loss: 0.5396 - val_acc: 0.7713\n",
      "Epoch 6/20\n",
      "37366/37366 [==============================] - 1s 31us/step - loss: 0.5330 - acc: 0.7296 - val_loss: 0.5788 - val_acc: 0.7330\n",
      "Epoch 7/20\n",
      "37366/37366 [==============================] - 1s 31us/step - loss: 0.5291 - acc: 0.7311 - val_loss: 0.5721 - val_acc: 0.7350\n",
      "Epoch 8/20\n",
      "37366/37366 [==============================] - 1s 31us/step - loss: 0.5256 - acc: 0.7349 - val_loss: 0.6030 - val_acc: 0.7080\n",
      "Epoch 9/20\n",
      "37366/37366 [==============================] - 1s 31us/step - loss: 0.5219 - acc: 0.7382 - val_loss: 0.5852 - val_acc: 0.7270\n",
      "Epoch 10/20\n",
      "37366/37366 [==============================] - 1s 32us/step - loss: 0.5187 - acc: 0.7412 - val_loss: 0.6244 - val_acc: 0.6760\n",
      "Epoch 11/20\n",
      "37366/37366 [==============================] - 1s 33us/step - loss: 0.5168 - acc: 0.7440 - val_loss: 0.5551 - val_acc: 0.7407\n",
      "Epoch 12/20\n",
      "37366/37366 [==============================] - 1s 32us/step - loss: 0.5131 - acc: 0.7452 - val_loss: 0.5672 - val_acc: 0.7420\n",
      "Epoch 13/20\n",
      "37366/37366 [==============================] - 1s 31us/step - loss: 0.5105 - acc: 0.7482 - val_loss: 0.5936 - val_acc: 0.7157\n",
      "Epoch 14/20\n",
      "37366/37366 [==============================] - 1s 31us/step - loss: 0.5083 - acc: 0.7484 - val_loss: 0.5499 - val_acc: 0.7547\n",
      "Epoch 15/20\n",
      "37366/37366 [==============================] - 1s 31us/step - loss: 0.5065 - acc: 0.7497 - val_loss: 0.5743 - val_acc: 0.7330\n",
      "Epoch 16/20\n",
      "37366/37366 [==============================] - 1s 31us/step - loss: 0.5032 - acc: 0.7535 - val_loss: 0.5961 - val_acc: 0.7130\n",
      "Epoch 17/20\n",
      "37366/37366 [==============================] - 1s 31us/step - loss: 0.5006 - acc: 0.7532 - val_loss: 0.5900 - val_acc: 0.7077\n",
      "Epoch 18/20\n",
      "37366/37366 [==============================] - 1s 32us/step - loss: 0.4993 - acc: 0.7544 - val_loss: 0.6202 - val_acc: 0.6843\n",
      "Epoch 19/20\n",
      "37366/37366 [==============================] - 1s 34us/step - loss: 0.4969 - acc: 0.7576 - val_loss: 0.6008 - val_acc: 0.7043\n",
      "Epoch 20/20\n",
      "37366/37366 [==============================] - 1s 33us/step - loss: 0.4950 - acc: 0.7578 - val_loss: 0.6303 - val_acc: 0.6853\n"
     ]
    },
    {
     "data": {
      "text/plain": [
       "<keras.callbacks.History at 0x1a25b13240>"
      ]
     },
     "execution_count": 73,
     "metadata": {},
     "output_type": "execute_result"
    }
   ],
   "source": [
    "# Deep Learning Libraries\n",
    "from keras.layers import Dense\n",
    "from keras.models import Sequential\n",
    "\n",
    "n_cols = _X_entren.shape[1]\n",
    "\n",
    "model = Sequential()\n",
    "model.add(Dense(32, activation='relu', input_shape = (n_cols,)))\n",
    "model.add(Dense(16, activation='relu'))\n",
    "model.add(Dense(8, activation='relu'))\n",
    "model.add(Dense(1, activation='sigmoid'))\n",
    "\n",
    "model.compile(optimizer='adam',loss='binary_crossentropy', metrics=['acc'])\n",
    "model.fit(_X_entren, y_entren_os, epochs=20, validation_data=(_X_val, y_val))\n",
    "\n",
    "\n"
   ]
  },
  {
   "cell_type": "code",
   "execution_count": 74,
   "metadata": {
    "colab": {
     "base_uri": "https://localhost:8080/"
    },
    "colab_type": "code",
    "id": "ugJeDFi6RX0J",
    "outputId": "242ef309-44ad-412c-e557-15f2f9246317"
   },
   "outputs": [
    {
     "name": "stdout",
     "output_type": "stream",
     "text": [
      "** Validación **\n",
      "Exactitud:     0.6853333333333333\n",
      "Precisión:     0.3897569444444444\n",
      "Exhaustividad: 0.6507246376811594\n",
      "AUC:           0.6731978166760775\n",
      "Costo por cliente: 0.48633333333333334\n",
      "(3000,) (3000,)\n"
     ]
    },
    {
     "data": {
      "image/png": "[encoded data removed]",
      "text/plain": [
       "<Figure size 432x288 with 1 Axes>"
      ]
     },
     "metadata": {
      "needs_background": "light"
     },
     "output_type": "display_data"
    }
   ],
   "source": [
    "# Check cost measure.\n",
    "# Predict makes 2-D array of (n,1), squeeze it back to vector (n,).\n",
    "print('** Validación **')\n",
    "y_val_prob = np.squeeze(model.predict(_X_val))\n",
    "y_pred = (y_val_prob > 0.5)\n",
    "_custom_cost(y_val, y_pred)\n",
    "\n",
    "#Plot probabilities.\n",
    "print(y_val.shape, y_val_prob.shape)\n",
    "mostrarPQ(y_val, y_val_prob)"
   ]
  },
  {
   "cell_type": "markdown",
   "metadata": {},
   "source": [
    "## Oversampling y raiz cuadrado de monto de dinero  "
   ]
  },
  {
   "cell_type": "code",
   "execution_count": 75,
   "metadata": {
    "colab": {
     "base_uri": "https://localhost:8080/"
    },
    "colab_type": "code",
    "id": "vlekLqARSW2x",
    "outputId": "daf866a0-7219-47d7-d6e2-ae411ca352fa"
   },
   "outputs": [
    {
     "name": "stdout",
     "output_type": "stream",
     "text": [
      "Default Ratio : 0.5\n"
     ]
    }
   ],
   "source": [
    "# Con sqrt transformados montos\n",
    "# Un poquito mejor que sin transformar.\n",
    "\n",
    "from sklearn.preprocessing import StandardScaler\n",
    "from keras.utils import to_categorical\n",
    "\n",
    "scaler = StandardScaler()\n",
    "scaler.fit(X_entren_os_tr)\n",
    "_X_entren = scaler.transform(X_entren_os_tr)\n",
    "_X_val = scaler.transform(X_val_tr)\n",
    "\n",
    "default = y_entren_os.sum()\n",
    "ratio = float(default/len(y_entren_os))\n",
    "print('Default Ratio :',ratio)"
   ]
  },
  {
   "cell_type": "code",
   "execution_count": 76,
   "metadata": {
    "colab": {
     "base_uri": "https://localhost:8080/"
    },
    "colab_type": "code",
    "id": "JfFgw5tsSuHe",
    "outputId": "7eee5e39-de3b-4938-a47c-04cb7057e68a"
   },
   "outputs": [
    {
     "name": "stdout",
     "output_type": "stream",
     "text": [
      "Train on 37366 samples, validate on 3000 samples\n",
      "Epoch 1/40\n",
      "37366/37366 [==============================] - 2s 44us/step - loss: 0.5875 - acc: 0.6895 - val_loss: 0.6015 - val_acc: 0.7387\n",
      "Epoch 2/40\n",
      "37366/37366 [==============================] - 1s 32us/step - loss: 0.5583 - acc: 0.7152 - val_loss: 0.5708 - val_acc: 0.7483\n",
      "Epoch 3/40\n",
      "37366/37366 [==============================] - 1s 31us/step - loss: 0.5495 - acc: 0.7206 - val_loss: 0.5767 - val_acc: 0.7433\n",
      "Epoch 4/40\n",
      "37366/37366 [==============================] - 1s 31us/step - loss: 0.5429 - acc: 0.7262 - val_loss: 0.5693 - val_acc: 0.7467\n",
      "Epoch 5/40\n",
      "37366/37366 [==============================] - 1s 32us/step - loss: 0.5381 - acc: 0.7299 - val_loss: 0.5677 - val_acc: 0.7457\n",
      "Epoch 6/40\n",
      "37366/37366 [==============================] - 1s 32us/step - loss: 0.5333 - acc: 0.7312 - val_loss: 0.5746 - val_acc: 0.7367\n",
      "Epoch 7/40\n",
      "37366/37366 [==============================] - 1s 32us/step - loss: 0.5291 - acc: 0.7353 - val_loss: 0.5672 - val_acc: 0.7397\n",
      "Epoch 8/40\n",
      "37366/37366 [==============================] - 1s 31us/step - loss: 0.5255 - acc: 0.7391 - val_loss: 0.5641 - val_acc: 0.7500\n",
      "Epoch 9/40\n",
      "37366/37366 [==============================] - 1s 32us/step - loss: 0.5224 - acc: 0.7398 - val_loss: 0.5727 - val_acc: 0.7303\n",
      "Epoch 10/40\n",
      "37366/37366 [==============================] - 1s 32us/step - loss: 0.5185 - acc: 0.7400 - val_loss: 0.5815 - val_acc: 0.7217\n",
      "Epoch 11/40\n",
      "37366/37366 [==============================] - 1s 31us/step - loss: 0.5156 - acc: 0.7436 - val_loss: 0.5770 - val_acc: 0.7307\n",
      "Epoch 12/40\n",
      "37366/37366 [==============================] - 1s 33us/step - loss: 0.5132 - acc: 0.7459 - val_loss: 0.5643 - val_acc: 0.7333\n",
      "Epoch 13/40\n",
      "37366/37366 [==============================] - 1s 34us/step - loss: 0.5103 - acc: 0.7476 - val_loss: 0.5706 - val_acc: 0.7357\n",
      "Epoch 14/40\n",
      "37366/37366 [==============================] - 1s 32us/step - loss: 0.5079 - acc: 0.7492 - val_loss: 0.5755 - val_acc: 0.7303\n",
      "Epoch 15/40\n",
      "37366/37366 [==============================] - 1s 34us/step - loss: 0.5045 - acc: 0.7518 - val_loss: 0.6000 - val_acc: 0.7100\n",
      "Epoch 16/40\n",
      "37366/37366 [==============================] - 1s 33us/step - loss: 0.5019 - acc: 0.7535 - val_loss: 0.6036 - val_acc: 0.7123\n",
      "Epoch 17/40\n",
      "37366/37366 [==============================] - 1s 33us/step - loss: 0.4995 - acc: 0.7561 - val_loss: 0.5706 - val_acc: 0.7433\n",
      "Epoch 18/40\n",
      "37366/37366 [==============================] - 1s 32us/step - loss: 0.4968 - acc: 0.7558 - val_loss: 0.5972 - val_acc: 0.7287\n",
      "Epoch 19/40\n",
      "37366/37366 [==============================] - 1s 32us/step - loss: 0.4942 - acc: 0.7581 - val_loss: 0.5980 - val_acc: 0.7237\n",
      "Epoch 20/40\n",
      "37366/37366 [==============================] - 1s 32us/step - loss: 0.4924 - acc: 0.7589 - val_loss: 0.5880 - val_acc: 0.7293\n",
      "Epoch 21/40\n",
      "37366/37366 [==============================] - 1s 34us/step - loss: 0.4890 - acc: 0.7616 - val_loss: 0.6085 - val_acc: 0.7130\n",
      "Epoch 22/40\n",
      "37366/37366 [==============================] - 1s 32us/step - loss: 0.4884 - acc: 0.7626 - val_loss: 0.5866 - val_acc: 0.7227\n",
      "Epoch 23/40\n",
      "37366/37366 [==============================] - 1s 32us/step - loss: 0.4868 - acc: 0.7647 - val_loss: 0.5924 - val_acc: 0.7263\n",
      "Epoch 24/40\n",
      "37366/37366 [==============================] - 1s 31us/step - loss: 0.4849 - acc: 0.7639 - val_loss: 0.5907 - val_acc: 0.7237\n",
      "Epoch 25/40\n",
      "37366/37366 [==============================] - 1s 34us/step - loss: 0.4836 - acc: 0.7639 - val_loss: 0.6009 - val_acc: 0.7260\n",
      "Epoch 26/40\n",
      "37366/37366 [==============================] - 1s 34us/step - loss: 0.4830 - acc: 0.7667 - val_loss: 0.6182 - val_acc: 0.6977\n",
      "Epoch 27/40\n",
      "37366/37366 [==============================] - 1s 33us/step - loss: 0.4814 - acc: 0.7656 - val_loss: 0.6289 - val_acc: 0.6933\n",
      "Epoch 28/40\n",
      "37366/37366 [==============================] - 1s 33us/step - loss: 0.4805 - acc: 0.7672 - val_loss: 0.6163 - val_acc: 0.6947\n",
      "Epoch 29/40\n",
      "37366/37366 [==============================] - 1s 33us/step - loss: 0.4790 - acc: 0.7682 - val_loss: 0.6066 - val_acc: 0.7250\n",
      "Epoch 30/40\n",
      "37366/37366 [==============================] - 1s 32us/step - loss: 0.4783 - acc: 0.7693 - val_loss: 0.6091 - val_acc: 0.7233\n",
      "Epoch 31/40\n",
      "37366/37366 [==============================] - 1s 31us/step - loss: 0.4774 - acc: 0.7684 - val_loss: 0.6128 - val_acc: 0.7170\n",
      "Epoch 32/40\n",
      "37366/37366 [==============================] - 1s 31us/step - loss: 0.4761 - acc: 0.7700 - val_loss: 0.5975 - val_acc: 0.7260\n",
      "Epoch 33/40\n",
      "37366/37366 [==============================] - 1s 31us/step - loss: 0.4742 - acc: 0.7727 - val_loss: 0.6186 - val_acc: 0.7047\n",
      "Epoch 34/40\n",
      "37366/37366 [==============================] - 1s 31us/step - loss: 0.4741 - acc: 0.7725 - val_loss: 0.6068 - val_acc: 0.7203\n",
      "Epoch 35/40\n",
      "37366/37366 [==============================] - 1s 31us/step - loss: 0.4732 - acc: 0.7734 - val_loss: 0.6056 - val_acc: 0.7323\n",
      "Epoch 36/40\n",
      "37366/37366 [==============================] - 1s 31us/step - loss: 0.4716 - acc: 0.7754 - val_loss: 0.6153 - val_acc: 0.7247\n",
      "Epoch 37/40\n",
      "37366/37366 [==============================] - 1s 33us/step - loss: 0.4714 - acc: 0.7722 - val_loss: 0.6104 - val_acc: 0.7290\n",
      "Epoch 38/40\n",
      "37366/37366 [==============================] - 1s 34us/step - loss: 0.4695 - acc: 0.7736 - val_loss: 0.6403 - val_acc: 0.7040\n",
      "Epoch 39/40\n",
      "37366/37366 [==============================] - 1s 34us/step - loss: 0.4682 - acc: 0.7758 - val_loss: 0.6138 - val_acc: 0.7157\n",
      "Epoch 40/40\n",
      "37366/37366 [==============================] - 1s 34us/step - loss: 0.4684 - acc: 0.7747 - val_loss: 0.6361 - val_acc: 0.6990\n"
     ]
    },
    {
     "data": {
      "text/plain": [
       "<keras.callbacks.History at 0x1a2320fda0>"
      ]
     },
     "execution_count": 76,
     "metadata": {},
     "output_type": "execute_result"
    }
   ],
   "source": [
    "# Deep Learning Libraries\n",
    "from keras.layers import Dense\n",
    "from keras.models import Sequential\n",
    "\n",
    "n_cols = _X_entren.shape[1]\n",
    "\n",
    "model = Sequential()\n",
    "model.add(Dense(32, activation='relu', input_shape = (n_cols,)))\n",
    "model.add(Dense(16, activation='relu'))\n",
    "model.add(Dense(8, activation='relu'))\n",
    "model.add(Dense(1, activation='sigmoid'))\n",
    "\n",
    "model.compile(optimizer='adam',loss='binary_crossentropy', metrics=['acc'])\n",
    "model.fit(_X_entren, y_entren_os, epochs=20, validation_data=(_X_val, y_val))\n",
    "\n"
   ]
  },
  {
   "cell_type": "code",
   "execution_count": 77,
   "metadata": {
    "colab": {
     "base_uri": "https://localhost:8080/"
    },
    "colab_type": "code",
    "id": "BeBrHy70TT1V",
    "outputId": "d7841a60-fced-4da8-a53e-22d0abb7329e"
   },
   "outputs": [
    {
     "name": "stdout",
     "output_type": "stream",
     "text": [
      "** Validación **\n",
      "Exactitud:     0.699\n",
      "Precisión:     0.40093023255813953\n",
      "Exhaustividad: 0.6246376811594203\n",
      "AUC:           0.6729249011857708\n",
      "Costo por cliente: 0.5026666666666667\n",
      "(3000,) (3000,)\n"
     ]
    },
    {
     "data": {
      "image/png": "[encoded data removed]",
      "text/plain": [
       "<Figure size 432x288 with 1 Axes>"
      ]
     },
     "metadata": {
      "needs_background": "light"
     },
     "output_type": "display_data"
    }
   ],
   "source": [
    "# Check cost measure.\n",
    "# Predict makes 2-D array of (n,1), squeeze it back to vector (n,).\n",
    "print('** Validación **')\n",
    "y_val_prob = np.squeeze(model.predict(_X_val))\n",
    "y_pred = (y_val_prob > 0.5)\n",
    "_custom_cost(y_val, y_pred)\n",
    "\n",
    "#Plot probabilities.\n",
    "print(y_val.shape, y_val_prob.shape)\n",
    "mostrarPQ(y_val, y_val_prob)"
   ]
  },
  {
   "cell_type": "markdown",
   "metadata": {},
   "source": [
    "## Oversampling, raiz cuadrado del monto de dinero, pago categorical  "
   ]
  },
  {
   "cell_type": "code",
   "execution_count": 109,
   "metadata": {},
   "outputs": [],
   "source": [
    "# Usar categorias como dummy variables.\n",
    "X_entren_os_tr_pago = pd.get_dummies(X_entren_os_tr_pago, prefix = cols_pago, columns=cols_pago_cat)\n",
    "X_entrenval_os_tr_pago = pd.get_dummies(X_entrenval_os_tr_pago, prefix = cols_pago, columns=cols_pago_cat)\n",
    "X_val_tr_pago = pd.get_dummies(X_val_tr_pago, prefix = cols_pago, columns=cols_pago_cat)\n",
    "X_test_tr_pago = pd.get_dummies(X_test_tr_pago, prefix = cols_pago, columns=cols_pago_cat)"
   ]
  },
  {
   "cell_type": "code",
   "execution_count": 110,
   "metadata": {
    "colab": {
     "base_uri": "https://localhost:8080/"
    },
    "colab_type": "code",
    "id": "iCDtSfjLT_so",
    "outputId": "77acba02-d0be-48d3-dc3e-e20197c7a575"
   },
   "outputs": [
    {
     "name": "stdout",
     "output_type": "stream",
     "text": [
      "num columns= 63\n",
      "Default Ratio : 0.5\n"
     ]
    }
   ],
   "source": [
    "# Con sqrt transformados montos y pagos categoricales.\n",
    "# Quizas no deberia escalar todo!\n",
    "# Hay que revisarlo.\n",
    "\n",
    "from sklearn.preprocessing import StandardScaler\n",
    "from keras.utils import to_categorical\n",
    "print('num columns=', len(X_entren_os_tr_pago.columns))\n",
    "\n",
    "scaler = StandardScaler()\n",
    "scaler.fit(X_entren_os_tr_pago)\n",
    "_X_entren = scaler.transform(X_entren_os_tr_pago)\n",
    "_X_val = scaler.transform(X_val_tr_pago)\n",
    "\n",
    "default = y_entren_os.sum()\n",
    "ratio = float(default/len(y_entren_os))\n",
    "print('Default Ratio :',ratio)"
   ]
  },
  {
   "cell_type": "code",
   "execution_count": 111,
   "metadata": {},
   "outputs": [
    {
     "data": {
      "text/plain": [
       "(37294, 63)"
      ]
     },
     "execution_count": 111,
     "metadata": {},
     "output_type": "execute_result"
    }
   ],
   "source": [
    "# Verificar que hay todos los datos.\n",
    "#X_entren_os_tr_pago.head()\n",
    "_X_entren.shape\n",
    "# Trata categorical como numeric."
   ]
  },
  {
   "cell_type": "code",
   "execution_count": 112,
   "metadata": {
    "colab": {
     "base_uri": "https://localhost:8080/"
    },
    "colab_type": "code",
    "id": "Qc9E-6YYUVNY",
    "outputId": "37b89e16-1560-48c2-e7f3-9c9ffc772866"
   },
   "outputs": [
    {
     "name": "stdout",
     "output_type": "stream",
     "text": [
      "Train on 37294 samples, validate on 3000 samples\n",
      "Epoch 1/20\n",
      "37294/37294 [==============================] - 2s 46us/step - loss: 0.5745 - acc: 0.6970 - val_loss: 0.5602 - val_acc: 0.7397\n",
      "Epoch 2/20\n",
      "37294/37294 [==============================] - 1s 34us/step - loss: 0.5537 - acc: 0.7112 - val_loss: 0.5669 - val_acc: 0.7520\n",
      "Epoch 3/20\n",
      "37294/37294 [==============================] - 1s 36us/step - loss: 0.5470 - acc: 0.7160 - val_loss: 0.5688 - val_acc: 0.7390\n",
      "Epoch 4/20\n",
      "37294/37294 [==============================] - 1s 35us/step - loss: 0.5408 - acc: 0.7198 - val_loss: 0.5669 - val_acc: 0.7103\n",
      "Epoch 5/20\n",
      "37294/37294 [==============================] - 1s 35us/step - loss: 0.5362 - acc: 0.7230 - val_loss: 0.5478 - val_acc: 0.7307\n",
      "Epoch 6/20\n",
      "37294/37294 [==============================] - 1s 35us/step - loss: 0.5316 - acc: 0.7286 - val_loss: 0.5833 - val_acc: 0.7100\n",
      "Epoch 7/20\n",
      "37294/37294 [==============================] - 1s 33us/step - loss: 0.5269 - acc: 0.7308 - val_loss: 0.5322 - val_acc: 0.7560\n",
      "Epoch 8/20\n",
      "37294/37294 [==============================] - 1s 35us/step - loss: 0.5223 - acc: 0.7356 - val_loss: 0.5244 - val_acc: 0.7497\n",
      "Epoch 9/20\n",
      "37294/37294 [==============================] - 1s 36us/step - loss: 0.5183 - acc: 0.7384 - val_loss: 0.5384 - val_acc: 0.7433\n",
      "Epoch 10/20\n",
      "37294/37294 [==============================] - 1s 36us/step - loss: 0.5119 - acc: 0.7421 - val_loss: 0.5486 - val_acc: 0.7347\n",
      "Epoch 11/20\n",
      "37294/37294 [==============================] - 1s 36us/step - loss: 0.5090 - acc: 0.7452 - val_loss: 0.5552 - val_acc: 0.7293\n",
      "Epoch 12/20\n",
      "37294/37294 [==============================] - 1s 36us/step - loss: 0.5042 - acc: 0.7492 - val_loss: 0.5515 - val_acc: 0.7307\n",
      "Epoch 13/20\n",
      "37294/37294 [==============================] - 1s 35us/step - loss: 0.5013 - acc: 0.7522 - val_loss: 0.5736 - val_acc: 0.7103\n",
      "Epoch 14/20\n",
      "37294/37294 [==============================] - 1s 35us/step - loss: 0.4964 - acc: 0.7557 - val_loss: 0.6159 - val_acc: 0.6730\n",
      "Epoch 15/20\n",
      "37294/37294 [==============================] - 1s 34us/step - loss: 0.4939 - acc: 0.7567 - val_loss: 0.5705 - val_acc: 0.7203\n",
      "Epoch 16/20\n",
      "37294/37294 [==============================] - 1s 34us/step - loss: 0.4915 - acc: 0.7563 - val_loss: 0.5884 - val_acc: 0.6987\n",
      "Epoch 17/20\n",
      "37294/37294 [==============================] - 1s 33us/step - loss: 0.4880 - acc: 0.7596 - val_loss: 0.5804 - val_acc: 0.7070\n",
      "Epoch 18/20\n",
      "37294/37294 [==============================] - 1s 33us/step - loss: 0.4860 - acc: 0.7606 - val_loss: 0.5923 - val_acc: 0.6997\n",
      "Epoch 19/20\n",
      "37294/37294 [==============================] - 1s 33us/step - loss: 0.4825 - acc: 0.7633 - val_loss: 0.5922 - val_acc: 0.7003\n",
      "Epoch 20/20\n",
      "37294/37294 [==============================] - 1s 33us/step - loss: 0.4805 - acc: 0.7645 - val_loss: 0.6167 - val_acc: 0.6990\n"
     ]
    }
   ],
   "source": [
    "# Deep Learning Libraries\n",
    "from keras.layers import Dense\n",
    "from keras.models import Sequential\n",
    "\n",
    "n_cols = _X_entren.shape[1]\n",
    "\n",
    "model = Sequential()\n",
    "model.add(Dense(32, activation='relu', input_shape = (n_cols,)))\n",
    "model.add(Dense(16, activation='relu'))\n",
    "model.add(Dense(8, activation='relu'))\n",
    "model.add(Dense(1, activation='sigmoid'))\n",
    "\n",
    "model.compile(optimizer='adam',loss='binary_crossentropy', metrics=['acc'])\n",
    "history = model.fit(_X_entren, y_entren_os, epochs=20, validation_data=(_X_val, y_val))\n",
    "\n"
   ]
  },
  {
   "cell_type": "code",
   "execution_count": 113,
   "metadata": {},
   "outputs": [
    {
     "data": {
      "text/plain": [
       "dict_keys(['val_loss', 'val_acc', 'loss', 'acc'])"
      ]
     },
     "execution_count": 113,
     "metadata": {},
     "output_type": "execute_result"
    }
   ],
   "source": [
    "# Miramos como fue el entrenamiento.\n",
    "\n",
    "# Si podemos evaluar model contra otro base de datos.... como test!\n",
    "#model.evaluate(test_images, test_labels)\n",
    "\n",
    "# history is a dictionary.\n",
    "history.history.keys()\n"
   ]
  },
  {
   "cell_type": "markdown",
   "metadata": {},
   "source": [
    "### Visualización de la curva de entrenamiento\n",
    "Al ejecutar model.fit() hemos recibido como variable de retorno el historial del entrenamiento, el cual podemos usar para graficar la curva de entrenamiento con las métricas que hemos configurado."
   ]
  },
  {
   "cell_type": "code",
   "execution_count": 114,
   "metadata": {},
   "outputs": [
    {
     "data": {
      "image/png": "[encoded data removed]",
      "text/plain": [
       "<Figure size 1080x360 with 2 Axes>"
      ]
     },
     "metadata": {
      "needs_background": "light"
     },
     "output_type": "display_data"
    }
   ],
   "source": [
    "# Adaptado de: https://keras.io/visualization/\n",
    "\n",
    "plt.figure(figsize=(15,5))\n",
    "plt.tight_layout()\n",
    "\n",
    "# Plot training & validation loss values\n",
    "plt.subplot(1, 2, 1)\n",
    "plt.plot(history.history['loss'])\n",
    "plt.plot(history.history['val_loss'])\n",
    "plt.title('Model loss')\n",
    "plt.ylabel('Loss')\n",
    "plt.xlabel('Epoch')\n",
    "plt.legend(['Train', 'Val'], loc='upper left')\n",
    "\n",
    "# Plot training & validation accuracy values\n",
    "plt.subplot(1, 2, 2)\n",
    "plt.plot(history.history['acc'])\n",
    "plt.plot(history.history['val_acc'])\n",
    "plt.title('Model accuracy')\n",
    "plt.ylabel('Accuracy')\n",
    "plt.xlabel('Epoch')\n",
    "plt.legend(['Train', 'Val'], loc='upper left')\n",
    "plt.show()\n"
   ]
  },
  {
   "cell_type": "markdown",
   "metadata": {},
   "source": [
    "## Visualización del modelo\n",
    "Keras nos permite visualizar un resumen de nuestro modelo, tanto de manera gráfica como textual:"
   ]
  },
  {
   "cell_type": "code",
   "execution_count": 115,
   "metadata": {},
   "outputs": [],
   "source": [
    "#from IPython.display import SVG\n",
    "#from tensorflow.keras.utils import model_to_dot\n",
    "\n",
    "#SVG(model_to_dot(model, show_shapes=True, dpi=64).create(prog='dot', format='svg'))"
   ]
  },
  {
   "cell_type": "code",
   "execution_count": 116,
   "metadata": {},
   "outputs": [
    {
     "name": "stdout",
     "output_type": "stream",
     "text": [
      "_________________________________________________________________\n",
      "Layer (type)                 Output Shape              Param #   \n",
      "=================================================================\n",
      "dense_21 (Dense)             (None, 32)                2048      \n",
      "_________________________________________________________________\n",
      "dense_22 (Dense)             (None, 16)                528       \n",
      "_________________________________________________________________\n",
      "dense_23 (Dense)             (None, 8)                 136       \n",
      "_________________________________________________________________\n",
      "dense_24 (Dense)             (None, 1)                 9         \n",
      "=================================================================\n",
      "Total params: 2,721\n",
      "Trainable params: 2,721\n",
      "Non-trainable params: 0\n",
      "_________________________________________________________________\n"
     ]
    }
   ],
   "source": [
    "model.summary()\n",
    "# capa de input (None, 45)"
   ]
  },
  {
   "cell_type": "code",
   "execution_count": 117,
   "metadata": {
    "colab": {
     "base_uri": "https://localhost:8080/"
    },
    "colab_type": "code",
    "id": "2-Byhh5YU1BJ",
    "outputId": "f56d3e2f-f469-4a1c-86c6-c81d58cff2ec"
   },
   "outputs": [
    {
     "name": "stdout",
     "output_type": "stream",
     "text": [
      "** Validación **\n",
      "Exactitud:     0.699\n",
      "Precisión:     0.391644908616188\n",
      "Exhaustividad: 0.6880733944954128\n",
      "AUC:           0.6950597151505198\n",
      "Costo por cliente: 0.423\n",
      "(3000,) (3000,)\n"
     ]
    },
    {
     "data": {
      "image/png": "[encoded data removed]",
      "text/plain": [
       "<Figure size 432x288 with 1 Axes>"
      ]
     },
     "metadata": {
      "needs_background": "light"
     },
     "output_type": "display_data"
    }
   ],
   "source": [
    "# Check cost measure.\n",
    "# Predict makes 2-D array of (n,1), squeeze it back to vector (n,).\n",
    "print('** Validación **')\n",
    "y_val_prob = np.squeeze(model.predict(_X_val))\n",
    "y_pred = (y_val_prob > 0.5)\n",
    "_custom_cost(y_val, y_pred)\n",
    "\n",
    "#Plot probabilities.\n",
    "print(y_val.shape, y_val_prob.shape)\n",
    "mostrarPQ(y_val, y_val_prob)"
   ]
  },
  {
   "cell_type": "markdown",
   "metadata": {
    "colab_type": "text",
    "id": "q6lXPhNxS7YB"
   },
   "source": [
    "## Funcción para procesar experimentos de red neuronal  \n",
    "### Tambien, probar función de perdida adaptada  "
   ]
  },
  {
   "cell_type": "code",
   "execution_count": 118,
   "metadata": {
    "colab": {
     "base_uri": "https://localhost:8080/",
     "height": 34
    },
    "colab_type": "code",
    "id": "BXycfIXZG9Nt",
    "outputId": "1fd5043e-87da-4372-baad-b49ae0be1ffc"
   },
   "outputs": [],
   "source": [
    "# Experimento con funccion de perdida adaptada.\n",
    "from sklearn.preprocessing import StandardScaler\n",
    "from keras.utils import to_categorical\n",
    "\n",
    "def prep_datos_nn(X_entren, X_val, y_entren):\n",
    "  scaler = StandardScaler()\n",
    "  scaler.fit(X_entren)\n",
    "  _X_entren = scaler.transform(X_entren)\n",
    "  _X_val = scaler.transform(X_val)\n",
    "  # print proporción 'default'\n",
    "  default = y_entren.sum()\n",
    "  ratio = float(default/len(y_entren))\n",
    "  print('Default Ratio :',ratio)\n",
    "  return _X_entren, _X_val"
   ]
  },
  {
   "cell_type": "code",
   "execution_count": 120,
   "metadata": {
    "colab": {},
    "colab_type": "code",
    "id": "IDsgQTH7TZSr"
   },
   "outputs": [],
   "source": [
    "# Experimento con loss adaptada.\n",
    "# Probar con función de perdida, copiado de Keras.\n",
    "# https://github.com/keras-team/keras/blob/master/keras/losses.py\n",
    "import keras.backend as K\n",
    "#cost_coef = 1.25\n",
    "#def J1_binary_crossentropy(target, output, from_logits=False):\n",
    "#    if not from_logits:\n",
    "#        output = K.clip(output, 1e-7, 1 - 1e-7)\n",
    "#        output = K.log(output / (1 - output))\n",
    "#    return (cost_coef * target * -K.log(K.sigmoid(output)) +\n",
    "#            (1 - target) * -K.log(1 - K.sigmoid(output)))\n",
    "#def J_binary_crossentropy(y_true, y_pred):\n",
    "#    return K.mean(J1_binary_crossentropy(y_true, y_pred), axis=-1)\n",
    "\n",
    "def get_J_binary_crossentropy(coef=1.0):\n",
    "    cost_coef = coef\n",
    "    def J_binary_crossentropy(y_true, y_pred):\n",
    "        def J1_binary_crossentropy(target, output, from_logits=False):\n",
    "            if not from_logits:\n",
    "                output = K.clip(output, 1e-7, 1 - 1e-7)\n",
    "                output = K.log(output / (1 - output))\n",
    "            return (cost_coef * target * -K.log(K.sigmoid(output)) +\n",
    "                    (1 - target) * -K.log(1 - K.sigmoid(output)))\n",
    "        return K.mean(J1_binary_crossentropy(y_true, y_pred), axis=-1)\n",
    "    return J_binary_crossentropy\n"
   ]
  },
  {
   "cell_type": "code",
   "execution_count": 126,
   "metadata": {
    "colab": {},
    "colab_type": "code",
    "id": "bjqITsqXIckb"
   },
   "outputs": [],
   "source": [
    "# Deep Learning Libraries\n",
    "from keras.layers import Dense\n",
    "from keras.models import Sequential\n",
    "\n",
    "def run_nn(_X_entren, y_entren, _X_val, y_val, num_epochs=20, coef=1.0):\n",
    "  print('neural net con cost_coef=', coef)\n",
    "\n",
    "  n_cols = _X_entren.shape[1]\n",
    "\n",
    "  model = Sequential()\n",
    "  model.add(Dense(32, activation='relu', input_shape = (n_cols,)))\n",
    "  model.add(Dense(16, activation='relu'))\n",
    "  model.add(Dense(8, activation='relu'))\n",
    "  model.add(Dense(1, activation='sigmoid'))\n",
    "\n",
    "  model.compile(optimizer='adam',loss=get_J_binary_crossentropy(coef), metrics=['acc'])\n",
    "  #model.compile(optimizer='adam',loss=J_binary_crossentropy, metrics=['acc'])\n",
    "  #model.compile(optimizer='adam',loss='binary_crossentropy', metrics=['acc'])\n",
    "  #model.compile(optimizer='adam',loss=get_weighted_loss(C), metrics=['acc'])\n",
    "\n",
    "  model.fit(_X_entren, y_entren, epochs=num_epochs, validation_data=(_X_val, y_val))\n",
    "  \n",
    "  y_val_prob = np.squeeze(model.predict(_X_val))\n",
    "  return y_val_prob\n"
   ]
  },
  {
   "cell_type": "code",
   "execution_count": 127,
   "metadata": {
    "colab": {},
    "colab_type": "code",
    "id": "BIZ-5VObKFiD"
   },
   "outputs": [],
   "source": [
    "# Check cost measure.\n",
    "\n",
    "def calc_costo(y_val, y_val_prob):\n",
    "  print('** Validación **')\n",
    "  y_pred = (y_val_prob > 0.5)\n",
    "  _custom_cost(y_val, y_pred)\n",
    "\n",
    "  #Plot probabilities.\n",
    "  print(y_val.shape, y_val_prob.shape)\n",
    "  mostrarPQ(y_val, y_val_prob)"
   ]
  },
  {
   "cell_type": "code",
   "execution_count": 128,
   "metadata": {
    "colab": {
     "base_uri": "https://localhost:8080/",
     "height": 1144
    },
    "colab_type": "code",
    "id": "5mZUzjVwLBgq",
    "outputId": "4992a1b2-adbd-4b8f-88d7-8a3a63eb95a1"
   },
   "outputs": [
    {
     "name": "stdout",
     "output_type": "stream",
     "text": [
      "Default Ratio : 0.5\n",
      "neural net con cost_coef= 1.0\n",
      "Train on 37294 samples, validate on 3000 samples\n",
      "Epoch 1/20\n",
      "37294/37294 [==============================] - 2s 48us/step - loss: 0.5906 - acc: 0.6858 - val_loss: 0.5612 - val_acc: 0.7503\n",
      "Epoch 2/20\n",
      "37294/37294 [==============================] - 1s 34us/step - loss: 0.5619 - acc: 0.7084 - val_loss: 0.5900 - val_acc: 0.7330\n",
      "Epoch 3/20\n",
      "37294/37294 [==============================] - 1s 33us/step - loss: 0.5539 - acc: 0.7118 - val_loss: 0.5384 - val_acc: 0.7683\n",
      "Epoch 4/20\n",
      "37294/37294 [==============================] - 1s 32us/step - loss: 0.5491 - acc: 0.7148 - val_loss: 0.5408 - val_acc: 0.7603\n",
      "Epoch 5/20\n",
      "37294/37294 [==============================] - 1s 32us/step - loss: 0.5452 - acc: 0.7188 - val_loss: 0.5540 - val_acc: 0.7600\n",
      "Epoch 6/20\n",
      "37294/37294 [==============================] - 1s 33us/step - loss: 0.5411 - acc: 0.7201 - val_loss: 0.5747 - val_acc: 0.7313\n",
      "Epoch 7/20\n",
      "37294/37294 [==============================] - 1s 33us/step - loss: 0.5380 - acc: 0.7229 - val_loss: 0.5343 - val_acc: 0.7583\n",
      "Epoch 8/20\n",
      "37294/37294 [==============================] - 1s 33us/step - loss: 0.5351 - acc: 0.7263 - val_loss: 0.5589 - val_acc: 0.7457\n",
      "Epoch 9/20\n",
      "37294/37294 [==============================] - 1s 33us/step - loss: 0.5317 - acc: 0.7276 - val_loss: 0.5700 - val_acc: 0.7270\n",
      "Epoch 10/20\n",
      "37294/37294 [==============================] - 1s 33us/step - loss: 0.5281 - acc: 0.7311 - val_loss: 0.5658 - val_acc: 0.7280\n",
      "Epoch 11/20\n",
      "37294/37294 [==============================] - 1s 32us/step - loss: 0.5246 - acc: 0.7333 - val_loss: 0.5690 - val_acc: 0.7293\n",
      "Epoch 12/20\n",
      "37294/37294 [==============================] - 1s 32us/step - loss: 0.5221 - acc: 0.7357 - val_loss: 0.5964 - val_acc: 0.6967\n",
      "Epoch 13/20\n",
      "37294/37294 [==============================] - 1s 35us/step - loss: 0.5205 - acc: 0.7373 - val_loss: 0.5880 - val_acc: 0.7050\n",
      "Epoch 14/20\n",
      "37294/37294 [==============================] - 1s 33us/step - loss: 0.5164 - acc: 0.7420 - val_loss: 0.5669 - val_acc: 0.7267\n",
      "Epoch 15/20\n",
      "37294/37294 [==============================] - 1s 35us/step - loss: 0.5145 - acc: 0.7415 - val_loss: 0.5471 - val_acc: 0.7433\n",
      "Epoch 16/20\n",
      "37294/37294 [==============================] - 1s 35us/step - loss: 0.5119 - acc: 0.7433 - val_loss: 0.5480 - val_acc: 0.7440\n",
      "Epoch 17/20\n",
      "37294/37294 [==============================] - 1s 35us/step - loss: 0.5094 - acc: 0.7458 - val_loss: 0.5479 - val_acc: 0.7410\n",
      "Epoch 18/20\n",
      "37294/37294 [==============================] - 1s 34us/step - loss: 0.5077 - acc: 0.7478 - val_loss: 0.5908 - val_acc: 0.6970\n",
      "Epoch 19/20\n",
      "37294/37294 [==============================] - 1s 34us/step - loss: 0.5061 - acc: 0.7485 - val_loss: 0.5409 - val_acc: 0.7380\n",
      "Epoch 20/20\n",
      "37294/37294 [==============================] - 1s 35us/step - loss: 0.5050 - acc: 0.7490 - val_loss: 0.5681 - val_acc: 0.7037\n",
      "** Validación **\n",
      "Exactitud:     0.7036666666666667\n",
      "Precisión:     0.39737991266375544\n",
      "Exhaustividad: 0.6957186544342507\n",
      "AUC:           0.7008005036877136\n",
      "Costo por cliente: 0.41\n",
      "(3000,) (3000,)\n"
     ]
    },
    {
     "data": {
      "image/png": "[encoded data removed]",
      "text/plain": [
       "<Figure size 432x288 with 1 Axes>"
      ]
     },
     "metadata": {
      "needs_background": "light"
     },
     "output_type": "display_data"
    }
   ],
   "source": [
    "# Run the NN\n",
    "_X_entren, _X_val = prep_datos_nn(X_entren_os_tr, X_val_tr, y_entren_os)\n",
    "y_val_prob = run_nn(_X_entren, y_entren_os, _X_val, y_val, num_epochs=20)\n",
    "calc_costo(y_val, y_val_prob)"
   ]
  },
  {
   "cell_type": "code",
   "execution_count": 130,
   "metadata": {},
   "outputs": [
    {
     "name": "stdout",
     "output_type": "stream",
     "text": [
      "Default Ratio : 0.5\n",
      "neural net con cost_coef= 5.0\n",
      "Train on 37294 samples, validate on 3000 samples\n",
      "Epoch 1/20\n",
      "37294/37294 [==============================] - 2s 51us/step - loss: 1.2120 - acc: 0.5206 - val_loss: 1.3396 - val_acc: 0.2787\n",
      "Epoch 2/20\n",
      "37294/37294 [==============================] - 1s 33us/step - loss: 1.1327 - acc: 0.5488 - val_loss: 1.3121 - val_acc: 0.3010\n",
      "Epoch 3/20\n",
      "37294/37294 [==============================] - 1s 33us/step - loss: 1.1181 - acc: 0.5633 - val_loss: 1.2940 - val_acc: 0.3347\n",
      "Epoch 4/20\n",
      "37294/37294 [==============================] - 1s 33us/step - loss: 1.1055 - acc: 0.5722 - val_loss: 1.3390 - val_acc: 0.3150\n",
      "Epoch 5/20\n",
      "37294/37294 [==============================] - 1s 33us/step - loss: 1.0920 - acc: 0.5812 - val_loss: 1.2965 - val_acc: 0.3380\n",
      "Epoch 6/20\n",
      "37294/37294 [==============================] - 1s 33us/step - loss: 1.0801 - acc: 0.5898 - val_loss: 1.3000 - val_acc: 0.3537\n",
      "Epoch 7/20\n",
      "37294/37294 [==============================] - 1s 33us/step - loss: 1.0687 - acc: 0.6003 - val_loss: 1.3029 - val_acc: 0.3560\n",
      "Epoch 8/20\n",
      "37294/37294 [==============================] - 1s 33us/step - loss: 1.0603 - acc: 0.6049 - val_loss: 1.2845 - val_acc: 0.3797\n",
      "Epoch 9/20\n",
      "37294/37294 [==============================] - 1s 34us/step - loss: 1.0499 - acc: 0.6103 - val_loss: 1.2732 - val_acc: 0.4250\n",
      "Epoch 10/20\n",
      "37294/37294 [==============================] - 1s 33us/step - loss: 1.0410 - acc: 0.6167 - val_loss: 1.2844 - val_acc: 0.3880\n",
      "Epoch 11/20\n",
      "37294/37294 [==============================] - 1s 33us/step - loss: 1.0331 - acc: 0.6215 - val_loss: 1.3907 - val_acc: 0.3607\n",
      "Epoch 12/20\n",
      "37294/37294 [==============================] - 1s 33us/step - loss: 1.0277 - acc: 0.6263 - val_loss: 1.3675 - val_acc: 0.3980\n",
      "Epoch 13/20\n",
      "37294/37294 [==============================] - 1s 33us/step - loss: 1.0218 - acc: 0.6285 - val_loss: 1.3373 - val_acc: 0.4207\n",
      "Epoch 14/20\n",
      "37294/37294 [==============================] - 1s 33us/step - loss: 1.0148 - acc: 0.6333 - val_loss: 1.3019 - val_acc: 0.4250\n",
      "Epoch 15/20\n",
      "37294/37294 [==============================] - 1s 33us/step - loss: 1.0076 - acc: 0.6373 - val_loss: 1.3800 - val_acc: 0.4063\n",
      "Epoch 16/20\n",
      "37294/37294 [==============================] - 1s 33us/step - loss: 1.0035 - acc: 0.6398 - val_loss: 1.3797 - val_acc: 0.4287\n",
      "Epoch 17/20\n",
      "37294/37294 [==============================] - 1s 34us/step - loss: 0.9953 - acc: 0.6463 - val_loss: 1.3728 - val_acc: 0.4217\n",
      "Epoch 18/20\n",
      "37294/37294 [==============================] - 1s 35us/step - loss: 0.9922 - acc: 0.6468 - val_loss: 1.3779 - val_acc: 0.4577\n",
      "Epoch 19/20\n",
      "37294/37294 [==============================] - 1s 34us/step - loss: 0.9862 - acc: 0.6516 - val_loss: 1.4109 - val_acc: 0.4267\n",
      "Epoch 20/20\n",
      "37294/37294 [==============================] - 1s 34us/step - loss: 0.9839 - acc: 0.6537 - val_loss: 1.3814 - val_acc: 0.4717\n",
      "** Validación **\n",
      "Exactitud:     0.4716666666666667\n",
      "Precisión:     0.2794883941260066\n",
      "Exhaustividad: 0.9021406727828746\n",
      "AUC:           0.6269015384374731\n",
      "Costo por cliente: 0.417\n",
      "(3000,) (3000,)\n"
     ]
    },
    {
     "data": {
      "image/png": "[encoded data removed]",
      "text/plain": [
       "<Figure size 432x288 with 1 Axes>"
      ]
     },
     "metadata": {
      "needs_background": "light"
     },
     "output_type": "display_data"
    }
   ],
   "source": [
    "# Run the NN with cost coefficient = 5.0.  Should see something! \n",
    "# Aumento grande en exhaustividad, pero precisión bajó mucho.\n",
    "_X_entren, _X_val = prep_datos_nn(X_entren_os_tr, X_val_tr, y_entren_os)\n",
    "y_val_prob = run_nn(_X_entren, y_entren_os, _X_val, y_val, num_epochs=20, coef=5.0)\n",
    "calc_costo(y_val, y_val_prob)"
   ]
  },
  {
   "cell_type": "code",
   "execution_count": 132,
   "metadata": {},
   "outputs": [
    {
     "name": "stdout",
     "output_type": "stream",
     "text": [
      "Default Ratio : 0.5\n",
      "neural net con cost_coef= 2.5\n",
      "Train on 37294 samples, validate on 3000 samples\n",
      "Epoch 1/20\n",
      "37294/37294 [==============================] - 2s 57us/step - loss: 0.8800 - acc: 0.6285 - val_loss: 0.9400 - val_acc: 0.4633\n",
      "Epoch 2/20\n",
      "37294/37294 [==============================] - 1s 38us/step - loss: 0.8484 - acc: 0.6398 - val_loss: 0.9506 - val_acc: 0.4577\n",
      "Epoch 3/20\n",
      "37294/37294 [==============================] - 1s 36us/step - loss: 0.8371 - acc: 0.6475 - val_loss: 0.8757 - val_acc: 0.5510\n",
      "Epoch 4/20\n",
      "37294/37294 [==============================] - 1s 35us/step - loss: 0.8285 - acc: 0.6550 - val_loss: 0.9274 - val_acc: 0.4640\n",
      "Epoch 5/20\n",
      "37294/37294 [==============================] - 1s 35us/step - loss: 0.8198 - acc: 0.6630 - val_loss: 0.9309 - val_acc: 0.4777\n",
      "Epoch 6/20\n",
      "37294/37294 [==============================] - 1s 35us/step - loss: 0.8125 - acc: 0.6654 - val_loss: 0.8848 - val_acc: 0.5317\n",
      "Epoch 7/20\n",
      "37294/37294 [==============================] - 1s 35us/step - loss: 0.8054 - acc: 0.6725 - val_loss: 0.9544 - val_acc: 0.4623\n",
      "Epoch 8/20\n",
      "37294/37294 [==============================] - 1s 36us/step - loss: 0.7990 - acc: 0.6747 - val_loss: 0.9320 - val_acc: 0.5113\n",
      "Epoch 9/20\n",
      "37294/37294 [==============================] - 1s 35us/step - loss: 0.7925 - acc: 0.6801 - val_loss: 0.8836 - val_acc: 0.5480\n",
      "Epoch 10/20\n",
      "37294/37294 [==============================] - 1s 35us/step - loss: 0.7855 - acc: 0.6852 - val_loss: 0.9152 - val_acc: 0.5417\n",
      "Epoch 11/20\n",
      "37294/37294 [==============================] - 1s 35us/step - loss: 0.7795 - acc: 0.6904 - val_loss: 0.9678 - val_acc: 0.4973\n",
      "Epoch 12/20\n",
      "37294/37294 [==============================] - 1s 35us/step - loss: 0.7726 - acc: 0.6924 - val_loss: 0.9258 - val_acc: 0.5320\n",
      "Epoch 13/20\n",
      "37294/37294 [==============================] - 1s 35us/step - loss: 0.7668 - acc: 0.6938 - val_loss: 0.9002 - val_acc: 0.5657\n",
      "Epoch 14/20\n",
      "37294/37294 [==============================] - 1s 35us/step - loss: 0.7631 - acc: 0.6976 - val_loss: 0.9656 - val_acc: 0.5240\n",
      "Epoch 15/20\n",
      "37294/37294 [==============================] - 1s 35us/step - loss: 0.7572 - acc: 0.7016 - val_loss: 0.9389 - val_acc: 0.5487\n",
      "Epoch 16/20\n",
      "37294/37294 [==============================] - 1s 36us/step - loss: 0.7526 - acc: 0.7048 - val_loss: 0.9678 - val_acc: 0.5390\n",
      "Epoch 17/20\n",
      "37294/37294 [==============================] - 1s 35us/step - loss: 0.7464 - acc: 0.7093 - val_loss: 0.9848 - val_acc: 0.5307\n",
      "Epoch 18/20\n",
      "37294/37294 [==============================] - 1s 37us/step - loss: 0.7451 - acc: 0.7102 - val_loss: 0.9645 - val_acc: 0.5327\n",
      "Epoch 19/20\n",
      "37294/37294 [==============================] - 1s 38us/step - loss: 0.7383 - acc: 0.7120 - val_loss: 0.9453 - val_acc: 0.5493\n",
      "Epoch 20/20\n",
      "37294/37294 [==============================] - 1s 35us/step - loss: 0.7355 - acc: 0.7159 - val_loss: 0.9985 - val_acc: 0.5253\n",
      "** Validación **\n",
      "Exactitud:     0.5253333333333333\n",
      "Precisión:     0.29821802935010483\n",
      "Exhaustividad: 0.8700305810397554\n",
      "AUC:           0.6496359213809177\n",
      "Costo por cliente: 0.3983333333333333\n",
      "(3000,) (3000,)\n"
     ]
    },
    {
     "data": {
      "image/png": "[encoded data removed]",
      "text/plain": [
       "<Figure size 432x288 with 1 Axes>"
      ]
     },
     "metadata": {
      "needs_background": "light"
     },
     "output_type": "display_data"
    }
   ],
   "source": [
    "# Run the NN - with dummy variables.\n",
    "_X_entren, _X_val = prep_datos_nn(X_entren_os_tr_pago, X_val_tr_pago, y_entren_os)\n",
    "y_val_prob = run_nn(_X_entren, y_entren_os, _X_val, y_val, num_epochs=20, coef=2.5)\n",
    "calc_costo(y_val, y_val_prob)"
   ]
  },
  {
   "cell_type": "code",
   "execution_count": 0,
   "metadata": {
    "colab": {
     "base_uri": "https://localhost:8080/",
     "height": 1144
    },
    "colab_type": "code",
    "id": "4cJOMbjf5EZW",
    "outputId": "4df0ec22-2b67-4d4a-80d0-234f6cb5a7ba"
   },
   "outputs": [
    {
     "name": "stdout",
     "output_type": "stream",
     "text": [
      "Default Ratio : 0.5\n",
      "Train on 37322 samples, validate on 3000 samples\n",
      "Epoch 1/20\n",
      "37322/37322 [==============================] - 2s 61us/step - loss: 0.6581 - acc: 0.6774 - val_loss: 0.6749 - val_acc: 0.6797\n",
      "Epoch 2/20\n",
      "37322/37322 [==============================] - 2s 49us/step - loss: 0.6268 - acc: 0.7058 - val_loss: 0.6485 - val_acc: 0.7113\n",
      "Epoch 3/20\n",
      "37322/37322 [==============================] - 2s 48us/step - loss: 0.6144 - acc: 0.7128 - val_loss: 0.6390 - val_acc: 0.6957\n",
      "Epoch 4/20\n",
      "37322/37322 [==============================] - 2s 47us/step - loss: 0.6060 - acc: 0.7198 - val_loss: 0.6121 - val_acc: 0.7170\n",
      "Epoch 5/20\n",
      "37322/37322 [==============================] - 2s 48us/step - loss: 0.6003 - acc: 0.7232 - val_loss: 0.5980 - val_acc: 0.7333\n",
      "Epoch 6/20\n",
      "37322/37322 [==============================] - 2s 47us/step - loss: 0.5951 - acc: 0.7279 - val_loss: 0.6453 - val_acc: 0.6787\n",
      "Epoch 7/20\n",
      "37322/37322 [==============================] - 2s 46us/step - loss: 0.5909 - acc: 0.7292 - val_loss: 0.6272 - val_acc: 0.6960\n",
      "Epoch 8/20\n",
      "37322/37322 [==============================] - 2s 46us/step - loss: 0.5864 - acc: 0.7320 - val_loss: 0.6585 - val_acc: 0.6780\n",
      "Epoch 9/20\n",
      "37322/37322 [==============================] - 2s 46us/step - loss: 0.5840 - acc: 0.7327 - val_loss: 0.6492 - val_acc: 0.6747\n",
      "Epoch 10/20\n",
      "37322/37322 [==============================] - 2s 46us/step - loss: 0.5804 - acc: 0.7346 - val_loss: 0.6436 - val_acc: 0.6930\n",
      "Epoch 11/20\n",
      "37322/37322 [==============================] - 2s 47us/step - loss: 0.5771 - acc: 0.7358 - val_loss: 0.6221 - val_acc: 0.7020\n",
      "Epoch 12/20\n",
      "37322/37322 [==============================] - 2s 46us/step - loss: 0.5750 - acc: 0.7378 - val_loss: 0.6259 - val_acc: 0.6953\n",
      "Epoch 13/20\n",
      "37322/37322 [==============================] - 2s 47us/step - loss: 0.5719 - acc: 0.7395 - val_loss: 0.6392 - val_acc: 0.6800\n",
      "Epoch 14/20\n",
      "37322/37322 [==============================] - 2s 47us/step - loss: 0.5697 - acc: 0.7417 - val_loss: 0.6233 - val_acc: 0.6970\n",
      "Epoch 15/20\n",
      "37322/37322 [==============================] - 2s 47us/step - loss: 0.5677 - acc: 0.7432 - val_loss: 0.6599 - val_acc: 0.6667\n",
      "Epoch 16/20\n",
      "37322/37322 [==============================] - 2s 48us/step - loss: 0.5656 - acc: 0.7449 - val_loss: 0.6696 - val_acc: 0.6627\n",
      "Epoch 17/20\n",
      "37322/37322 [==============================] - 2s 48us/step - loss: 0.5624 - acc: 0.7461 - val_loss: 0.6317 - val_acc: 0.6933\n",
      "Epoch 18/20\n",
      "37322/37322 [==============================] - 2s 48us/step - loss: 0.5618 - acc: 0.7462 - val_loss: 0.6147 - val_acc: 0.7070\n",
      "Epoch 19/20\n",
      "37322/37322 [==============================] - 2s 47us/step - loss: 0.5594 - acc: 0.7485 - val_loss: 0.6146 - val_acc: 0.7057\n",
      "Epoch 20/20\n",
      "37322/37322 [==============================] - 2s 47us/step - loss: 0.5564 - acc: 0.7507 - val_loss: 0.6500 - val_acc: 0.6827\n",
      "** Validación **\n",
      "Exactitud:     0.6826666666666666\n",
      "Precisión:     0.38379705400981995\n",
      "Exhaustividad: 0.7020958083832335\n",
      "AUC:           0.68959850453467\n",
      "Costo por cliente: 0.42633333333333334\n",
      "(3000,) (3000,)\n"
     ]
    },
    {
     "data": {
      "image/png": "[encoded data removed]",
      "text/plain": [
       "<Figure size 432x288 with 1 Axes>"
      ]
     },
     "metadata": {
      "tags": []
     },
     "output_type": "display_data"
    }
   ],
   "source": [
    "# Run the NN - without sqrt transform\n",
    "_X_entren, _X_val = prep_datos_nn(X_entren_os, X_val, y_entren_os)\n",
    "y_val_prob = run_nn(_X_entren, y_entren_os, _X_val, y_val, num_epochs=20)\n",
    "calc_costo(y_val, y_val_prob)"
   ]
  }
 ],
 "metadata": {
  "colab": {
   "collapsed_sections": [
    "6a894vrrKuMy",
    "hM7PxZ-xPtCS",
    "GjPPcW3sP0vY",
    "fwbBX_DCQHuP"
   ],
   "name": "CreditDefault.ipynb",
   "provenance": [],
   "toc_visible": true,
   "version": "0.3.2"
  },
  "kernelspec": {
   "display_name": "Python 3",
   "language": "python",
   "name": "python3"
  },
  "language_info": {
   "codemirror_mode": {
    "name": "ipython",
    "version": 3
   },
   "file_extension": ".py",
   "mimetype": "text/x-python",
   "name": "python",
   "nbconvert_exporter": "python",
   "pygments_lexer": "ipython3",
   "version": "3.7.3"
  }
 },
 "nbformat": 4,
 "nbformat_minor": 1
}
