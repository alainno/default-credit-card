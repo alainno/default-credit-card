{
 "cells": [
  {
   "cell_type": "code",
   "execution_count": 1,
   "metadata": {},
   "outputs": [],
   "source": [
    "# define the function to estimate empirical probabilities.\n",
    "# returns predicted probability (trimmed by n on both sides)\n",
    "# and empirical probability calculated by Yeh's SMM method.\n",
    "import numpy as np\n",
    "import pandas as pd\n",
    "\n",
    "def getPQprobs(y, y_prob, n=50):\n",
    "    frame = { 'y': y, 'y_prob': y_prob } \n",
    "    df = pd.DataFrame(frame)\n",
    "    df = df.sort_values(['y_prob'])\n",
    "    y = df.y\n",
    "    y_prob = df.y_prob\n",
    "    prob_smm = []\n",
    "    denom = 2*n + 1\n",
    "    for i in range(n, len(y)-n):\n",
    "        p = y[i-n:i+n+1].sum()/denom\n",
    "        prob_smm.append(p)\n",
    "    prob_pred = np.array(y_prob[n:len(y)-n])\n",
    "    prob_smm = np.array(prob_smm)\n",
    "    return (prob_pred, prob_smm)\n",
    "\n",
    "# plot actual versus predicted probabilities sorted ascending on predicted.\n",
    "import matplotlib.pyplot as plt\n",
    "#%matplotlib inline\n",
    "def plotPQ(prob_emp, prob_pred):\n",
    "    plt.rcParams.update({'font.size': 9})\n",
    "    plt.plot(prob_pred, prob_emp, label= (\"Empirical x Prediccion\") )\n",
    "    plt.xlabel(\"Prob Predicción\")\n",
    "    plt.ylabel(\"Prob Empirical\")\n",
    "    from scipy.stats import entropy\n",
    "    kld = entropy(pk=prob_emp, qk=prob_pred)\n",
    "    from scipy.spatial import distance\n",
    "    jsd = distance.jensenshannon(prob_emp, prob_pred)\n",
    "    plt.title((\"Curva Probabilidades (KL div = %.4f, JS div = %.4f)\" % (kld, jsd)))\n",
    "\n",
    "# Combine the procedures\n",
    "def mostrarPQ(y, y_prob):\n",
    "    prob_pred, prob_smm = getPQprobs(y, y_prob)\n",
    "    plotPQ(prob_smm, prob_pred)"
   ]
  }
 ],
 "metadata": {
  "kernelspec": {
   "display_name": "Python 3",
   "language": "python",
   "name": "python3"
  },
  "language_info": {
   "codemirror_mode": {
    "name": "ipython",
    "version": 3
   },
   "file_extension": ".py",
   "mimetype": "text/x-python",
   "name": "python",
   "nbconvert_exporter": "python",
   "pygments_lexer": "ipython3",
   "version": "3.7.3"
  }
 },
 "nbformat": 4,
 "nbformat_minor": 2
}
