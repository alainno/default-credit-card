{
 "cells": [
  {
   "cell_type": "code",
   "execution_count": 5,
   "metadata": {},
   "outputs": [
    {
     "data": {
      "text/plain": [
       "'\\n# define the function to estimate empirical probabilities.\\n# returns predicted probability (trimmed by n on both sides)\\n# and empirical probability calculated by Yeh\\'s SMM method.\\nimport numpy as np\\ndef getPQprobs(y, y_prob, n=50):\\n    frame = { \\'y\\': y, \\'y_prob\\': y_prob } \\n    df = pd.DataFrame(frame)\\n    df = df.sort_values([\\'y_prob\\'])\\n    y = df.y\\n    y_prob = df.y_prob\\n    prob_smm = []\\n    denom = 2*n + 1\\n    for i in range(n, len(y)-n):\\n        p = y[i-n:i+n+1].sum()/denom\\n        prob_smm.append(p)\\n    prob_pred = np.array(y_prob[n:len(y)-n])\\n    prob_smm = np.array(prob_smm)\\n    return (prob_pred, prob_smm)\\n\\n# plot actual versus predicted probabilities sorted ascending on predicted.\\nimport matplotlib.pyplot as plt\\n%matplotlib inline\\ndef plotPQ(prob_emp, prob_pred):\\n    plt.rcParams.update({\\'font.size\\': 9})\\n    plt.plot(prob_pred, prob_emp, label= (\"Empirical x Prediccion\") )\\n    plt.xlabel(\"Prob Predicción\")\\n    plt.ylabel(\"Prob Empirical\")\\n    from scipy.stats import entropy\\n    kld = entropy(pk=prob_emp, qk=prob_pred)\\n    from scipy.spatial import distance\\n    jsd = distance.jensenshannon(prob_emp, prob_pred)\\n    plt.title((\"Curva Probabilidades (KL div = %.4f, JS div = %.4f)\" % (kld, jsd)))\\n\\n# Combine the procedures\\ndef mostrarPQ(y, y_prob):\\n    prob_pred, prob_smm = getPQprobs(y, y_prob)\\n    plotPQ(prob_smm, prob_pred)\\n'"
      ]
     },
     "execution_count": 5,
     "metadata": {},
     "output_type": "execute_result"
    }
   ],
   "source": [
    "# Función de costo y exatitud.\n",
    "import collections\n",
    "from sklearn import metrics\n",
    "from sklearn.metrics import roc_auc_score\n",
    "\n",
    "\n",
    "def custom_cost(modelo, X, y, printout=True):\n",
    "    predicciones = modelo.predict(X)\n",
    "    return _custom_cost(y, predicciones, printout)\n",
    "    \n",
    "def _custom_cost(y, predicciones, printout=True):\n",
    "\n",
    "    accuracy = metrics.accuracy_score(y, predicciones)\n",
    "    precision = metrics.precision_score(y, predicciones)\n",
    "    recall = metrics.recall_score(y, predicciones)\n",
    "\n",
    "    matriz_confusion = metrics.confusion_matrix(y, predicciones)\n",
    "    # Mapping from http://scikit-learn.org/stable/modules/generated/sklearn.metrics.confusion_matrix.html\n",
    "    # 0 is the negative category.\n",
    "    # rows are the actual values.\n",
    "    # columns are the predicted values.\n",
    "    # So it is just the opposite orientation of +/-.\n",
    "    TN = matriz_confusion[0,0]\n",
    "    FN = matriz_confusion[1,0]\n",
    "    FP = matriz_confusion[0,1]\n",
    "    TP = matriz_confusion[1,1]\n",
    "    \n",
    "    AUC = roc_auc_score(y, predicciones)\n",
    "\n",
    "    # From this we can calculate the other measures.\n",
    "    # If cost for each state, we can calculate overall cost.\n",
    "    # Coefficients de costo.\n",
    "    cTP = -1; cFN = 5; cFP = 1; cTN = 0\n",
    "    todo_costo = cFN*FN + cFP*FP + cTN*TN + cTP*TP\n",
    "    cost = todo_costo/len(y)\n",
    "    \n",
    "    if printout:\n",
    "        print('Exactitud:    ',  accuracy)\n",
    "        print('Precisión:    ', precision)\n",
    "        print('Exhaustividad:', recall)\n",
    "        print('AUC:          ', AUC)\n",
    "        print('Costo por cliente:', cost)\n",
    "            \n",
    "    quality = collections.namedtuple('Quality', 'accuracy, precision, recall, AUC, cost')\n",
    "    return quality(accuracy, precision, recall, AUC, cost)\n"
   ]
  }
 ],
 "metadata": {
  "kernelspec": {
   "display_name": "Python 3",
   "language": "python",
   "name": "python3"
  },
  "language_info": {
   "codemirror_mode": {
    "name": "ipython",
    "version": 3
   },
   "file_extension": ".py",
   "mimetype": "text/x-python",
   "name": "python",
   "nbconvert_exporter": "python",
   "pygments_lexer": "ipython3",
   "version": "3.7.3"
  }
 },
 "nbformat": 4,
 "nbformat_minor": 2
}
